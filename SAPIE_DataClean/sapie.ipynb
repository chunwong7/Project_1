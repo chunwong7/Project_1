{
 "nbformat": 4,
 "nbformat_minor": 2,
 "metadata": {
  "language_info": {
   "name": "python",
   "codemirror_mode": {
    "name": "ipython",
    "version": 3
   },
   "version": "3.7.6-final"
  },
  "orig_nbformat": 2,
  "file_extension": ".py",
  "mimetype": "text/x-python",
  "name": "python",
  "npconvert_exporter": "python",
  "pygments_lexer": "ipython3",
  "version": 3,
  "kernelspec": {
   "name": "python37664bitpythondataconda9adbda39bd454e7faf6cd0d67b7317a9",
   "display_name": "Python 3.7.6 64-bit ('PythonData': conda)"
  }
 },
 "cells": [
  {
   "cell_type": "code",
   "execution_count": 29,
   "metadata": {},
   "outputs": [],
   "source": [
    "#Imort Dependencies\n",
    "import pandas as pd"
   ]
  },
  {
   "cell_type": "code",
   "execution_count": 30,
   "metadata": {},
   "outputs": [
    {
     "data": {
      "text/html": "<div>\n<style scoped>\n    .dataframe tbody tr th:only-of-type {\n        vertical-align: middle;\n    }\n\n    .dataframe tbody tr th {\n        vertical-align: top;\n    }\n\n    .dataframe thead th {\n        text-align: right;\n    }\n</style>\n<table border=\"1\" class=\"dataframe\">\n  <thead>\n    <tr style=\"text-align: right;\">\n      <th></th>\n      <th>State FIPS</th>\n      <th>County FIPS</th>\n      <th>Postal Code</th>\n      <th>Name</th>\n      <th>Poverty Estimate All Ages</th>\n      <th>90% CI Lower Bound</th>\n      <th>90% CI Upper Bound</th>\n      <th>Poverty Percent All Ages</th>\n      <th>90% CI Lower Bound.1</th>\n      <th>90% CI Upper Bound.1</th>\n      <th>...</th>\n      <th>90% CI Upper Bound.5</th>\n      <th>Median Household Income</th>\n      <th>90% CI Lower Bound.6</th>\n      <th>90% CI Upper Bound.6</th>\n      <th>Poverty Estimate Ages 0-4</th>\n      <th>90% CI Lower Bound.7</th>\n      <th>90% CI Upper Bound.7</th>\n      <th>Poverty Percent Ages 0-4</th>\n      <th>90% CI Lower Bound.8</th>\n      <th>90% CI Upper Bound.8</th>\n    </tr>\n  </thead>\n  <tbody>\n    <tr>\n      <th>0</th>\n      <td>0</td>\n      <td>0</td>\n      <td>US</td>\n      <td>United States</td>\n      <td>35861170</td>\n      <td>35190401</td>\n      <td>36531939</td>\n      <td>12.5</td>\n      <td>12.2</td>\n      <td>12.7</td>\n      <td>...</td>\n      <td>16.6</td>\n      <td>43318</td>\n      <td>43009</td>\n      <td>43627</td>\n      <td>4021366.0</td>\n      <td>3817517.0</td>\n      <td>4225215.0</td>\n      <td>20.3</td>\n      <td>19.3</td>\n      <td>21.4</td>\n    </tr>\n    <tr>\n      <th>1</th>\n      <td>1</td>\n      <td>0</td>\n      <td>AL</td>\n      <td>Alabama</td>\n      <td>677455</td>\n      <td>644647</td>\n      <td>710263</td>\n      <td>15.3</td>\n      <td>14.5</td>\n      <td>16</td>\n      <td>...</td>\n      <td>22.5</td>\n      <td>36131</td>\n      <td>34659</td>\n      <td>37602</td>\n      <td>72477.0</td>\n      <td>62361.0</td>\n      <td>82594.0</td>\n      <td>24.7</td>\n      <td>21.3</td>\n      <td>28.2</td>\n    </tr>\n    <tr>\n      <th>2</th>\n      <td>1</td>\n      <td>1</td>\n      <td>AL</td>\n      <td>Autauga County</td>\n      <td>4926</td>\n      <td>3815</td>\n      <td>6038</td>\n      <td>10.4</td>\n      <td>8.1</td>\n      <td>12.7</td>\n      <td>...</td>\n      <td>18.4</td>\n      <td>44241</td>\n      <td>41547</td>\n      <td>47109</td>\n      <td>NaN</td>\n      <td>NaN</td>\n      <td>NaN</td>\n      <td>NaN</td>\n      <td>NaN</td>\n      <td>NaN</td>\n    </tr>\n    <tr>\n      <th>3</th>\n      <td>1</td>\n      <td>3</td>\n      <td>AL</td>\n      <td>Baldwin County</td>\n      <td>15753</td>\n      <td>12234</td>\n      <td>19273</td>\n      <td>10.1</td>\n      <td>7.9</td>\n      <td>12.4</td>\n      <td>...</td>\n      <td>18</td>\n      <td>41961</td>\n      <td>39479</td>\n      <td>44600</td>\n      <td>NaN</td>\n      <td>NaN</td>\n      <td>NaN</td>\n      <td>NaN</td>\n      <td>NaN</td>\n      <td>NaN</td>\n    </tr>\n    <tr>\n      <th>4</th>\n      <td>1</td>\n      <td>5</td>\n      <td>AL</td>\n      <td>Barbour County</td>\n      <td>5717</td>\n      <td>4411</td>\n      <td>7022</td>\n      <td>22.2</td>\n      <td>17.1</td>\n      <td>27.3</td>\n      <td>...</td>\n      <td>37.9</td>\n      <td>26062</td>\n      <td>24432</td>\n      <td>27801</td>\n      <td>NaN</td>\n      <td>NaN</td>\n      <td>NaN</td>\n      <td>NaN</td>\n      <td>NaN</td>\n      <td>NaN</td>\n    </tr>\n  </tbody>\n</table>\n<p>5 rows × 31 columns</p>\n</div>",
      "text/plain": "   State FIPS  County FIPS Postal Code            Name  \\\n0           0            0          US   United States   \n1           1            0          AL         Alabama   \n2           1            1          AL  Autauga County   \n3           1            3          AL  Baldwin County   \n4           1            5          AL  Barbour County   \n\n   Poverty Estimate All Ages 90% CI Lower Bound 90% CI Upper Bound  \\\n0                   35861170           35190401           36531939   \n1                     677455             644647             710263   \n2                       4926               3815               6038   \n3                      15753              12234              19273   \n4                       5717               4411               7022   \n\n   Poverty Percent All Ages 90% CI Lower Bound.1 90% CI Upper Bound.1  ...  \\\n0                      12.5                 12.2                 12.7  ...   \n1                      15.3                 14.5                   16  ...   \n2                      10.4                  8.1                 12.7  ...   \n3                      10.1                  7.9                 12.4  ...   \n4                      22.2                 17.1                 27.3  ...   \n\n   90% CI Upper Bound.5 Median Household Income 90% CI Lower Bound.6  \\\n0                  16.6                   43318                43009   \n1                  22.5                   36131                34659   \n2                  18.4                   44241                41547   \n3                    18                   41961                39479   \n4                  37.9                   26062                24432   \n\n   90% CI Upper Bound.6 Poverty Estimate Ages 0-4 90% CI Lower Bound.7  \\\n0                 43627                 4021366.0            3817517.0   \n1                 37602                   72477.0              62361.0   \n2                 47109                       NaN                  NaN   \n3                 44600                       NaN                  NaN   \n4                 27801                       NaN                  NaN   \n\n   90% CI Upper Bound.7 Poverty Percent Ages 0-4 90% CI Lower Bound.8  \\\n0             4225215.0                     20.3                 19.3   \n1               82594.0                     24.7                 21.3   \n2                   NaN                      NaN                  NaN   \n3                   NaN                      NaN                  NaN   \n4                   NaN                      NaN                  NaN   \n\n   90% CI Upper Bound.8  \n0                  21.4  \n1                  28.2  \n2                   NaN  \n3                   NaN  \n4                   NaN  \n\n[5 rows x 31 columns]"
     },
     "execution_count": 30,
     "metadata": {},
     "output_type": "execute_result"
    }
   ],
   "source": [
    "#Read in SAPIE data into an array of dfs\n",
    "years = range(3, 19)\n",
    "year_dfs = []\n",
    "for year in years:\n",
    "    year = str(year)\n",
    "    if len(year) == 1:\n",
    "        year = f'0{year}'\n",
    "    df = pd.read_csv('../sapie_data_csv/est03all.csv', header=1)\n",
    "    year_dfs.append(df)\n",
    "year_dfs[0].head()"
   ]
  },
  {
   "cell_type": "code",
   "execution_count": 31,
   "metadata": {},
   "outputs": [
    {
     "data": {
      "text/html": "<div>\n<style scoped>\n    .dataframe tbody tr th:only-of-type {\n        vertical-align: middle;\n    }\n\n    .dataframe tbody tr th {\n        vertical-align: top;\n    }\n\n    .dataframe thead th {\n        text-align: right;\n    }\n</style>\n<table border=\"1\" class=\"dataframe\">\n  <thead>\n    <tr style=\"text-align: right;\">\n      <th></th>\n      <th>State County FIPS</th>\n      <th>Postal Code</th>\n      <th>Name</th>\n      <th>Median Household Income</th>\n    </tr>\n  </thead>\n  <tbody>\n    <tr>\n      <th>0</th>\n      <td>1 , 1</td>\n      <td>AL</td>\n      <td>Autauga County</td>\n      <td>44241</td>\n    </tr>\n    <tr>\n      <th>1</th>\n      <td>1 , 3</td>\n      <td>AL</td>\n      <td>Baldwin County</td>\n      <td>41961</td>\n    </tr>\n    <tr>\n      <th>2</th>\n      <td>1 , 5</td>\n      <td>AL</td>\n      <td>Barbour County</td>\n      <td>26062</td>\n    </tr>\n    <tr>\n      <th>3</th>\n      <td>1 , 7</td>\n      <td>AL</td>\n      <td>Bibb County</td>\n      <td>32924</td>\n    </tr>\n    <tr>\n      <th>4</th>\n      <td>1 , 9</td>\n      <td>AL</td>\n      <td>Blount County</td>\n      <td>37758</td>\n    </tr>\n    <tr>\n      <th>...</th>\n      <td>...</td>\n      <td>...</td>\n      <td>...</td>\n      <td>...</td>\n    </tr>\n    <tr>\n      <th>3136</th>\n      <td>56 , 37</td>\n      <td>WY</td>\n      <td>Sweetwater County</td>\n      <td>52541</td>\n    </tr>\n    <tr>\n      <th>3137</th>\n      <td>56 , 39</td>\n      <td>WY</td>\n      <td>Teton County</td>\n      <td>57485</td>\n    </tr>\n    <tr>\n      <th>3138</th>\n      <td>56 , 41</td>\n      <td>WY</td>\n      <td>Uinta County</td>\n      <td>48658</td>\n    </tr>\n    <tr>\n      <th>3139</th>\n      <td>56 , 43</td>\n      <td>WY</td>\n      <td>Washakie County</td>\n      <td>40357</td>\n    </tr>\n    <tr>\n      <th>3140</th>\n      <td>56 , 45</td>\n      <td>WY</td>\n      <td>Weston County</td>\n      <td>39383</td>\n    </tr>\n  </tbody>\n</table>\n<p>3141 rows × 4 columns</p>\n</div>",
      "text/plain": "     State County FIPS Postal Code               Name Median Household Income\n0                1 , 1          AL     Autauga County                   44241\n1                1 , 3          AL     Baldwin County                   41961\n2                1 , 5          AL     Barbour County                   26062\n3                1 , 7          AL        Bibb County                   32924\n4                1 , 9          AL      Blount County                   37758\n...                ...         ...                ...                     ...\n3136           56 , 37          WY  Sweetwater County                   52541\n3137           56 , 39          WY       Teton County                   57485\n3138           56 , 41          WY       Uinta County                   48658\n3139           56 , 43          WY    Washakie County                   40357\n3140           56 , 45          WY      Weston County                   39383\n\n[3141 rows x 4 columns]"
     },
     "execution_count": 31,
     "metadata": {},
     "output_type": "execute_result"
    }
   ],
   "source": [
    "#Filter out unwanted data\n",
    "dfs = []\n",
    "years = range(3, 19)\n",
    "for df in year_dfs:    \n",
    "    df_edit = df[['State FIPS', 'County FIPS', 'Postal Code', 'Name', 'Median Household Income']]\n",
    "    df_edit = df_edit.loc[df_edit['County FIPS'] != 0]\n",
    "    df_edit['State County FIPS'] = df_edit['State FIPS'].astype(str) + ' , ' + df_edit['County FIPS'].astype(str)\n",
    "    df_edit = df_edit[['State County FIPS', 'Postal Code', 'Name', 'Median Household Income']]\n",
    "    df_edit['State County FIPS'] = df_edit['State County FIPS'].astype(str)\n",
    "    df_edit = df_edit.reset_index(drop=True)\n",
    "    dfs.append(df_edit)\n",
    "dfs[0]"
   ]
  },
  {
   "cell_type": "code",
   "execution_count": 32,
   "metadata": {},
   "outputs": [],
   "source": [
    "#Save new dfs as csvs\n",
    "for df in dfs:\n",
    "    for year in years:\n",
    "        year = str(year)\n",
    "        if len(year) == 1:\n",
    "            year = f'0{year}'\n",
    "        df.to_csv(f'ByYear/{year}SAPIE.csv')"
   ]
  },
  {
   "cell_type": "code",
   "execution_count": 33,
   "metadata": {},
   "outputs": [
    {
     "data": {
      "text/html": "<div>\n<style scoped>\n    .dataframe tbody tr th:only-of-type {\n        vertical-align: middle;\n    }\n\n    .dataframe tbody tr th {\n        vertical-align: top;\n    }\n\n    .dataframe thead th {\n        text-align: right;\n    }\n</style>\n<table border=\"1\" class=\"dataframe\">\n  <thead>\n    <tr style=\"text-align: right;\">\n      <th></th>\n      <th>State County FIPS</th>\n      <th>Postal Code</th>\n      <th>Name</th>\n      <th>Median Household Income</th>\n      <th>Year</th>\n    </tr>\n  </thead>\n  <tbody>\n    <tr>\n      <th>0</th>\n      <td>1 , 1</td>\n      <td>AL</td>\n      <td>Autauga County</td>\n      <td>44241</td>\n      <td>2003</td>\n    </tr>\n    <tr>\n      <th>1</th>\n      <td>1 , 3</td>\n      <td>AL</td>\n      <td>Baldwin County</td>\n      <td>41961</td>\n      <td>2003</td>\n    </tr>\n    <tr>\n      <th>2</th>\n      <td>1 , 5</td>\n      <td>AL</td>\n      <td>Barbour County</td>\n      <td>26062</td>\n      <td>2003</td>\n    </tr>\n    <tr>\n      <th>3</th>\n      <td>1 , 7</td>\n      <td>AL</td>\n      <td>Bibb County</td>\n      <td>32924</td>\n      <td>2003</td>\n    </tr>\n    <tr>\n      <th>4</th>\n      <td>1 , 9</td>\n      <td>AL</td>\n      <td>Blount County</td>\n      <td>37758</td>\n      <td>2003</td>\n    </tr>\n    <tr>\n      <th>...</th>\n      <td>...</td>\n      <td>...</td>\n      <td>...</td>\n      <td>...</td>\n      <td>...</td>\n    </tr>\n    <tr>\n      <th>3136</th>\n      <td>56 , 37</td>\n      <td>WY</td>\n      <td>Sweetwater County</td>\n      <td>52541</td>\n      <td>2003</td>\n    </tr>\n    <tr>\n      <th>3137</th>\n      <td>56 , 39</td>\n      <td>WY</td>\n      <td>Teton County</td>\n      <td>57485</td>\n      <td>2003</td>\n    </tr>\n    <tr>\n      <th>3138</th>\n      <td>56 , 41</td>\n      <td>WY</td>\n      <td>Uinta County</td>\n      <td>48658</td>\n      <td>2003</td>\n    </tr>\n    <tr>\n      <th>3139</th>\n      <td>56 , 43</td>\n      <td>WY</td>\n      <td>Washakie County</td>\n      <td>40357</td>\n      <td>2003</td>\n    </tr>\n    <tr>\n      <th>3140</th>\n      <td>56 , 45</td>\n      <td>WY</td>\n      <td>Weston County</td>\n      <td>39383</td>\n      <td>2003</td>\n    </tr>\n  </tbody>\n</table>\n<p>3141 rows × 5 columns</p>\n</div>",
      "text/plain": "     State County FIPS Postal Code               Name Median Household Income  \\\n0                1 , 1          AL     Autauga County                   44241   \n1                1 , 3          AL     Baldwin County                   41961   \n2                1 , 5          AL     Barbour County                   26062   \n3                1 , 7          AL        Bibb County                   32924   \n4                1 , 9          AL      Blount County                   37758   \n...                ...         ...                ...                     ...   \n3136           56 , 37          WY  Sweetwater County                   52541   \n3137           56 , 39          WY       Teton County                   57485   \n3138           56 , 41          WY       Uinta County                   48658   \n3139           56 , 43          WY    Washakie County                   40357   \n3140           56 , 45          WY      Weston County                   39383   \n\n      Year  \n0     2003  \n1     2003  \n2     2003  \n3     2003  \n4     2003  \n...    ...  \n3136  2003  \n3137  2003  \n3138  2003  \n3139  2003  \n3140  2003  \n\n[3141 rows x 5 columns]"
     },
     "execution_count": 33,
     "metadata": {},
     "output_type": "execute_result"
    }
   ],
   "source": [
    "#Add year to year dataframes in preperation for sorting by year\n",
    "df_years = []\n",
    "year = 3\n",
    "for df in dfs:\n",
    "    if len(str(year)) == 1:\n",
    "        year_string = f'200{year}'\n",
    "    else:\n",
    "        year_string = f'20{year}'\n",
    "    df['Year'] = year_string\n",
    "    df_years.append(df)\n",
    "    year += 1\n",
    "df_years[0]"
   ]
  },
  {
   "cell_type": "code",
   "execution_count": 34,
   "metadata": {},
   "outputs": [],
   "source": [
    "#Set dictionary of dfs for each state by year\n",
    "state_dfs = {'AL':[], 'AK':[], 'AZ':[], 'AR':[], 'CA':[], 'CO':[], 'CT':[], 'DE':[], 'DC':[], 'FL':[], 'GA':[], 'HI':[], 'ID':[], 'IL':[], 'IN':[], 'IA':[], 'KS':[], 'KY':[], 'LA':[], 'ME':[], 'MD':[], 'MA':[], 'MI':[], 'MN':[], 'MS':[], 'MO':[], 'MT':[], 'NE':[], 'NV':[], 'NH':[], 'NJ':[], 'NM':[], 'NY':[], 'NC':[], 'ND':[], 'OH':[], 'OK':[], 'OR':[], 'PA':[], 'RI':[], 'SC':[], 'SD':[], 'TN':[], 'TX':[], 'UT':[], 'VT':[], 'VA':[], 'WA':[], 'WV':[], 'WI':[], 'WY':[]}\n",
    "for df in dfs:\n",
    "    for state in state_dfs:\n",
    "       state_dfs[state].append(df.loc[df['Postal Code'] == state])"
   ]
  },
  {
   "cell_type": "code",
   "execution_count": 35,
   "metadata": {},
   "outputs": [
    {
     "data": {
      "text/html": "<div>\n<style scoped>\n    .dataframe tbody tr th:only-of-type {\n        vertical-align: middle;\n    }\n\n    .dataframe tbody tr th {\n        vertical-align: top;\n    }\n\n    .dataframe thead th {\n        text-align: right;\n    }\n</style>\n<table border=\"1\" class=\"dataframe\">\n  <thead>\n    <tr style=\"text-align: right;\">\n      <th></th>\n      <th>State County FIPS</th>\n      <th>Postal Code</th>\n      <th>Name</th>\n      <th>Median Household Income</th>\n      <th>Year</th>\n    </tr>\n  </thead>\n  <tbody>\n    <tr>\n      <th>2309</th>\n      <td>44 , 1</td>\n      <td>RI</td>\n      <td>Bristol County</td>\n      <td>52614</td>\n      <td>2003</td>\n    </tr>\n    <tr>\n      <th>2310</th>\n      <td>44 , 3</td>\n      <td>RI</td>\n      <td>Kent County</td>\n      <td>51134</td>\n      <td>2003</td>\n    </tr>\n    <tr>\n      <th>2311</th>\n      <td>44 , 5</td>\n      <td>RI</td>\n      <td>Newport County</td>\n      <td>51470</td>\n      <td>2003</td>\n    </tr>\n    <tr>\n      <th>2312</th>\n      <td>44 , 7</td>\n      <td>RI</td>\n      <td>Providence County</td>\n      <td>38728</td>\n      <td>2003</td>\n    </tr>\n    <tr>\n      <th>2313</th>\n      <td>44 , 9</td>\n      <td>RI</td>\n      <td>Washington County</td>\n      <td>57276</td>\n      <td>2003</td>\n    </tr>\n    <tr>\n      <th>...</th>\n      <td>...</td>\n      <td>...</td>\n      <td>...</td>\n      <td>...</td>\n      <td>...</td>\n    </tr>\n    <tr>\n      <th>2309</th>\n      <td>44 , 1</td>\n      <td>RI</td>\n      <td>Bristol County</td>\n      <td>52614</td>\n      <td>2018</td>\n    </tr>\n    <tr>\n      <th>2310</th>\n      <td>44 , 3</td>\n      <td>RI</td>\n      <td>Kent County</td>\n      <td>51134</td>\n      <td>2018</td>\n    </tr>\n    <tr>\n      <th>2311</th>\n      <td>44 , 5</td>\n      <td>RI</td>\n      <td>Newport County</td>\n      <td>51470</td>\n      <td>2018</td>\n    </tr>\n    <tr>\n      <th>2312</th>\n      <td>44 , 7</td>\n      <td>RI</td>\n      <td>Providence County</td>\n      <td>38728</td>\n      <td>2018</td>\n    </tr>\n    <tr>\n      <th>2313</th>\n      <td>44 , 9</td>\n      <td>RI</td>\n      <td>Washington County</td>\n      <td>57276</td>\n      <td>2018</td>\n    </tr>\n  </tbody>\n</table>\n<p>80 rows × 5 columns</p>\n</div>",
      "text/plain": "     State County FIPS Postal Code               Name Median Household Income  \\\n2309            44 , 1          RI     Bristol County                   52614   \n2310            44 , 3          RI        Kent County                   51134   \n2311            44 , 5          RI     Newport County                   51470   \n2312            44 , 7          RI  Providence County                   38728   \n2313            44 , 9          RI  Washington County                   57276   \n...                ...         ...                ...                     ...   \n2309            44 , 1          RI     Bristol County                   52614   \n2310            44 , 3          RI        Kent County                   51134   \n2311            44 , 5          RI     Newport County                   51470   \n2312            44 , 7          RI  Providence County                   38728   \n2313            44 , 9          RI  Washington County                   57276   \n\n      Year  \n2309  2003  \n2310  2003  \n2311  2003  \n2312  2003  \n2313  2003  \n...    ...  \n2309  2018  \n2310  2018  \n2311  2018  \n2312  2018  \n2313  2018  \n\n[80 rows x 5 columns]"
     },
     "execution_count": 35,
     "metadata": {},
     "output_type": "execute_result"
    }
   ],
   "source": [
    "#Concactenate each states dfs into a single df\n",
    "single_state_dfs = {'AL':0, 'AK':0, 'AZ':0, 'AR':0, 'CA':0, 'CO':0, 'CT':0, 'DE':0, 'DC':0, 'FL':0, 'GA':0, 'HI':0, 'ID':0, 'IL':0, 'IN':0, 'IA':0, 'KS':0, 'KY':0, 'LA':0, 'ME':0, 'MD':0, 'MA':0, 'MI':0, 'MN':0, 'MS':0, 'MO':0, 'MT':0, 'NE':0, 'NV':0, 'NH':0, 'NJ':0, 'NM':0, 'NY':0, 'NC':0, 'ND':0, 'OH':0, 'OK':0, 'OR':0, 'PA':0, 'RI':0, 'SC':0, 'SD':0, 'TN':0, 'TX':0, 'UT':0, 'VT':0, 'VA':0, 'WA':0, 'WV':0, 'WI':0, 'WY':0}\n",
    "for state in state_dfs:\n",
    "    df = state_dfs[state][0]\n",
    "    indexes = range(1,16)\n",
    "    for i in indexes:\n",
    "        df = pd.concat([df, state_dfs[state][i]])\n",
    "    single_state_dfs[state] = df\n",
    "single_state_dfs['RI']    "
   ]
  },
  {
   "cell_type": "code",
   "execution_count": 36,
   "metadata": {},
   "outputs": [],
   "source": [
    "#Save dfs as csv files\n",
    "for state in single_state_dfs:\n",
    "    single_state_dfs[state].to_csv(f'ByState/{state}_SAPIE.csv')"
   ]
  },
  {
   "cell_type": "code",
   "execution_count": null,
   "metadata": {},
   "outputs": [],
   "source": []
  }
 ]
}