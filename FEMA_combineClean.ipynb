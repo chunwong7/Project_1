{
 "nbformat": 4,
 "nbformat_minor": 2,
 "metadata": {
  "language_info": {
   "name": "python",
   "codemirror_mode": {
    "name": "ipython",
    "version": 3
   },
   "version": "3.7.4-final"
  },
  "orig_nbformat": 2,
  "file_extension": ".py",
  "mimetype": "text/x-python",
  "name": "python",
  "npconvert_exporter": "python",
  "pygments_lexer": "ipython3",
  "version": 3,
  "kernelspec": {
   "name": "python37664bitpythondataconda9adbda39bd454e7faf6cd0d67b7317a9",
   "display_name": "Python 3.7.6 64-bit ('PythonData': conda)"
  }
 },
 "cells": [
  {
   "cell_type": "code",
   "execution_count": 85,
   "metadata": {},
   "outputs": [],
   "source": [
    "#Import Dependencies\n",
    "import pandas as pd\n",
    "import matplotlib as plt\n",
    "import scipy.stats as st"
   ]
  },
  {
   "cell_type": "code",
   "execution_count": 86,
   "metadata": {},
   "outputs": [
    {
     "data": {
      "text/plain": "51"
     },
     "execution_count": 86,
     "metadata": {},
     "output_type": "execute_result"
    }
   ],
   "source": [
    "state_data = 'publicAssistanceData/output_data/state_data/'\n",
    "states = [\"Alabama\",\"Alaska\",\"Arizona\",\"Arkansas\",\"California\",\"Colorado\",\n",
    "  \"Connecticut\",\"Delaware\",\"Florida\",\"Georgia\",\"Hawaii\",\"Idaho\",\"Illinois\",\n",
    "  \"Indiana\",\"Iowa\",\"Kansas\",\"Kentucky\",\"Louisiana\",\"Maine\",\"Maryland\",\n",
    "  \"Massachusetts\",\"Michigan\",\"Minnesota\",\"Mississippi\",\"Missouri\",\"Montana\",\n",
    "  \"Nebraska\",\"Nevada\",\"NewHampshire\",\"NewJersey\",\"NewMexico\",\"NewYork\",\n",
    "  \"NorthCarolina\",\"NorthDakota\",\"Ohio\",\"Oklahoma\",\"Oregon\",\"Pennsylvania\",\n",
    "  \"RhodeIsland\",\"SouthCarolina\",\"SouthDakota\",\"Tennessee\",\"Texas\",\"Utah\",\n",
    "  \"Vermont\",\"Virginia\",\"Washington\",\"WestVirginia\",\"Wisconsin\",\"Wyoming\", \"DistrictofColumbia\"]\n",
    "dfs = []\n",
    "for state in states:\n",
    "    df = pd.read_csv(f'publicAssistanceData/output_data/state_data/{state}Public.csv')\n",
    "    df['state'] = state\n",
    "    dfs.append(df)\n",
    "len(dfs)"
   ]
  },
  {
   "cell_type": "code",
   "execution_count": 87,
   "metadata": {},
   "outputs": [],
   "source": [
    "#Extra cleaning of FEMA data for merging\n",
    "def data_clean(df):\n",
    "    #Remove statewide data\n",
    "    \n",
    "    #Changing date to year\n",
    "    dates = df.declarationDate\n",
    "    years = []\n",
    "    for date in dates:\n",
    "        year = int(date[0:4])\n",
    "        years.append(year)\n",
    "    df['declarationDate'] = years\n",
    "    df = df.rename(columns={'declarationDate':'year','disasterNumber':'disasterID', 'amountOblig':'FEMA$'})\n",
    "    #Remove data before '03\n",
    "    df = df[df['year'] >= 2003]\n",
    "    df = df[df['year'] <= 2018]\n",
    "    return df"
   ]
  },
  {
   "cell_type": "code",
   "execution_count": 88,
   "metadata": {},
   "outputs": [
    {
     "data": {
      "text/plain": "51"
     },
     "execution_count": 88,
     "metadata": {},
     "output_type": "execute_result"
    }
   ],
   "source": [
    "clean_dfs = []\n",
    "for df in dfs:\n",
    "    data_clean(df)\n",
    "    clean_dfs.append(df)\n",
    "len(clean_dfs)"
   ]
  },
  {
   "cell_type": "code",
   "execution_count": 89,
   "metadata": {},
   "outputs": [],
   "source": [
    "#concat all states\n",
    "total_df = clean_dfs[0]\n",
    "for df in clean_dfs:\n",
    "   total_df = pd.concat([total_df, df])"
   ]
  },
  {
   "cell_type": "code",
   "execution_count": 100,
   "metadata": {},
   "outputs": [
    {
     "data": {
      "text/html": "<div>\n<style scoped>\n    .dataframe tbody tr th:only-of-type {\n        vertical-align: middle;\n    }\n\n    .dataframe tbody tr th {\n        vertical-align: top;\n    }\n\n    .dataframe thead th {\n        text-align: right;\n    }\n</style>\n<table border=\"1\" class=\"dataframe\">\n  <thead>\n    <tr style=\"text-align: right;\">\n      <th></th>\n      <th></th>\n      <th></th>\n      <th>incidentCount</th>\n      <th>FEMA$</th>\n    </tr>\n    <tr>\n      <th>incidentType</th>\n      <th>state</th>\n      <th>county</th>\n      <th></th>\n      <th></th>\n    </tr>\n  </thead>\n  <tbody>\n    <tr>\n      <th rowspan=\"4\" valign=\"top\">Tsunami</th>\n      <th>Hawaii</th>\n      <th>Maui</th>\n      <td>7</td>\n      <td>2.939823e+04</td>\n    </tr>\n    <tr>\n      <th rowspan=\"3\" valign=\"top\">Oregon</th>\n      <th>Coos</th>\n      <td>3</td>\n      <td>4.454609e+04</td>\n    </tr>\n    <tr>\n      <th>Curry</th>\n      <td>5</td>\n      <td>1.018568e+06</td>\n    </tr>\n    <tr>\n      <th>Lincoln</th>\n      <td>3</td>\n      <td>6.313122e+04</td>\n    </tr>\n    <tr>\n      <th>Volcano</th>\n      <th>Hawaii</th>\n      <th>Hawaii</th>\n      <td>14</td>\n      <td>9.136473e+05</td>\n    </tr>\n  </tbody>\n</table>\n</div>",
      "text/plain": "                             incidentCount         FEMA$\nincidentType state  county                              \nTsunami      Hawaii Maui                 7  2.939823e+04\n             Oregon Coos                 3  4.454609e+04\n                    Curry                5  1.018568e+06\n                    Lincoln              3  6.313122e+04\nVolcano      Hawaii Hawaii              14  9.136473e+05"
     },
     "execution_count": 100,
     "metadata": {},
     "output_type": "execute_result"
    }
   ],
   "source": [
    "#group data by incident type then county\n",
    "total_group = total_df.groupby(['incidentType', 'state', 'county'])\n",
    "total_df2 = pd.DataFrame({'incidentCount':total_group['disasterNumber'].count(), 'FEMA$':total_group.amountOblig.mean()})\n",
    "total_df2 = total_df2.drop('Statewide', level=2)\n",
    "total_df2.tail()"
   ]
  },
  {
   "cell_type": "code",
   "execution_count": 101,
   "metadata": {},
   "outputs": [],
   "source": [
    "#Export new df into csv\n",
    "total_df2.to_csv('publicAssistanceData/byDisasterandCounty.csv')"
   ]
  },
  {
   "cell_type": "code",
   "execution_count": 92,
   "metadata": {},
   "outputs": [
    {
     "data": {
      "text/html": "<div>\n<style scoped>\n    .dataframe tbody tr th:only-of-type {\n        vertical-align: middle;\n    }\n\n    .dataframe tbody tr th {\n        vertical-align: top;\n    }\n\n    .dataframe thead th {\n        text-align: right;\n    }\n</style>\n<table border=\"1\" class=\"dataframe\">\n  <thead>\n    <tr style=\"text-align: right;\">\n      <th></th>\n      <th></th>\n      <th>incidentCount</th>\n      <th>FEMA$</th>\n    </tr>\n    <tr>\n      <th>incidentType</th>\n      <th>county</th>\n      <th></th>\n      <th></th>\n    </tr>\n  </thead>\n  <tbody>\n    <tr>\n      <th rowspan=\"5\" valign=\"top\">Hurricane</th>\n      <th>Autauga</th>\n      <td>17</td>\n      <td>14820.542941</td>\n    </tr>\n    <tr>\n      <th>Baldwin</th>\n      <td>140</td>\n      <td>968789.271500</td>\n    </tr>\n    <tr>\n      <th>Barbour</th>\n      <td>3</td>\n      <td>11062.720000</td>\n    </tr>\n    <tr>\n      <th>Bibb</th>\n      <td>13</td>\n      <td>13152.876923</td>\n    </tr>\n    <tr>\n      <th>Bullock</th>\n      <td>4</td>\n      <td>15278.332500</td>\n    </tr>\n  </tbody>\n</table>\n</div>",
      "text/plain": "                      incidentCount          FEMA$\nincidentType county                               \nHurricane    Autauga             17   14820.542941\n             Baldwin            140  968789.271500\n             Barbour              3   11062.720000\n             Bibb                13   13152.876923\n             Bullock              4   15278.332500"
     },
     "execution_count": 92,
     "metadata": {},
     "output_type": "execute_result"
    }
   ],
   "source": [
    "test2 = clean_dfs[0].groupby(['incidentType', 'county'])\n",
    "test2.count().head()\n",
    "test2_df = pd.DataFrame({'incidentCount':test2['disasterNumber'].count(), 'FEMA$':test2.amountOblig.mean()})\n",
    "test2_df.head()"
   ]
  },
  {
   "cell_type": "code",
   "execution_count": 103,
   "metadata": {},
   "outputs": [
    {
     "data": {
      "text/html": "<div>\n<style scoped>\n    .dataframe tbody tr th:only-of-type {\n        vertical-align: middle;\n    }\n\n    .dataframe tbody tr th {\n        vertical-align: top;\n    }\n\n    .dataframe thead th {\n        text-align: right;\n    }\n</style>\n<table border=\"1\" class=\"dataframe\">\n  <thead>\n    <tr style=\"text-align: right;\">\n      <th></th>\n      <th>Unnamed: 0</th>\n      <th>disasterNumber</th>\n      <th>fipsStateCode</th>\n      <th>fyDeclared</th>\n      <th>declarationType</th>\n      <th>incidentType</th>\n      <th>fipsCountyCode</th>\n      <th>state county</th>\n    </tr>\n  </thead>\n  <tbody>\n    <tr>\n      <th>0</th>\n      <td>0</td>\n      <td>4</td>\n      <td>26</td>\n      <td>1953</td>\n      <td>DR</td>\n      <td>Tornado</td>\n      <td>0</td>\n      <td>26,0</td>\n    </tr>\n    <tr>\n      <th>1</th>\n      <td>1</td>\n      <td>2</td>\n      <td>48</td>\n      <td>1953</td>\n      <td>DR</td>\n      <td>Tornado</td>\n      <td>0</td>\n      <td>48,0</td>\n    </tr>\n    <tr>\n      <th>2</th>\n      <td>2</td>\n      <td>9</td>\n      <td>48</td>\n      <td>1953</td>\n      <td>DR</td>\n      <td>Flood</td>\n      <td>0</td>\n      <td>48,0</td>\n    </tr>\n    <tr>\n      <th>3</th>\n      <td>3</td>\n      <td>11</td>\n      <td>33</td>\n      <td>1953</td>\n      <td>DR</td>\n      <td>Fire</td>\n      <td>0</td>\n      <td>33,0</td>\n    </tr>\n    <tr>\n      <th>4</th>\n      <td>4</td>\n      <td>6</td>\n      <td>26</td>\n      <td>1953</td>\n      <td>DR</td>\n      <td>Tornado</td>\n      <td>0</td>\n      <td>26,0</td>\n    </tr>\n  </tbody>\n</table>\n</div>",
      "text/plain": "   Unnamed: 0  disasterNumber  fipsStateCode  fyDeclared declarationType  \\\n0           0               4             26        1953              DR   \n1           1               2             48        1953              DR   \n2           2               9             48        1953              DR   \n3           3              11             33        1953              DR   \n4           4               6             26        1953              DR   \n\n  incidentType  fipsCountyCode state county  \n0      Tornado               0         26,0  \n1      Tornado               0         48,0  \n2        Flood               0         48,0  \n3         Fire               0         33,0  \n4      Tornado               0         26,0  "
     },
     "execution_count": 103,
     "metadata": {},
     "output_type": "execute_result"
    }
   ],
   "source": [
    "#Read in DD summary\n",
    "declare_data = pd.read_csv('disaster declaration sum2.csv')\n",
    "declare_data.head()"
   ]
  },
  {
   "cell_type": "code",
   "execution_count": 104,
   "metadata": {},
   "outputs": [
    {
     "data": {
      "text/html": "<div>\n<style scoped>\n    .dataframe tbody tr th:only-of-type {\n        vertical-align: middle;\n    }\n\n    .dataframe tbody tr th {\n        vertical-align: top;\n    }\n\n    .dataframe thead th {\n        text-align: right;\n    }\n</style>\n<table border=\"1\" class=\"dataframe\">\n  <thead>\n    <tr style=\"text-align: right;\">\n      <th></th>\n      <th>disasterNumber</th>\n      <th>fipsStateCode</th>\n      <th>declarationType</th>\n      <th>fipsCountyCode</th>\n      <th>state county</th>\n    </tr>\n  </thead>\n  <tbody>\n    <tr>\n      <th>0</th>\n      <td>4</td>\n      <td>26</td>\n      <td>DR</td>\n      <td>0</td>\n      <td>26,0</td>\n    </tr>\n    <tr>\n      <th>1</th>\n      <td>2</td>\n      <td>48</td>\n      <td>DR</td>\n      <td>0</td>\n      <td>48,0</td>\n    </tr>\n    <tr>\n      <th>2</th>\n      <td>9</td>\n      <td>48</td>\n      <td>DR</td>\n      <td>0</td>\n      <td>48,0</td>\n    </tr>\n    <tr>\n      <th>3</th>\n      <td>11</td>\n      <td>33</td>\n      <td>DR</td>\n      <td>0</td>\n      <td>33,0</td>\n    </tr>\n    <tr>\n      <th>4</th>\n      <td>6</td>\n      <td>26</td>\n      <td>DR</td>\n      <td>0</td>\n      <td>26,0</td>\n    </tr>\n  </tbody>\n</table>\n</div>",
      "text/plain": "   disasterNumber  fipsStateCode declarationType  fipsCountyCode state county\n0               4             26              DR               0         26,0\n1               2             48              DR               0         48,0\n2               9             48              DR               0         48,0\n3              11             33              DR               0         33,0\n4               6             26              DR               0         26,0"
     },
     "execution_count": 104,
     "metadata": {},
     "output_type": "execute_result"
    }
   ],
   "source": [
    "#Clean decleration data\n",
    "declare_data = declare_data.drop(['Unnamed: 0', 'fyDeclared', 'incidentType'], axis=1)\n",
    "declare_data.head()"
   ]
  },
  {
   "cell_type": "code",
   "execution_count": null,
   "metadata": {},
   "outputs": [],
   "source": []
  }
 ]
}