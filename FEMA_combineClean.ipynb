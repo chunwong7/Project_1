{
 "nbformat": 4,
 "nbformat_minor": 2,
 "metadata": {
  "language_info": {
   "name": "python",
   "codemirror_mode": {
    "name": "ipython",
    "version": 3
   },
   "version": "3.7.4-final"
  },
  "orig_nbformat": 2,
  "file_extension": ".py",
  "mimetype": "text/x-python",
  "name": "python",
  "npconvert_exporter": "python",
  "pygments_lexer": "ipython3",
  "version": 3,
  "kernelspec": {
   "name": "python37664bitpythondataconda9adbda39bd454e7faf6cd0d67b7317a9",
   "display_name": "Python 3.7.6 64-bit ('PythonData': conda)"
  }
 },
 "cells": [
  {
   "cell_type": "code",
   "execution_count": 85,
   "metadata": {},
   "outputs": [],
   "source": [
    "#Import Dependencies\n",
    "import pandas as pd"
   ]
  },
  {
   "cell_type": "code",
   "execution_count": 86,
   "metadata": {},
   "outputs": [
    {
     "data": {
      "text/plain": "51"
     },
     "execution_count": 86,
     "metadata": {},
     "output_type": "execute_result"
    }
   ],
   "source": [
    "state_data = 'publicAssistanceData/output_data/state_data/'\n",
    "states = [\"Alabama\",\"Alaska\",\"Arizona\",\"Arkansas\",\"California\",\"Colorado\",\n",
    "  \"Connecticut\",\"Delaware\",\"Florida\",\"Georgia\",\"Hawaii\",\"Idaho\",\"Illinois\",\n",
    "  \"Indiana\",\"Iowa\",\"Kansas\",\"Kentucky\",\"Louisiana\",\"Maine\",\"Maryland\",\n",
    "  \"Massachusetts\",\"Michigan\",\"Minnesota\",\"Mississippi\",\"Missouri\",\"Montana\",\n",
    "  \"Nebraska\",\"Nevada\",\"NewHampshire\",\"NewJersey\",\"NewMexico\",\"NewYork\",\n",
    "  \"NorthCarolina\",\"NorthDakota\",\"Ohio\",\"Oklahoma\",\"Oregon\",\"Pennsylvania\",\n",
    "  \"RhodeIsland\",\"SouthCarolina\",\"SouthDakota\",\"Tennessee\",\"Texas\",\"Utah\",\n",
    "  \"Vermont\",\"Virginia\",\"Washington\",\"WestVirginia\",\"Wisconsin\",\"Wyoming\", \"DistrictofColumbia\"]\n",
    "dfs = []\n",
    "for state in states:\n",
    "    df = pd.read_csv(f'publicAssistanceData/output_data/state_data/{state}Public.csv')\n",
    "    df['state'] = state\n",
    "    dfs.append(df)\n",
    "len(dfs)"
   ]
  },
  {
   "cell_type": "code",
   "execution_count": 87,
   "metadata": {},
   "outputs": [],
   "source": [
    "#Extra cleaning of FEMA data for merging\n",
    "def data_clean(df):\n",
    "    #Remove statewide data\n",
    "    \n",
    "    #Changing date to year\n",
    "    dates = df.declarationDate\n",
    "    years = []\n",
    "    for date in dates:\n",
    "        year = int(date[0:4])\n",
    "        years.append(year)\n",
    "    df['declarationDate'] = years\n",
    "    df = df.rename(columns={'declarationDate':'year','disasterNumber':'disasterID', 'amountOblig':'FEMA$'})\n",
    "    #Remove data before '03\n",
    "    df = df[df['year'] >= 2003]\n",
    "    df = df[df['year'] <= 2018]\n",
    "    return df"
   ]
  },
  {
   "cell_type": "code",
   "execution_count": 88,
   "metadata": {},
   "outputs": [
    {
     "data": {
      "text/plain": "51"
     },
     "execution_count": 88,
     "metadata": {},
     "output_type": "execute_result"
    }
   ],
   "source": [
    "clean_dfs = []\n",
    "for df in dfs:\n",
    "    data_clean(df)\n",
    "    clean_dfs.append(df)\n",
    "len(clean_dfs)"
   ]
  },
  {
   "cell_type": "code",
   "execution_count": 89,
   "metadata": {},
   "outputs": [],
   "source": [
    "#concat all states\n",
    "total_df = clean_dfs[0]\n",
    "for df in clean_dfs:\n",
    "   total_df = pd.concat([total_df, df])"
   ]
  },
  {
   "cell_type": "code",
   "execution_count": 100,
   "metadata": {},
   "outputs": [
    {
     "data": {
      "text/html": "<div>\n<style scoped>\n    .dataframe tbody tr th:only-of-type {\n        vertical-align: middle;\n    }\n\n    .dataframe tbody tr th {\n        vertical-align: top;\n    }\n\n    .dataframe thead th {\n        text-align: right;\n    }\n</style>\n<table border=\"1\" class=\"dataframe\">\n  <thead>\n    <tr style=\"text-align: right;\">\n      <th></th>\n      <th></th>\n      <th></th>\n      <th>incidentCount</th>\n      <th>FEMA$</th>\n    </tr>\n    <tr>\n      <th>incidentType</th>\n      <th>state</th>\n      <th>county</th>\n      <th></th>\n      <th></th>\n    </tr>\n  </thead>\n  <tbody>\n    <tr>\n      <th rowspan=\"4\" valign=\"top\">Tsunami</th>\n      <th>Hawaii</th>\n      <th>Maui</th>\n      <td>7</td>\n      <td>2.939823e+04</td>\n    </tr>\n    <tr>\n      <th rowspan=\"3\" valign=\"top\">Oregon</th>\n      <th>Coos</th>\n      <td>3</td>\n      <td>4.454609e+04</td>\n    </tr>\n    <tr>\n      <th>Curry</th>\n      <td>5</td>\n      <td>1.018568e+06</td>\n    </tr>\n    <tr>\n      <th>Lincoln</th>\n      <td>3</td>\n      <td>6.313122e+04</td>\n    </tr>\n    <tr>\n      <th>Volcano</th>\n      <th>Hawaii</th>\n      <th>Hawaii</th>\n      <td>14</td>\n      <td>9.136473e+05</td>\n    </tr>\n  </tbody>\n</table>\n</div>",
      "text/plain": "                             incidentCount         FEMA$\nincidentType state  county                              \nTsunami      Hawaii Maui                 7  2.939823e+04\n             Oregon Coos                 3  4.454609e+04\n                    Curry                5  1.018568e+06\n                    Lincoln              3  6.313122e+04\nVolcano      Hawaii Hawaii              14  9.136473e+05"
     },
     "execution_count": 100,
     "metadata": {},
     "output_type": "execute_result"
    }
   ],
   "source": [
    "#group data by incident type then county\n",
    "total_group = total_df.groupby(['incidentType', 'state', 'county'])\n",
    "total_df2 = pd.DataFrame({'incidentCount':total_group['disasterNumber'].count(), 'FEMA$':total_group.amountOblig.mean()})\n",
    "total_df2 = total_df2.drop('Statewide', level=2)\n",
    "total_df2.tail()"
   ]
  },
  {
   "cell_type": "code",
   "execution_count": 101,
   "metadata": {},
   "outputs": [],
   "source": [
    "#Export new df into csv\n",
    "total_df2.to_csv('publicAssistanceData/byDisasterandCounty.csv')"
   ]
  },
  {
   "cell_type": "code",
   "execution_count": 105,
   "metadata": {},
   "outputs": [
    {
     "data": {
      "text/html": "<div>\n<style scoped>\n    .dataframe tbody tr th:only-of-type {\n        vertical-align: middle;\n    }\n\n    .dataframe tbody tr th {\n        vertical-align: top;\n    }\n\n    .dataframe thead th {\n        text-align: right;\n    }\n</style>\n<table border=\"1\" class=\"dataframe\">\n  <thead>\n    <tr style=\"text-align: right;\">\n      <th></th>\n      <th>Unnamed: 0</th>\n      <th>disasterNumber</th>\n      <th>fipsStateCode</th>\n      <th>fyDeclared</th>\n      <th>declarationType</th>\n      <th>incidentType</th>\n      <th>fipsCountyCode</th>\n      <th>state county</th>\n    </tr>\n  </thead>\n  <tbody>\n    <tr>\n      <th>13601</th>\n      <td>13601</td>\n      <td>1444</td>\n      <td>39</td>\n      <td>2003</td>\n      <td>DR</td>\n      <td>Severe Storm(s)</td>\n      <td>49</td>\n      <td>39,49</td>\n    </tr>\n    <tr>\n      <th>13613</th>\n      <td>13613</td>\n      <td>1453</td>\n      <td>39</td>\n      <td>2003</td>\n      <td>DR</td>\n      <td>Severe Storm(s)</td>\n      <td>141</td>\n      <td>39,141</td>\n    </tr>\n    <tr>\n      <th>14309</th>\n      <td>14309</td>\n      <td>1453</td>\n      <td>39</td>\n      <td>2003</td>\n      <td>DR</td>\n      <td>Severe Storm(s)</td>\n      <td>97</td>\n      <td>39,97</td>\n    </tr>\n    <tr>\n      <th>14602</th>\n      <td>14602</td>\n      <td>1444</td>\n      <td>39</td>\n      <td>2003</td>\n      <td>DR</td>\n      <td>Severe Storm(s)</td>\n      <td>77</td>\n      <td>39,77</td>\n    </tr>\n    <tr>\n      <th>14672</th>\n      <td>14672</td>\n      <td>1458</td>\n      <td>51</td>\n      <td>2003</td>\n      <td>DR</td>\n      <td>Severe Storm(s)</td>\n      <td>840</td>\n      <td>51,840</td>\n    </tr>\n  </tbody>\n</table>\n</div>",
      "text/plain": "       Unnamed: 0  disasterNumber  fipsStateCode  fyDeclared declarationType  \\\n13601       13601            1444             39        2003              DR   \n13613       13613            1453             39        2003              DR   \n14309       14309            1453             39        2003              DR   \n14602       14602            1444             39        2003              DR   \n14672       14672            1458             51        2003              DR   \n\n          incidentType  fipsCountyCode state county  \n13601  Severe Storm(s)              49        39,49  \n13613  Severe Storm(s)             141       39,141  \n14309  Severe Storm(s)              97        39,97  \n14602  Severe Storm(s)              77        39,77  \n14672  Severe Storm(s)             840       51,840  "
     },
     "execution_count": 105,
     "metadata": {},
     "output_type": "execute_result"
    }
   ],
   "source": [
    "#Read in DD summary\n",
    "declare_data = pd.read_csv('disaster declaration sum2.csv')\n",
    "declare_data = declare_data[declare_data['fyDeclared'] >= 2003]\n",
    "declare_data = declare_data[declare_data['fyDeclared'] <= 2018]\n",
    "declare_data.head()"
   ]
  },
  {
   "cell_type": "code",
   "execution_count": 106,
   "metadata": {},
   "outputs": [
    {
     "data": {
      "text/html": "<div>\n<style scoped>\n    .dataframe tbody tr th:only-of-type {\n        vertical-align: middle;\n    }\n\n    .dataframe tbody tr th {\n        vertical-align: top;\n    }\n\n    .dataframe thead th {\n        text-align: right;\n    }\n</style>\n<table border=\"1\" class=\"dataframe\">\n  <thead>\n    <tr style=\"text-align: right;\">\n      <th></th>\n      <th>disasterNumber</th>\n      <th>fipsStateCode</th>\n      <th>declarationType</th>\n      <th>fipsCountyCode</th>\n      <th>state county</th>\n    </tr>\n  </thead>\n  <tbody>\n    <tr>\n      <th>13601</th>\n      <td>1444</td>\n      <td>39</td>\n      <td>DR</td>\n      <td>49</td>\n      <td>39,49</td>\n    </tr>\n    <tr>\n      <th>13613</th>\n      <td>1453</td>\n      <td>39</td>\n      <td>DR</td>\n      <td>141</td>\n      <td>39,141</td>\n    </tr>\n    <tr>\n      <th>14309</th>\n      <td>1453</td>\n      <td>39</td>\n      <td>DR</td>\n      <td>97</td>\n      <td>39,97</td>\n    </tr>\n    <tr>\n      <th>14602</th>\n      <td>1444</td>\n      <td>39</td>\n      <td>DR</td>\n      <td>77</td>\n      <td>39,77</td>\n    </tr>\n    <tr>\n      <th>14672</th>\n      <td>1458</td>\n      <td>51</td>\n      <td>DR</td>\n      <td>840</td>\n      <td>51,840</td>\n    </tr>\n  </tbody>\n</table>\n</div>",
      "text/plain": "       disasterNumber  fipsStateCode declarationType  fipsCountyCode  \\\n13601            1444             39              DR              49   \n13613            1453             39              DR             141   \n14309            1453             39              DR              97   \n14602            1444             39              DR              77   \n14672            1458             51              DR             840   \n\n      state county  \n13601        39,49  \n13613       39,141  \n14309        39,97  \n14602        39,77  \n14672       51,840  "
     },
     "execution_count": 106,
     "metadata": {},
     "output_type": "execute_result"
    }
   ],
   "source": [
    "#Clean decleration data\n",
    "declare_data = declare_data.drop(['Unnamed: 0', 'fyDeclared', 'incidentType'], axis=1)\n",
    "declare_data.head()"
   ]
  },
  {
   "cell_type": "code",
   "execution_count": null,
   "metadata": {},
   "outputs": [],
   "source": []
  }
 ]
}