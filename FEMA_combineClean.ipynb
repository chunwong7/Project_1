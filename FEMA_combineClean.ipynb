{
 "nbformat": 4,
 "nbformat_minor": 2,
 "metadata": {
  "language_info": {
   "name": "python",
   "codemirror_mode": {
    "name": "ipython",
    "version": 3
   },
   "version": "3.7.6-final"
  },
  "orig_nbformat": 2,
  "file_extension": ".py",
  "mimetype": "text/x-python",
  "name": "python",
  "npconvert_exporter": "python",
  "pygments_lexer": "ipython3",
  "version": 3,
  "kernelspec": {
   "name": "python37664bitpythondataconda9adbda39bd454e7faf6cd0d67b7317a9",
   "display_name": "Python 3.7.6 64-bit ('PythonData': conda)"
  }
 },
 "cells": [
  {
   "cell_type": "code",
   "execution_count": 32,
   "metadata": {},
   "outputs": [],
   "source": [
    "#Import Dependencies\n",
    "import pandas as pd"
   ]
  },
  {
   "cell_type": "code",
   "execution_count": 33,
   "metadata": {},
   "outputs": [
    {
     "output_type": "execute_result",
     "data": {
      "text/plain": "51"
     },
     "metadata": {},
     "execution_count": 33
    }
   ],
   "source": [
    "state_data = 'publicAssistanceData/output_data/state_data/'\n",
    "states = [\"Alabama\",\"Alaska\",\"Arizona\",\"Arkansas\",\"California\",\"Colorado\",\n",
    "  \"Connecticut\",\"Delaware\",\"Florida\",\"Georgia\",\"Hawaii\",\"Idaho\",\"Illinois\",\n",
    "  \"Indiana\",\"Iowa\",\"Kansas\",\"Kentucky\",\"Louisiana\",\"Maine\",\"Maryland\",\n",
    "  \"Massachusetts\",\"Michigan\",\"Minnesota\",\"Mississippi\",\"Missouri\",\"Montana\",\n",
    "  \"Nebraska\",\"Nevada\",\"NewHampshire\",\"NewJersey\",\"NewMexico\",\"NewYork\",\n",
    "  \"NorthCarolina\",\"NorthDakota\",\"Ohio\",\"Oklahoma\",\"Oregon\",\"Pennsylvania\",\n",
    "  \"RhodeIsland\",\"SouthCarolina\",\"SouthDakota\",\"Tennessee\",\"Texas\",\"Utah\",\n",
    "  \"Vermont\",\"Virginia\",\"Washington\",\"WestVirginia\",\"Wisconsin\",\"Wyoming\", \"DistrictofColumbia\"]\n",
    "dfs = []\n",
    "for state in states:\n",
    "    df = pd.read_csv(f'publicAssistanceData/output_data/state_data/{state}Public.csv')\n",
    "    df['state'] = state\n",
    "    dfs.append(df)\n",
    "len(dfs)"
   ]
  },
  {
   "cell_type": "code",
   "execution_count": 34,
   "metadata": {},
   "outputs": [],
   "source": [
    "#Extra cleaning of FEMA data for merging\n",
    "def data_clean(df):\n",
    "    #Remove statewide data\n",
    "    \n",
    "    #Changing date to year\n",
    "    df = df.rename(columns={'disasterNumber':'disasterID', 'amountOblig':'FEMA$'})\n",
    "    #Remove data before '03\n",
    "    df = df[df['year'] >= 2003]\n",
    "    df = df[df['year'] <= 2018]\n",
    "    return df"
   ]
  },
  {
   "cell_type": "code",
   "execution_count": 35,
   "metadata": {},
   "outputs": [
    {
     "output_type": "execute_result",
     "data": {
      "text/plain": "51"
     },
     "metadata": {},
     "execution_count": 35
    }
   ],
   "source": [
    "clean_dfs = []\n",
    "for df in dfs:\n",
    "    data_clean(df)\n",
    "    clean_dfs.append(df)\n",
    "len(clean_dfs)"
   ]
  },
  {
   "cell_type": "code",
   "execution_count": 36,
   "metadata": {},
   "outputs": [],
   "source": [
    "#concat all states\n",
    "total_df = clean_dfs[0]\n",
    "for df in clean_dfs:\n",
    "   total_df = pd.concat([total_df, df])"
   ]
  },
  {
   "cell_type": "code",
   "execution_count": 37,
   "metadata": {},
   "outputs": [
    {
     "output_type": "execute_result",
     "data": {
      "text/plain": "                             incidentCount         FEMA$\nincidentType state  county                              \nTsunami      Hawaii Maui                 7  2.939823e+04\n             Oregon Coos                 3  4.454609e+04\n                    Curry                5  1.018568e+06\n                    Lincoln              3  6.313122e+04\nVolcano      Hawaii Hawaii              14  9.136473e+05",
      "text/html": "<div>\n<style scoped>\n    .dataframe tbody tr th:only-of-type {\n        vertical-align: middle;\n    }\n\n    .dataframe tbody tr th {\n        vertical-align: top;\n    }\n\n    .dataframe thead th {\n        text-align: right;\n    }\n</style>\n<table border=\"1\" class=\"dataframe\">\n  <thead>\n    <tr style=\"text-align: right;\">\n      <th></th>\n      <th></th>\n      <th></th>\n      <th>incidentCount</th>\n      <th>FEMA$</th>\n    </tr>\n    <tr>\n      <th>incidentType</th>\n      <th>state</th>\n      <th>county</th>\n      <th></th>\n      <th></th>\n    </tr>\n  </thead>\n  <tbody>\n    <tr>\n      <th rowspan=\"4\" valign=\"top\">Tsunami</th>\n      <th>Hawaii</th>\n      <th>Maui</th>\n      <td>7</td>\n      <td>2.939823e+04</td>\n    </tr>\n    <tr>\n      <th rowspan=\"3\" valign=\"top\">Oregon</th>\n      <th>Coos</th>\n      <td>3</td>\n      <td>4.454609e+04</td>\n    </tr>\n    <tr>\n      <th>Curry</th>\n      <td>5</td>\n      <td>1.018568e+06</td>\n    </tr>\n    <tr>\n      <th>Lincoln</th>\n      <td>3</td>\n      <td>6.313122e+04</td>\n    </tr>\n    <tr>\n      <th>Volcano</th>\n      <th>Hawaii</th>\n      <th>Hawaii</th>\n      <td>14</td>\n      <td>9.136473e+05</td>\n    </tr>\n  </tbody>\n</table>\n</div>"
     },
     "metadata": {},
     "execution_count": 37
    }
   ],
   "source": [
    "#group data by incident type then county\n",
    "total_group = total_df.groupby(['incidentType', 'state', 'county'])\n",
    "total_df2 = pd.DataFrame({'incidentCount':total_group['disasterNumber'].count(), 'FEMA$':total_group.amountOblig.mean()})\n",
    "total_df2 = total_df2.drop('Statewide', level=2)\n",
    "total_df2.tail()"
   ]
  },
  {
   "cell_type": "code",
   "execution_count": 38,
   "metadata": {},
   "outputs": [],
   "source": [
    "#Export new df into csv\n",
    "total_df2.to_csv('publicAssistanceData/byDisasterandCounty.csv')"
   ]
  },
  {
   "cell_type": "code",
   "execution_count": null,
   "metadata": {},
   "outputs": [],
   "source": []
  }
 ]
}