{
 "nbformat": 4,
 "nbformat_minor": 2,
 "metadata": {
  "language_info": {
   "name": "python",
   "codemirror_mode": {
    "name": "ipython",
    "version": 3
   },
   "version": "3.7.4-final"
  },
  "orig_nbformat": 2,
  "file_extension": ".py",
  "mimetype": "text/x-python",
  "name": "python",
  "npconvert_exporter": "python",
  "pygments_lexer": "ipython3",
  "version": 3,
  "kernelspec": {
   "name": "python37664bitpythondataconda9adbda39bd454e7faf6cd0d67b7317a9",
   "display_name": "Python 3.7.6 64-bit ('PythonData': conda)"
  }
 },
 "cells": [
  {
   "cell_type": "code",
   "execution_count": 2,
   "metadata": {},
   "outputs": [],
   "source": [
    "#Import Dependencies\n",
    "import pandas as pd\n",
    "import matplotlib as plt\n",
    "import scipy.stats as st"
   ]
  },
  {
   "cell_type": "code",
   "execution_count": 12,
   "metadata": {},
   "outputs": [
    {
     "name": "stdout",
     "output_type": "stream",
     "text": "RhodeIsland\n"
    },
    {
     "data": {
      "text/plain": "       Tornado   \n \n       amountOblig  \n 0         9999.00  \n 1      2516339.27  \n 2         2526.84  \n 3        13707.00  \n 4         5690.40  \n ...           ...  \n 6040      7127.45  \n 6041     18753.69  \n 6042     12848.73  \n 6043     24581.29  \n 6044      4556.21  \n \n [6045 rows x 5 columns],\n       disasterNumber        county           declarationDate     incidentType  \\\n 0               1272     Statewide  1999-05-04T00:00:00.000Z          Tornado   \n 1               1272      Okmulgee  1999-05-04T00:00:00.000Z          Tornado   \n 2               1272     Cleveland  1999-05-04T00:00:00.000Z          Tornado   \n 3               1272      Oklahoma  1999-05-04T00:00:00.000Z          Tornado   \n 4               1272     Statewide  1999-05-04T00:00:00.000Z          Tornado   \n ...              ...           ...                       ...              ...   \n 4758            4453       Lincoln  2019-07-12T00:00:00.000Z  Severe Storm(s)   \n 4759            4438       Lincoln  2019-06-01T00:00:00.000Z  Severe Storm(s)   \n 4760            4438      Canadian  2019-06-01T00:00:00.000Z  Severe Storm(s)   \n 4761            4438         Osage  2019-06-01T00:00:00.000Z  Severe Storm(s)   \n 4762            4438  Pottawatomie  2019-06-01T00:00:00.000Z  Severe Storm(s)   \n \n       amountOblig  \n 0       422161.23  \n 1       275780.25  \n 2      1218393.52  \n 3         5302.75  \n 4       270373.25  \n ...           ...  \n 4758      5461.10  \n 4759     74133.80  \n 4760      5290.13  \n 4761     26741.67  \n 4762     44647.49  \n \n [4763 rows x 5 columns],\n      disasterNumber    county           declarationDate     incidentType  \\\n 0              1405      Coos  2002-03-12T00:00:00.000Z  Severe Storm(s)   \n 1              1405   Douglas  2002-03-12T00:00:00.000Z  Severe Storm(s)   \n 2              1405      Linn  2002-03-12T00:00:00.000Z  Severe Storm(s)   \n 3              1405      Coos  2002-03-12T00:00:00.000Z  Severe Storm(s)   \n 4              1405      Lane  2002-03-12T00:00:00.000Z  Severe Storm(s)   \n ..              ...       ...                       ...              ...   \n 955            4432   Douglas  2019-05-02T00:00:00.000Z  Severe Storm(s)   \n 956            4452      Linn  2019-07-09T00:00:00.000Z            Flood   \n 957            4452  Umatilla  2019-07-09T00:00:00.000Z            Flood   \n 958            4432   Douglas  2019-05-02T00:00:00.000Z  Severe Storm(s)   \n 959            4432   Douglas  2019-05-02T00:00:00.000Z  Severe Storm(s)   \n \n      amountOblig  \n 0        5600.00  \n 1       17411.25  \n 2       16281.75  \n 3       10728.75  \n 4         187.50  \n ..           ...  \n 955      5188.39  \n 956     12559.22  \n 957     14099.39  \n 958      5538.00  \n 959     25940.06  \n \n [960 rows x 5 columns],\n        disasterNumber       county           declarationDate     incidentType  \\\n 0                1289       McKean  1999-09-01T00:00:00.000Z  Severe Storm(s)   \n 1                1294        Bucks  1999-09-18T00:00:00.000Z        Hurricane   \n 2                1289       McKean  1999-09-01T00:00:00.000Z  Severe Storm(s)   \n 3                1289       McKean  1999-09-01T00:00:00.000Z  Severe Storm(s)   \n 4                1289       McKean  1999-09-01T00:00:00.000Z  Severe Storm(s)   \n ...               ...          ...                       ...              ...   \n 11312            4408  Susquehanna  2018-11-27T00:00:00.000Z  Severe Storm(s)   \n 11313            4408  Susquehanna  2018-11-27T00:00:00.000Z  Severe Storm(s)   \n 11314            4408   Schuylkill  2018-11-27T00:00:00.000Z  Severe Storm(s)   \n 11315            4408     Bradford  2018-11-27T00:00:00.000Z  Severe Storm(s)   \n 11316            4408   Schuylkill  2018-11-27T00:00:00.000Z  Severe Storm(s)   \n \n        amountOblig  \n 0        106367.84  \n 1         24838.11  \n 2         10483.46  \n 3         12336.22  \n 4         10384.19  \n ...            ...  \n 11312      7520.00  \n 11313    261036.15  \n 11314    326092.50  \n 11315    249714.26  \n 11316     49565.38  \n \n [11317 rows x 5 columns],\n        disasterNumber       county           declarationDate     incidentType  \\\n 0                1289       McKean  1999-09-01T00:00:00.000Z  Severe Storm(s)   \n 1                1294        Bucks  1999-09-18T00:00:00.000Z        Hurricane   \n 2                1289       McKean  1999-09-01T00:00:00.000Z  Severe Storm(s)   \n 3                1289       McKean  1999-09-01T00:00:00.000Z  Severe Storm(s)   \n 4                1289       McKean  1999-09-01T00:00:00.000Z  Severe Storm(s)   \n ...               ...          ...                       ...              ...   \n 11312            4408  Susquehanna  2018-11-27T00:00:00.000Z  Severe Storm(s)   \n 11313            4408  Susquehanna  2018-11-27T00:00:00.000Z  Severe Storm(s)   \n 11314            4408   Schuylkill  2018-11-27T00:00:00.000Z  Severe Storm(s)   \n 11315            4408     Bradford  2018-11-27T00:00:00.000Z  Severe Storm(s)   \n 11316            4408   Schuylkill  2018-11-27T00:00:00.000Z  Severe Storm(s)   \n \n        amountOblig  \n 0        106367.84  \n 1         24838.11  \n 2         10483.46  \n 3         12336.22  \n 4         10384.19  \n ...            ...  \n 11312      7520.00  \n 11313    261036.15  \n 11314    326092.50  \n 11315    249714.26  \n 11316     49565.38  \n \n [11317 rows x 5 columns],\n       disasterNumber      county           declarationDate incidentType  \\\n 0               1243         NaN  1998-09-04T00:00:00.000Z    Hurricane   \n 1               1243         NaN  1998-09-04T00:00:00.000Z    Hurricane   \n 2               1243         NaN  1998-09-04T00:00:00.000Z    Hurricane   \n 3               1243         NaN  1998-09-04T00:00:00.000Z    Hurricane   \n 4               1243         NaN  1998-09-04T00:00:00.000Z    Hurricane   \n ...              ...         ...                       ...          ...   \n 1586            4464  Georgetown  2019-09-30T00:00:00.000Z    Hurricane   \n 1587            4464   Statewide  2019-09-30T00:00:00.000Z    Hurricane   \n 1588            4464  Charleston  2019-09-30T00:00:00.000Z    Hurricane   \n 1589            4464  Georgetown  2019-09-30T00:00:00.000Z    Hurricane   \n 1590            4464      Marion  2019-09-30T00:00:00.000Z    Hurricane   \n \n       amountOblig  \n 0        23763.38  \n 1         6123.75  \n 2       676260.00  \n 3         5071.50  \n 4       824226.75  \n ...           ...  \n 1586      5785.25  \n 1587    913658.18  \n 1588      3080.97  \n 1589     12886.04  \n 1590     24283.70  \n \n [1591 rows x 5 columns],\n       disasterNumber         county           declarationDate incidentType  \\\n 0               1280      Statewide  1999-06-09T00:00:00.000Z      Tornado   \n 1               1280  Oglala Lakota  1999-06-09T00:00:00.000Z      Tornado   \n 2               1280  Oglala Lakota  1999-06-09T00:00:00.000Z      Tornado   \n 3               1280      Statewide  1999-06-09T00:00:00.000Z      Tornado   \n 4               1280      Statewide  1999-06-09T00:00:00.000Z      Tornado   \n ...              ...            ...                       ...          ...   \n 3824            4440        Roberts  2019-06-07T00:00:00.000Z        Flood   \n 3825            4440        Perkins  2019-06-07T00:00:00.000Z        Flood   \n 3826            4440         Hanson  2019-06-07T00:00:00.000Z        Flood   \n 3827            4440       Marshall  2019-06-07T00:00:00.000Z        Flood   \n 3828            4440          Spink  2019-06-07T00:00:00.000Z        Flood   \n \n       amountOblig  \n 0        19619.99  \n 1       438587.27  \n 2       129902.68  \n 3            0.00  \n 4        45500.65  \n ...           ...  \n 3824     10189.06  \n 3825      4857.00  \n 3826     24435.62  \n 3827      3117.56  \n 3828     29042.45  \n \n [3829 rows x 5 columns],\n       disasterNumber     county           declarationDate     incidentType  \\\n 0               1260     Monroe  1999-01-15T00:00:00.000Z  Severe Storm(s)   \n 1               1275  Statewide  1999-05-12T00:00:00.000Z  Severe Storm(s)   \n 2               1260   Lawrence  1999-01-15T00:00:00.000Z  Severe Storm(s)   \n 3               1275  Statewide  1999-05-12T00:00:00.000Z  Severe Storm(s)   \n 4               1262    Dickson  1999-01-19T00:00:00.000Z  Severe Storm(s)   \n ...              ...        ...                       ...              ...   \n 2235            4427     Greene  2019-04-17T00:00:00.000Z            Flood   \n 2236            4427    Hamblen  2019-04-17T00:00:00.000Z            Flood   \n 2237            4427     Hardin  2019-04-17T00:00:00.000Z            Flood   \n 2238            4427       Knox  2019-04-17T00:00:00.000Z            Flood   \n 2239            4427      Smith  2019-04-17T00:00:00.000Z            Flood   \n \n       amountOblig  \n 0        30357.00  \n 1        31317.00  \n 2         1156.50  \n 3        46402.35  \n 4         8108.25  \n ...           ...  \n 2235     35633.91  \n 2236     50610.90  \n 2237     15588.50  \n 2238     42903.08  \n 2239      7489.91  \n \n [2240 rows x 5 columns],\n       disasterNumber      county           declarationDate     incidentType  \\\n 0               1239   Val Verde  1998-08-26T00:00:00.000Z  Severe Storm(s)   \n 1               1239      Kimble  1998-08-26T00:00:00.000Z  Severe Storm(s)   \n 2               1239   Statewide  1998-08-26T00:00:00.000Z  Severe Storm(s)   \n 3               1239    Maverick  1998-08-26T00:00:00.000Z  Severe Storm(s)   \n 4               1239      Kinney  1998-08-26T00:00:00.000Z  Severe Storm(s)   \n ...              ...         ...                       ...              ...   \n 6224            4416   Statewide  2019-02-25T00:00:00.000Z            Flood   \n 6225            4416      Travis  2019-02-25T00:00:00.000Z            Flood   \n 6226            4416   Statewide  2019-02-25T00:00:00.000Z            Flood   \n 6227            4416  Schleicher  2019-02-25T00:00:00.000Z            Flood   \n 6228            4416     Haskell  2019-02-25T00:00:00.000Z            Flood   \n \n       amountOblig  \n 0        12028.63  \n 1         2850.00  \n 2        56311.18  \n 3         4658.78  \n 4         5016.00  \n ...           ...  \n 6224   1100780.18  \n 6225     65999.66  \n 6226    423855.05  \n 6227     10609.69  \n 6228    430856.07  \n \n [6229 rows x 5 columns],\n      disasterNumber     county           declarationDate incidentType  \\\n 0              1285  Statewide  1999-08-16T00:00:00.000Z      Tornado   \n 1              1285  Salt Lake  1999-08-16T00:00:00.000Z      Tornado   \n 2              1285  Salt Lake  1999-08-16T00:00:00.000Z      Tornado   \n 3              1285  Statewide  1999-08-16T00:00:00.000Z      Tornado   \n 4              1285  Salt Lake  1999-08-16T00:00:00.000Z      Tornado   \n ..              ...        ...                       ...          ...   \n 185            4311  Statewide  2017-04-21T00:00:00.000Z        Flood   \n 186            4311  Box Elder  2017-04-21T00:00:00.000Z        Flood   \n 187            4311  Box Elder  2017-04-21T00:00:00.000Z        Flood   \n 188            4311      Cache  2017-04-21T00:00:00.000Z        Flood   \n 189            4311  Box Elder  2017-04-21T00:00:00.000Z        Flood   \n \n      amountOblig  \n 0       91657.23  \n 1      361791.41  \n 2        2128.91  \n 3       11811.31  \n 4       14520.89  \n ..           ...  \n 185    129632.81  \n 186     92963.33  \n 187    574479.64  \n 188   1419455.62  \n 189     27618.05  \n \n [190 rows x 5 columns],\n       disasterNumber      county           declarationDate     incidentType  \\\n 0               1307       Essex  1999-11-10T00:00:00.000Z  Severe Storm(s)   \n 1               1307   Statewide  1999-11-10T00:00:00.000Z  Severe Storm(s)   \n 2               1307    Lamoille  1999-11-10T00:00:00.000Z  Severe Storm(s)   \n 3               1307     Rutland  1999-11-10T00:00:00.000Z  Severe Storm(s)   \n 4               1307     Rutland  1999-11-10T00:00:00.000Z  Severe Storm(s)   \n ...              ...         ...                       ...              ...   \n 1383            4445     Rutland  2019-06-14T00:00:00.000Z            Flood   \n 1384            4445  Bennington  2019-06-14T00:00:00.000Z            Flood   \n 1385            4445  Washington  2019-06-14T00:00:00.000Z            Flood   \n 1386            4445     Rutland  2019-06-14T00:00:00.000Z            Flood   \n 1387            4445     Windsor  2019-06-14T00:00:00.000Z            Flood   \n \n       amountOblig  \n 0         2505.37  \n 1            0.00  \n 2        24385.36  \n 3         6204.75  \n 4         3672.00  \n ...           ...  \n 1383     11296.21  \n 1384     70051.91  \n 1385     10400.19  \n 1386      9053.94  \n 1387     81641.99  \n \n [1388 rows x 5 columns],\n       disasterNumber           county           declarationDate incidentType  \\\n 0               1242              NaN  1998-09-04T00:00:00.000Z    Hurricane   \n 1               1242              NaN  1998-09-04T00:00:00.000Z    Hurricane   \n 2               1242              NaN  1998-09-04T00:00:00.000Z    Hurricane   \n 3               1242              NaN  1998-09-04T00:00:00.000Z    Hurricane   \n 4               1242              NaN  1998-09-04T00:00:00.000Z    Hurricane   \n ...              ...              ...                       ...          ...   \n 1624            4411     Pittsylvania  2018-12-18T00:00:00.000Z    Hurricane   \n 1625            4411    Prince Edward  2018-12-18T00:00:00.000Z    Hurricane   \n 1626            4411        Charlotte  2018-12-18T00:00:00.000Z    Hurricane   \n 1627            4411           Amelia  2018-12-18T00:00:00.000Z    Hurricane   \n 1628            4411  Danville (city)  2018-12-18T00:00:00.000Z    Hurricane   \n \n       amountOblig  \n 0      1672551.80  \n 1        95462.15  \n 2      4578063.76  \n 3      1490460.43  \n 4        32837.01  \n ...           ...  \n 1624    369198.75  \n 1625     96950.24  \n 1626     12997.16  \n 1627     30515.45  \n 1628    845920.50  \n \n [1629 rows x 5 columns],\n       disasterNumber        county           declarationDate     incidentType  \\\n 0               1255           NaN  1998-10-16T00:00:00.000Z    Mud/Landslide   \n 1               1252           NaN  1998-10-05T00:00:00.000Z  Severe Storm(s)   \n 2               1252           NaN  1998-10-05T00:00:00.000Z  Severe Storm(s)   \n 3               1252           NaN  1998-10-05T00:00:00.000Z  Severe Storm(s)   \n 4               1255           NaN  1998-10-16T00:00:00.000Z    Mud/Landslide   \n ...              ...           ...                       ...              ...   \n 1886            4418     Statewide  2019-03-04T00:00:00.000Z  Severe Storm(s)   \n 1887            4418  Grays Harbor  2019-03-04T00:00:00.000Z  Severe Storm(s)   \n 1888            4418       Whatcom  2019-03-04T00:00:00.000Z  Severe Storm(s)   \n 1889            4418     Jefferson  2019-03-04T00:00:00.000Z  Severe Storm(s)   \n 1890            4418     Jefferson  2019-03-04T00:00:00.000Z  Severe Storm(s)   \n \n       amountOblig  \n 0         1184.25  \n 1         1368.00  \n 2        45404.18  \n 3         7556.14  \n 4        65626.50  \n ...           ...  \n 1886     42601.32  \n 1887     53263.60  \n 1888     52640.91  \n 1889    177042.01  \n 1890      4782.24  \n \n [1891 rows x 5 columns],\n       disasterNumber    county           declarationDate incidentType  \\\n 0               1319   Braxton  2000-02-28T00:00:00.000Z        Flood   \n 1               1319    Cabell  2000-02-28T00:00:00.000Z        Flood   \n 2               1319      Wirt  2000-02-28T00:00:00.000Z        Flood   \n 3               1319      Wirt  2000-02-28T00:00:00.000Z        Flood   \n 4               1319    Wetzel  2000-02-28T00:00:00.000Z        Flood   \n ...              ...       ...                       ...          ...   \n 2467            4455     Grant  2019-08-02T00:00:00.000Z        Flood   \n 2468            4455     Grant  2019-08-02T00:00:00.000Z        Flood   \n 2469            4455  Randolph  2019-08-02T00:00:00.000Z        Flood   \n 2470            4455    Tucker  2019-08-02T00:00:00.000Z        Flood   \n 2471            4455  Randolph  2019-08-02T00:00:00.000Z        Flood   \n \n       amountOblig  \n 0        10702.26  \n 1        11420.97  \n 2         5173.50  \n 3         1356.26  \n 4         2931.00  \n ...           ...  \n 2467     51542.74  \n 2468     11925.00  \n 2469    135408.39  \n 2470     31480.17  \n 2471     42721.04  \n \n [2472 rows x 5 columns],\n       disasterNumber     county           declarationDate incidentType  \\\n 0               1284  Statewide  1999-08-16T00:00:00.000Z        Flood   \n 1               1284   Bayfield  1999-08-16T00:00:00.000Z        Flood   \n 2               1284       Iron  1999-08-16T00:00:00.000Z        Flood   \n 3               1284   Bayfield  1999-08-16T00:00:00.000Z        Flood   \n 4               1284   Bayfield  1999-08-16T00:00:00.000Z        Flood   \n ...              ...        ...                       ...          ...   \n 4828            4459    Portage  2019-08-27T00:00:00.000Z        Flood   \n 4829            4459    Shawano  2019-08-27T00:00:00.000Z        Flood   \n 4830            4459    Waupaca  2019-08-27T00:00:00.000Z        Flood   \n 4831            4459       Wood  2019-08-27T00:00:00.000Z        Flood   \n 4832            4459       Wood  2019-08-27T00:00:00.000Z        Flood   \n \n       amountOblig  \n 0        27504.75  \n 1        50237.25  \n 2         3108.63  \n 3       124167.75  \n 4        19820.84  \n ...           ...  \n 4828     10796.84  \n 4829     10087.13  \n 4830      5158.58  \n 4831   1060619.42  \n 4832     23287.50  \n \n [4833 rows x 5 columns],\n     disasterNumber    county           declarationDate      incidentType  \\\n 0             1268  Niobrara  1999-02-17T00:00:00.000Z  Severe Ice Storm   \n 1             1268  Niobrara  1999-02-17T00:00:00.000Z  Severe Ice Storm   \n 2             1268  Niobrara  1999-02-17T00:00:00.000Z  Severe Ice Storm   \n 3             1268  Niobrara  1999-02-17T00:00:00.000Z  Severe Ice Storm   \n 4             1268  Niobrara  1999-02-17T00:00:00.000Z  Severe Ice Storm   \n ..             ...       ...                       ...               ...   \n 89            4327   Fremont  2017-08-05T00:00:00.000Z             Flood   \n 90            4327      Park  2017-08-05T00:00:00.000Z             Flood   \n 91            4327   Fremont  2017-08-05T00:00:00.000Z             Flood   \n 92            4327  Washakie  2017-08-05T00:00:00.000Z             Flood   \n 93            4327   Fremont  2017-08-05T00:00:00.000Z             Flood   \n \n     amountOblig  \n 0     471180.09  \n 1     150548.25  \n 2       4621.50  \n 3      26656.91  \n 4       1008.35  \n ..          ...  \n 89     17623.25  \n 90    289599.89  \n 91   3623224.68  \n 92    170434.01  \n 93    342447.74  \n \n [94 rows x 5 columns],\n      disasterNumber                county           declarationDate  \\\n 0              1325  District of Columbia  2000-04-10T00:00:00.000Z   \n 1              1325  District of Columbia  2000-04-10T00:00:00.000Z   \n 2              1325  District of Columbia  2000-04-10T00:00:00.000Z   \n 3              1325  District of Columbia  2000-04-10T00:00:00.000Z   \n 4              1325  District of Columbia  2000-04-10T00:00:00.000Z   \n ..              ...                   ...                       ...   \n 332            4260  District of Columbia  2016-03-04T00:00:00.000Z   \n 333            4260  District of Columbia  2016-03-04T00:00:00.000Z   \n 334            4260  District of Columbia  2016-03-04T00:00:00.000Z   \n 335            4260  District of Columbia  2016-03-04T00:00:00.000Z   \n 336            4260  District of Columbia  2016-03-04T00:00:00.000Z   \n \n         incidentType  amountOblig  \n 0    Severe Storm(s)      4958.91  \n 1    Severe Storm(s)      1337.27  \n 2    Severe Storm(s)     11921.34  \n 3    Severe Storm(s)      4353.75  \n 4    Severe Storm(s)      1275.00  \n ..               ...          ...  \n 332             Snow    107354.87  \n 333             Snow      8535.00  \n 334             Snow    138378.37  \n 335             Snow   6149321.51  \n 336             Snow   3485576.35  \n \n [337 rows x 5 columns]]"
     },
     "execution_count": 12,
     "metadata": {},
     "output_type": "execute_result"
    }
   ],
   "source": [
    "state_data = 'publicAssistanceData/output_data/state_data/'\n",
    "states = [\"Alabama\",\"Alaska\",\"Arizona\",\"Arkansas\",\"California\",\"Colorado\",\n",
    "  \"Connecticut\",\"Delaware\",\"Florida\",\"Georgia\",\"Hawaii\",\"Idaho\",\"Illinois\",\n",
    "  \"Indiana\",\"Iowa\",\"Kansas\",\"Kentucky\",\"Louisiana\",\"Maine\",\"Maryland\",\n",
    "  \"Massachusetts\",\"Michigan\",\"Minnesota\",\"Mississippi\",\"Missouri\",\"Montana\",\n",
    "  \"Nebraska\",\"Nevada\",\"NewHampshire\",\"NewJersey\",\"NewMexico\",\"NewYork\",\n",
    "  \"NorthCarolina\",\"NorthDakota\",\"Ohio\",\"Oklahoma\",\"Oregon\",\"Pennsylvania\",\n",
    "  \"RhodeIsland\",\"SouthCarolina\",\"SouthDakota\",\"Tennessee\",\"Texas\",\"Utah\",\n",
    "  \"Vermont\",\"Virginia\",\"Washington\",\"WestVirginia\",\"Wisconsin\",\"Wyoming\", \"DistrictofColumbia\"]\n",
    "dfs = []\n",
    "for state in states:\n",
    "    try:\n",
    "        df = pd.read_csv(f'publicAssistanceData/output_data/state_data/{state}Public.csv')\n",
    "    except:\n",
    "        print(state)\n",
    "    dfs.append(df)"
   ]
  },
  {
   "cell_type": "code",
   "execution_count": 49,
   "metadata": {},
   "outputs": [
    {
     "data": {
      "text/html": "<div>\n<style scoped>\n    .dataframe tbody tr th:only-of-type {\n        vertical-align: middle;\n    }\n\n    .dataframe tbody tr th {\n        vertical-align: top;\n    }\n\n    .dataframe thead th {\n        text-align: right;\n    }\n</style>\n<table border=\"1\" class=\"dataframe\">\n  <thead>\n    <tr style=\"text-align: right;\">\n      <th></th>\n      <th>disasterID</th>\n      <th>year</th>\n      <th>incidentType</th>\n      <th>FEMA$</th>\n    </tr>\n  </thead>\n  <tbody>\n    <tr>\n      <th>348</th>\n      <td>1466</td>\n      <td>2003</td>\n      <td>Severe Storm(s)</td>\n      <td>93998.29</td>\n    </tr>\n    <tr>\n      <th>349</th>\n      <td>1466</td>\n      <td>2003</td>\n      <td>Severe Storm(s)</td>\n      <td>13497.98</td>\n    </tr>\n    <tr>\n      <th>350</th>\n      <td>1466</td>\n      <td>2003</td>\n      <td>Severe Storm(s)</td>\n      <td>49107.89</td>\n    </tr>\n    <tr>\n      <th>351</th>\n      <td>1466</td>\n      <td>2003</td>\n      <td>Severe Storm(s)</td>\n      <td>395072.54</td>\n    </tr>\n    <tr>\n      <th>352</th>\n      <td>1466</td>\n      <td>2003</td>\n      <td>Severe Storm(s)</td>\n      <td>3750.00</td>\n    </tr>\n  </tbody>\n</table>\n</div>",
      "text/plain": "     disasterID  year     incidentType      FEMA$\n348        1466  2003  Severe Storm(s)   93998.29\n349        1466  2003  Severe Storm(s)   13497.98\n350        1466  2003  Severe Storm(s)   49107.89\n351        1466  2003  Severe Storm(s)  395072.54\n352        1466  2003  Severe Storm(s)    3750.00"
     },
     "execution_count": 49,
     "metadata": {},
     "output_type": "execute_result"
    }
   ],
   "source": [
    "#Extra cleaning of FEMA data for merging\n",
    "#Remove County data\n",
    "alabama_data = alabama_data.drop('county', axis=1)\n",
    "alabama_data.head()\n",
    "#Changing date to year\n",
    "dates = alabama_data.declarationDate\n",
    "years = []\n",
    "for date in dates:\n",
    "    year = int(date[0:4])\n",
    "    years.append(year)\n",
    "alabama_data['declarationDate'] = years\n",
    "alabama_data = alabama_data.rename(columns={'declarationDate':'year','disasterNumber':'disasterID', 'amountOblig':'FEMA$'})\n",
    "#Remove data before '03\n",
    "alabama_data = alabama_data[alabama_data['year'] >= 2003]\n",
    "alabama_data = alabama_data[alabama_data['year'] <= 2018]\n",
    "alabama_data.head()"
   ]
  },
  {
   "cell_type": "code",
   "execution_count": 70,
   "metadata": {},
   "outputs": [
    {
     "data": {
      "text/html": "<div>\n<style scoped>\n    .dataframe tbody tr th:only-of-type {\n        vertical-align: middle;\n    }\n\n    .dataframe tbody tr th {\n        vertical-align: top;\n    }\n\n    .dataframe thead th {\n        text-align: right;\n    }\n</style>\n<table border=\"1\" class=\"dataframe\">\n  <thead>\n    <tr style=\"text-align: right;\">\n      <th></th>\n      <th></th>\n      <th>FEMA$</th>\n      <th>incidentType</th>\n    </tr>\n    <tr>\n      <th>year</th>\n      <th>disasterID</th>\n      <th></th>\n      <th></th>\n    </tr>\n  </thead>\n  <tbody>\n    <tr>\n      <th>2003</th>\n      <th>1466</th>\n      <td>1.213776e+07</td>\n      <td>Severe Storm(s)</td>\n    </tr>\n    <tr>\n      <th>2004</th>\n      <th>1549</th>\n      <td>2.182246e+08</td>\n      <td>Hurricane</td>\n    </tr>\n    <tr>\n      <th rowspan=\"3\" valign=\"top\">2005</th>\n      <th>1593</th>\n      <td>1.986408e+07</td>\n      <td>Hurricane</td>\n    </tr>\n    <tr>\n      <th>1605</th>\n      <td>1.168102e+08</td>\n      <td>Hurricane</td>\n    </tr>\n    <tr>\n      <th>3237</th>\n      <td>2.942631e+06</td>\n      <td>Hurricane</td>\n    </tr>\n  </tbody>\n</table>\n</div>",
      "text/plain": "                        FEMA$     incidentType\nyear disasterID                               \n2003 1466        1.213776e+07  Severe Storm(s)\n2004 1549        2.182246e+08        Hurricane\n2005 1593        1.986408e+07        Hurricane\n     1605        1.168102e+08        Hurricane\n     3237        2.942631e+06        Hurricane"
     },
     "execution_count": 70,
     "metadata": {},
     "output_type": "execute_result"
    }
   ],
   "source": [
    "#Group the data to by year and disaster\n",
    "alabama_group = alabama_data.groupby(['year', 'disasterID'])\n",
    "disaster_types = alabama_group['incidentType'].unique()\n",
    "disaster_types_fix = [dis[0] for dis in disaster_types]\n",
    "alabama_group_df = pd.DataFrame({'FEMA$':alabama_group['FEMA$'].sum(), 'incidentType':disaster_types_fix})\n",
    "alabama_group_df.head()"
   ]
  },
  {
   "cell_type": "code",
   "execution_count": 24,
   "metadata": {},
   "outputs": [
    {
     "data": {
      "text/html": "<div>\n<style scoped>\n    .dataframe tbody tr th:only-of-type {\n        vertical-align: middle;\n    }\n\n    .dataframe tbody tr th {\n        vertical-align: top;\n    }\n\n    .dataframe thead th {\n        text-align: right;\n    }\n</style>\n<table border=\"1\" class=\"dataframe\">\n  <thead>\n    <tr style=\"text-align: right;\">\n      <th></th>\n      <th>Unnamed: 0</th>\n      <th>disasterNumber</th>\n      <th>fipsStateCode</th>\n      <th>fyDeclared</th>\n      <th>declarationType</th>\n      <th>incidentType</th>\n      <th>fipsCountyCode</th>\n      <th>state county</th>\n    </tr>\n  </thead>\n  <tbody>\n    <tr>\n      <th>0</th>\n      <td>0</td>\n      <td>4</td>\n      <td>26</td>\n      <td>1953</td>\n      <td>DR</td>\n      <td>Tornado</td>\n      <td>0</td>\n      <td>26,0</td>\n    </tr>\n    <tr>\n      <th>1</th>\n      <td>1</td>\n      <td>2</td>\n      <td>48</td>\n      <td>1953</td>\n      <td>DR</td>\n      <td>Tornado</td>\n      <td>0</td>\n      <td>48,0</td>\n    </tr>\n    <tr>\n      <th>2</th>\n      <td>2</td>\n      <td>9</td>\n      <td>48</td>\n      <td>1953</td>\n      <td>DR</td>\n      <td>Flood</td>\n      <td>0</td>\n      <td>48,0</td>\n    </tr>\n    <tr>\n      <th>3</th>\n      <td>3</td>\n      <td>11</td>\n      <td>33</td>\n      <td>1953</td>\n      <td>DR</td>\n      <td>Fire</td>\n      <td>0</td>\n      <td>33,0</td>\n    </tr>\n    <tr>\n      <th>4</th>\n      <td>4</td>\n      <td>6</td>\n      <td>26</td>\n      <td>1953</td>\n      <td>DR</td>\n      <td>Tornado</td>\n      <td>0</td>\n      <td>26,0</td>\n    </tr>\n  </tbody>\n</table>\n</div>",
      "text/plain": "   Unnamed: 0  disasterNumber  fipsStateCode  fyDeclared declarationType  \\\n0           0               4             26        1953              DR   \n1           1               2             48        1953              DR   \n2           2               9             48        1953              DR   \n3           3              11             33        1953              DR   \n4           4               6             26        1953              DR   \n\n  incidentType  fipsCountyCode state county  \n0      Tornado               0         26,0  \n1      Tornado               0         48,0  \n2        Flood               0         48,0  \n3         Fire               0         33,0  \n4      Tornado               0         26,0  "
     },
     "execution_count": 24,
     "metadata": {},
     "output_type": "execute_result"
    }
   ],
   "source": [
    "#Read in DD summary\n",
    "declare_data = pd.read_csv('disaster declaration sum2.csv')\n",
    "declare_data.head()"
   ]
  },
  {
   "cell_type": "code",
   "execution_count": 25,
   "metadata": {},
   "outputs": [
    {
     "data": {
      "text/html": "<div>\n<style scoped>\n    .dataframe tbody tr th:only-of-type {\n        vertical-align: middle;\n    }\n\n    .dataframe tbody tr th {\n        vertical-align: top;\n    }\n\n    .dataframe thead th {\n        text-align: right;\n    }\n</style>\n<table border=\"1\" class=\"dataframe\">\n  <thead>\n    <tr style=\"text-align: right;\">\n      <th></th>\n      <th>disasterNumber</th>\n      <th>declarationType</th>\n    </tr>\n  </thead>\n  <tbody>\n    <tr>\n      <th>0</th>\n      <td>4</td>\n      <td>DR</td>\n    </tr>\n    <tr>\n      <th>1</th>\n      <td>2</td>\n      <td>DR</td>\n    </tr>\n    <tr>\n      <th>2</th>\n      <td>9</td>\n      <td>DR</td>\n    </tr>\n    <tr>\n      <th>3</th>\n      <td>11</td>\n      <td>DR</td>\n    </tr>\n    <tr>\n      <th>4</th>\n      <td>6</td>\n      <td>DR</td>\n    </tr>\n  </tbody>\n</table>\n</div>",
      "text/plain": "   disasterNumber declarationType\n0               4              DR\n1               2              DR\n2               9              DR\n3              11              DR\n4               6              DR"
     },
     "execution_count": 25,
     "metadata": {},
     "output_type": "execute_result"
    }
   ],
   "source": [
    "#Clean decleration data\n",
    "declare_data = declare_data.drop(['Unnamed: 0', 'fipsCountyCode', 'state county', 'fyDeclared', 'incidentType', 'fipsStateCode'], axis=1)\n",
    "declare_data.head()"
   ]
  },
  {
   "cell_type": "code",
   "execution_count": null,
   "metadata": {},
   "outputs": [],
   "source": []
  }
 ]
}