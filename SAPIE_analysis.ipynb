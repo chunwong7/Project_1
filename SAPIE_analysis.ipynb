{
 "nbformat": 4,
 "nbformat_minor": 2,
 "metadata": {
  "language_info": {
   "name": "python",
   "codemirror_mode": {
    "name": "ipython",
    "version": 3
   },
   "version": "3.7.6-final"
  },
  "orig_nbformat": 2,
  "file_extension": ".py",
  "mimetype": "text/x-python",
  "name": "python",
  "npconvert_exporter": "python",
  "pygments_lexer": "ipython3",
  "version": 3,
  "kernelspec": {
   "name": "python37664bitpythondataconda9adbda39bd454e7faf6cd0d67b7317a9",
   "display_name": "Python 3.7.6 64-bit ('PythonData': conda)"
  }
 },
 "cells": [
  {
   "cell_type": "code",
   "execution_count": 127,
   "metadata": {},
   "outputs": [],
   "source": [
    "#import dependencies\n",
    "import pandas as pd\n",
    "import matplotlib as plt\n",
    "import scipy.stats as st"
   ]
  },
  {
   "cell_type": "code",
   "execution_count": 128,
   "metadata": {},
   "outputs": [
    {
     "data": {
      "text/html": "<div>\n<style scoped>\n    .dataframe tbody tr th:only-of-type {\n        vertical-align: middle;\n    }\n\n    .dataframe tbody tr th {\n        vertical-align: top;\n    }\n\n    .dataframe thead th {\n        text-align: right;\n    }\n</style>\n<table border=\"1\" class=\"dataframe\">\n  <thead>\n    <tr style=\"text-align: right;\">\n      <th></th>\n      <th>incidentType</th>\n      <th>state</th>\n      <th>county</th>\n      <th>incidentCount</th>\n      <th>FEMA$</th>\n      <th>medianIncome</th>\n    </tr>\n  </thead>\n  <tbody>\n    <tr>\n      <th>0</th>\n      <td>Chemical</td>\n      <td>WestVirginia</td>\n      <td>Boone</td>\n      <td>6</td>\n      <td>12013.226667</td>\n      <td>0</td>\n    </tr>\n    <tr>\n      <th>1</th>\n      <td>Chemical</td>\n      <td>WestVirginia</td>\n      <td>Cabell</td>\n      <td>2</td>\n      <td>3826.870000</td>\n      <td>0</td>\n    </tr>\n    <tr>\n      <th>2</th>\n      <td>Chemical</td>\n      <td>WestVirginia</td>\n      <td>Kanawha</td>\n      <td>12</td>\n      <td>50986.351667</td>\n      <td>0</td>\n    </tr>\n    <tr>\n      <th>3</th>\n      <td>Chemical</td>\n      <td>WestVirginia</td>\n      <td>Lincoln</td>\n      <td>9</td>\n      <td>7432.647778</td>\n      <td>0</td>\n    </tr>\n    <tr>\n      <th>4</th>\n      <td>Chemical</td>\n      <td>WestVirginia</td>\n      <td>Putnam</td>\n      <td>13</td>\n      <td>5519.388462</td>\n      <td>0</td>\n    </tr>\n  </tbody>\n</table>\n</div>",
      "text/plain": "  incidentType         state   county  incidentCount         FEMA$  \\\n0     Chemical  WestVirginia    Boone              6  12013.226667   \n1     Chemical  WestVirginia   Cabell              2   3826.870000   \n2     Chemical  WestVirginia  Kanawha             12  50986.351667   \n3     Chemical  WestVirginia  Lincoln              9   7432.647778   \n4     Chemical  WestVirginia   Putnam             13   5519.388462   \n\n   medianIncome  \n0             0  \n1             0  \n2             0  \n3             0  \n4             0  "
     },
     "execution_count": 128,
     "metadata": {},
     "output_type": "execute_result"
    }
   ],
   "source": [
    "#Read in FEMA data\n",
    "fema = pd.read_csv('publicAssistanceData/byDisasterandCounty.csv')\n",
    "fema['medianIncome'] = 0\n",
    "fema.head()"
   ]
  },
  {
   "cell_type": "code",
   "execution_count": 129,
   "metadata": {},
   "outputs": [
    {
     "data": {
      "text/html": "<div>\n<style scoped>\n    .dataframe tbody tr th:only-of-type {\n        vertical-align: middle;\n    }\n\n    .dataframe tbody tr th {\n        vertical-align: top;\n    }\n\n    .dataframe thead th {\n        text-align: right;\n    }\n</style>\n<table border=\"1\" class=\"dataframe\">\n  <thead>\n    <tr style=\"text-align: right;\">\n      <th></th>\n      <th>incidentType</th>\n      <th>state</th>\n      <th>county</th>\n      <th>incidentCount</th>\n      <th>FEMA$</th>\n      <th>medianIncome</th>\n    </tr>\n  </thead>\n  <tbody>\n    <tr>\n      <th>0</th>\n      <td>Chemical</td>\n      <td>WV</td>\n      <td>Boone</td>\n      <td>6</td>\n      <td>1.201323e+04</td>\n      <td>0</td>\n    </tr>\n    <tr>\n      <th>1</th>\n      <td>Chemical</td>\n      <td>WV</td>\n      <td>Cabell</td>\n      <td>2</td>\n      <td>3.826870e+03</td>\n      <td>0</td>\n    </tr>\n    <tr>\n      <th>2</th>\n      <td>Chemical</td>\n      <td>WV</td>\n      <td>Kanawha</td>\n      <td>12</td>\n      <td>5.098635e+04</td>\n      <td>0</td>\n    </tr>\n    <tr>\n      <th>3</th>\n      <td>Chemical</td>\n      <td>WV</td>\n      <td>Lincoln</td>\n      <td>9</td>\n      <td>7.432648e+03</td>\n      <td>0</td>\n    </tr>\n    <tr>\n      <th>4</th>\n      <td>Chemical</td>\n      <td>WV</td>\n      <td>Putnam</td>\n      <td>13</td>\n      <td>5.519388e+03</td>\n      <td>0</td>\n    </tr>\n    <tr>\n      <th>...</th>\n      <td>...</td>\n      <td>...</td>\n      <td>...</td>\n      <td>...</td>\n      <td>...</td>\n      <td>...</td>\n    </tr>\n    <tr>\n      <th>7549</th>\n      <td>Tsunami</td>\n      <td>HI</td>\n      <td>Maui</td>\n      <td>7</td>\n      <td>2.939823e+04</td>\n      <td>0</td>\n    </tr>\n    <tr>\n      <th>7550</th>\n      <td>Tsunami</td>\n      <td>OR</td>\n      <td>Coos</td>\n      <td>3</td>\n      <td>4.454609e+04</td>\n      <td>0</td>\n    </tr>\n    <tr>\n      <th>7551</th>\n      <td>Tsunami</td>\n      <td>OR</td>\n      <td>Curry</td>\n      <td>5</td>\n      <td>1.018568e+06</td>\n      <td>0</td>\n    </tr>\n    <tr>\n      <th>7552</th>\n      <td>Tsunami</td>\n      <td>OR</td>\n      <td>Lincoln</td>\n      <td>3</td>\n      <td>6.313122e+04</td>\n      <td>0</td>\n    </tr>\n    <tr>\n      <th>7553</th>\n      <td>Volcano</td>\n      <td>HI</td>\n      <td>Hawaii</td>\n      <td>14</td>\n      <td>9.136473e+05</td>\n      <td>0</td>\n    </tr>\n  </tbody>\n</table>\n<p>7554 rows × 6 columns</p>\n</div>",
      "text/plain": "     incidentType state   county  incidentCount         FEMA$  medianIncome\n0        Chemical    WV    Boone              6  1.201323e+04             0\n1        Chemical    WV   Cabell              2  3.826870e+03             0\n2        Chemical    WV  Kanawha             12  5.098635e+04             0\n3        Chemical    WV  Lincoln              9  7.432648e+03             0\n4        Chemical    WV   Putnam             13  5.519388e+03             0\n...           ...   ...      ...            ...           ...           ...\n7549      Tsunami    HI     Maui              7  2.939823e+04             0\n7550      Tsunami    OR     Coos              3  4.454609e+04             0\n7551      Tsunami    OR    Curry              5  1.018568e+06             0\n7552      Tsunami    OR  Lincoln              3  6.313122e+04             0\n7553      Volcano    HI   Hawaii             14  9.136473e+05             0\n\n[7554 rows x 6 columns]"
     },
     "execution_count": 129,
     "metadata": {},
     "output_type": "execute_result"
    }
   ],
   "source": [
    "states = {\"Alabama\":'AL',\"Alaska\":'AK',\"Arizona\":'AZ',\"Arkansas\":'AR',\"California\":'CA',\"Colorado\":\"CO\",\n",
    "  \"Connecticut\":\"CT\",\"Delaware\":\"DE\",\"Florida\":\"FL\",\"Georgia\":\"GA\",\"Hawaii\":\"HI\",\"Idaho\":\"ID\",\"Illinois\":\"IL\",\n",
    "  \"Indiana\":\"IN\",\"Iowa\":\"IA\",\"Kansas\":\"KS\",\"Kentucky\":\"KY\",\"Louisiana\":\"LA\",\"Maine\":\"ME\",\"Maryland\":\"MD\",\n",
    "  \"Massachusetts\":\"MA\",\"Michigan\":\"MI\",\"Minnesota\":\"MN\",\"Mississippi\":\"MS\",\"Missouri\":\"MI\",\"Montana\":\"MT\",\n",
    "  \"Nebraska\":\"NE\",\"Nevada\":\"NV\",\"NewHampshire\":\"NH\",\"NewJersey\":\"NJ\",\"NewMexico\":\"NM\",\"NewYork\":\"NY\",\n",
    "  \"NorthCarolina\":\"NC\",\"NorthDakota\":\"ND\",\"Ohio\":\"OH\",\"Oklahoma\":\"OK\",\"Oregon\":\"OR\",\"Pennsylvania\":\"PA\",\n",
    "  \"RhodeIsland\":\"RI\",\"SouthCarolina\":\"SC\",\"SouthDakota\":\"SD\",\"Tennessee\":\"TN\",\"Texas\":\"TX\",\"Utah\":\"UT\",\n",
    "  \"Vermont\":\"VT\",\"Virginia\":\"VA\",\"Washington\":\"WA\",\"WestVirginia\":\"WV\",\"Wisconsin\":\"WI\",\"Wyoming\":\"WY\", \"DistrictofColumbia\":\"DC\"}\n",
    "df_states = fema['state']\n",
    "state_fix = [states[state] for state in df_states]\n",
    "fema['state'] = state_fix\n",
    "fema"
   ]
  },
  {
   "cell_type": "code",
   "execution_count": 130,
   "metadata": {},
   "outputs": [
    {
     "data": {
      "text/html": "<div>\n<style scoped>\n    .dataframe tbody tr th:only-of-type {\n        vertical-align: middle;\n    }\n\n    .dataframe tbody tr th {\n        vertical-align: top;\n    }\n\n    .dataframe thead th {\n        text-align: right;\n    }\n</style>\n<table border=\"1\" class=\"dataframe\">\n  <thead>\n    <tr style=\"text-align: right;\">\n      <th></th>\n      <th>state</th>\n      <th>county</th>\n      <th>Median Household Income</th>\n    </tr>\n  </thead>\n  <tbody>\n    <tr>\n      <th>0</th>\n      <td>AL</td>\n      <td>Autauga</td>\n      <td>44241</td>\n    </tr>\n    <tr>\n      <th>1</th>\n      <td>AL</td>\n      <td>Baldwin</td>\n      <td>41961</td>\n    </tr>\n    <tr>\n      <th>2</th>\n      <td>AL</td>\n      <td>Barbour</td>\n      <td>26062</td>\n    </tr>\n    <tr>\n      <th>3</th>\n      <td>AL</td>\n      <td>Bibb</td>\n      <td>32924</td>\n    </tr>\n    <tr>\n      <th>4</th>\n      <td>AL</td>\n      <td>Blount</td>\n      <td>37758</td>\n    </tr>\n    <tr>\n      <th>...</th>\n      <td>...</td>\n      <td>...</td>\n      <td>...</td>\n    </tr>\n    <tr>\n      <th>3136</th>\n      <td>WY</td>\n      <td>Sweetwater</td>\n      <td>52541</td>\n    </tr>\n    <tr>\n      <th>3137</th>\n      <td>WY</td>\n      <td>Teton</td>\n      <td>57485</td>\n    </tr>\n    <tr>\n      <th>3138</th>\n      <td>WY</td>\n      <td>Uinta</td>\n      <td>48658</td>\n    </tr>\n    <tr>\n      <th>3139</th>\n      <td>WY</td>\n      <td>Washakie</td>\n      <td>40357</td>\n    </tr>\n    <tr>\n      <th>3140</th>\n      <td>WY</td>\n      <td>Weston</td>\n      <td>39383</td>\n    </tr>\n  </tbody>\n</table>\n<p>3141 rows × 3 columns</p>\n</div>",
      "text/plain": "     state       county Median Household Income\n0       AL     Autauga                    44241\n1       AL     Baldwin                    41961\n2       AL     Barbour                    26062\n3       AL        Bibb                    32924\n4       AL      Blount                    37758\n...    ...          ...                     ...\n3136    WY  Sweetwater                    52541\n3137    WY       Teton                    57485\n3138    WY       Uinta                    48658\n3139    WY    Washakie                    40357\n3140    WY      Weston                    39383\n\n[3141 rows x 3 columns]"
     },
     "execution_count": 130,
     "metadata": {},
     "output_type": "execute_result"
    }
   ],
   "source": [
    "#Read in SAPIE data\n",
    "sapie = pd.read_csv('SAPIE_DataClean/ByYear/18SAPIE.csv')\n",
    "#Clean SAPIE Data\n",
    "sapie['Name'] = sapie['Name'].str.strip('County')\n",
    "sapie = sapie.drop(['Unnamed: 0', 'State County FIPS'], axis=1)\n",
    "sapie = sapie.rename(columns={'Postal Code':'state', 'Name':'county'})\n",
    "sapie"
   ]
  },
  {
   "cell_type": "code",
   "execution_count": 131,
   "metadata": {},
   "outputs": [
    {
     "data": {
      "text/html": "<div>\n<style scoped>\n    .dataframe tbody tr th:only-of-type {\n        vertical-align: middle;\n    }\n\n    .dataframe tbody tr th {\n        vertical-align: top;\n    }\n\n    .dataframe thead th {\n        text-align: right;\n    }\n</style>\n<table border=\"1\" class=\"dataframe\">\n  <thead>\n    <tr style=\"text-align: right;\">\n      <th></th>\n      <th>incidentType</th>\n      <th>state</th>\n      <th>county</th>\n      <th>incidentCount</th>\n      <th>FEMA$</th>\n      <th>medianIncome</th>\n      <th>Median Household Income</th>\n    </tr>\n  </thead>\n  <tbody>\n    <tr>\n      <th>0</th>\n      <td>Earthquake</td>\n      <td>DC</td>\n      <td>District of Columbia</td>\n      <td>15</td>\n      <td>266368.215333</td>\n      <td>0</td>\n      <td>43215</td>\n    </tr>\n    <tr>\n      <th>1</th>\n      <td>Hurricane</td>\n      <td>DC</td>\n      <td>District of Columbia</td>\n      <td>82</td>\n      <td>149075.905610</td>\n      <td>0</td>\n      <td>43215</td>\n    </tr>\n    <tr>\n      <th>2</th>\n      <td>Other</td>\n      <td>DC</td>\n      <td>District of Columbia</td>\n      <td>23</td>\n      <td>414807.994783</td>\n      <td>0</td>\n      <td>43215</td>\n    </tr>\n    <tr>\n      <th>3</th>\n      <td>Severe Storm(s)</td>\n      <td>DC</td>\n      <td>District of Columbia</td>\n      <td>129</td>\n      <td>112287.041163</td>\n      <td>0</td>\n      <td>43215</td>\n    </tr>\n    <tr>\n      <th>4</th>\n      <td>Snow</td>\n      <td>DC</td>\n      <td>District of Columbia</td>\n      <td>83</td>\n      <td>248338.387349</td>\n      <td>0</td>\n      <td>43215</td>\n    </tr>\n  </tbody>\n</table>\n</div>",
      "text/plain": "      incidentType state                county  incidentCount          FEMA$  \\\n0       Earthquake    DC  District of Columbia             15  266368.215333   \n1        Hurricane    DC  District of Columbia             82  149075.905610   \n2            Other    DC  District of Columbia             23  414807.994783   \n3  Severe Storm(s)    DC  District of Columbia            129  112287.041163   \n4             Snow    DC  District of Columbia             83  248338.387349   \n\n   medianIncome Median Household Income  \n0             0                   43215  \n1             0                   43215  \n2             0                   43215  \n3             0                   43215  \n4             0                   43215  "
     },
     "execution_count": 131,
     "metadata": {},
     "output_type": "execute_result"
    }
   ],
   "source": [
    "#Add Income data to FEMA\n",
    "merged = fema.merge(sapie, on=['state', 'county'])\n",
    "merged.tail()"
   ]
  },
  {
   "cell_type": "code",
   "execution_count": 134,
   "metadata": {},
   "outputs": [
    {
     "data": {
      "text/html": "<div>\n<style scoped>\n    .dataframe tbody tr th:only-of-type {\n        vertical-align: middle;\n    }\n\n    .dataframe tbody tr th {\n        vertical-align: top;\n    }\n\n    .dataframe thead th {\n        text-align: right;\n    }\n</style>\n<table border=\"1\" class=\"dataframe\">\n  <thead>\n    <tr style=\"text-align: right;\">\n      <th></th>\n      <th>incidentType</th>\n      <th>state</th>\n      <th>county</th>\n      <th>incidentCount</th>\n      <th>FEMA$</th>\n      <th>medianIncome</th>\n      <th>Median Household Income</th>\n    </tr>\n  </thead>\n  <tbody>\n    <tr>\n      <th>0</th>\n      <td>Chemical</td>\n      <td>WV</td>\n      <td>Boone</td>\n      <td>6</td>\n      <td>1.201323e+04</td>\n      <td>0</td>\n      <td>NaN</td>\n    </tr>\n    <tr>\n      <th>1</th>\n      <td>Chemical</td>\n      <td>WV</td>\n      <td>Cabell</td>\n      <td>2</td>\n      <td>3.826870e+03</td>\n      <td>0</td>\n      <td>NaN</td>\n    </tr>\n    <tr>\n      <th>2</th>\n      <td>Chemical</td>\n      <td>WV</td>\n      <td>Kanawha</td>\n      <td>12</td>\n      <td>5.098635e+04</td>\n      <td>0</td>\n      <td>NaN</td>\n    </tr>\n    <tr>\n      <th>3</th>\n      <td>Chemical</td>\n      <td>WV</td>\n      <td>Lincoln</td>\n      <td>9</td>\n      <td>7.432648e+03</td>\n      <td>0</td>\n      <td>NaN</td>\n    </tr>\n    <tr>\n      <th>4</th>\n      <td>Chemical</td>\n      <td>WV</td>\n      <td>Putnam</td>\n      <td>13</td>\n      <td>5.519388e+03</td>\n      <td>0</td>\n      <td>NaN</td>\n    </tr>\n    <tr>\n      <th>...</th>\n      <td>...</td>\n      <td>...</td>\n      <td>...</td>\n      <td>...</td>\n      <td>...</td>\n      <td>...</td>\n      <td>...</td>\n    </tr>\n    <tr>\n      <th>7549</th>\n      <td>Tsunami</td>\n      <td>HI</td>\n      <td>Maui</td>\n      <td>7</td>\n      <td>2.939823e+04</td>\n      <td>0</td>\n      <td>NaN</td>\n    </tr>\n    <tr>\n      <th>7550</th>\n      <td>Tsunami</td>\n      <td>OR</td>\n      <td>Coos</td>\n      <td>3</td>\n      <td>4.454609e+04</td>\n      <td>0</td>\n      <td>NaN</td>\n    </tr>\n    <tr>\n      <th>7551</th>\n      <td>Tsunami</td>\n      <td>OR</td>\n      <td>Curry</td>\n      <td>5</td>\n      <td>1.018568e+06</td>\n      <td>0</td>\n      <td>NaN</td>\n    </tr>\n    <tr>\n      <th>7552</th>\n      <td>Tsunami</td>\n      <td>OR</td>\n      <td>Lincoln</td>\n      <td>3</td>\n      <td>6.313122e+04</td>\n      <td>0</td>\n      <td>NaN</td>\n    </tr>\n    <tr>\n      <th>7553</th>\n      <td>Volcano</td>\n      <td>HI</td>\n      <td>Hawaii</td>\n      <td>14</td>\n      <td>9.136473e+05</td>\n      <td>0</td>\n      <td>NaN</td>\n    </tr>\n  </tbody>\n</table>\n<p>7554 rows × 7 columns</p>\n</div>",
      "text/plain": "     incidentType state   county  incidentCount         FEMA$  medianIncome  \\\n0        Chemical    WV    Boone              6  1.201323e+04             0   \n1        Chemical    WV   Cabell              2  3.826870e+03             0   \n2        Chemical    WV  Kanawha             12  5.098635e+04             0   \n3        Chemical    WV  Lincoln              9  7.432648e+03             0   \n4        Chemical    WV   Putnam             13  5.519388e+03             0   \n...           ...   ...      ...            ...           ...           ...   \n7549      Tsunami    HI     Maui              7  2.939823e+04             0   \n7550      Tsunami    OR     Coos              3  4.454609e+04             0   \n7551      Tsunami    OR    Curry              5  1.018568e+06             0   \n7552      Tsunami    OR  Lincoln              3  6.313122e+04             0   \n7553      Volcano    HI   Hawaii             14  9.136473e+05             0   \n\n     Median Household Income  \n0                        NaN  \n1                        NaN  \n2                        NaN  \n3                        NaN  \n4                        NaN  \n...                      ...  \n7549                     NaN  \n7550                     NaN  \n7551                     NaN  \n7552                     NaN  \n7553                     NaN  \n\n[7554 rows x 7 columns]"
     },
     "execution_count": 134,
     "metadata": {},
     "output_type": "execute_result"
    }
   ],
   "source": [
    "merged_tom = pd.merge(fema, sapie, how='left')\n",
    "merged_tom"
   ]
  },
  {
   "cell_type": "code",
   "execution_count": null,
   "metadata": {},
   "outputs": [],
   "source": []
  }
 ]
}