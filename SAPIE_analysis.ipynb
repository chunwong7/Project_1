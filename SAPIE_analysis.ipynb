{
 "nbformat": 4,
 "nbformat_minor": 2,
 "metadata": {
  "language_info": {
   "name": "python",
   "codemirror_mode": {
    "name": "ipython",
    "version": 3
   },
   "version": "3.7.4-final"
  },
  "orig_nbformat": 2,
  "file_extension": ".py",
  "mimetype": "text/x-python",
  "name": "python",
  "npconvert_exporter": "python",
  "pygments_lexer": "ipython3",
  "version": 3,
  "kernelspec": {
   "name": "python37664bitpythondataconda9adbda39bd454e7faf6cd0d67b7317a9",
   "display_name": "Python 3.7.6 64-bit ('PythonData': conda)"
  }
 },
 "cells": [
  {
   "cell_type": "code",
   "execution_count": 2,
   "metadata": {},
   "outputs": [],
   "source": [
    "#import dependencies\n",
    "import pandas as pd\n",
    "import matplotlib as plt\n",
    "import scipy.stats as st"
   ]
  },
  {
   "cell_type": "code",
   "execution_count": 3,
   "metadata": {},
   "outputs": [
    {
     "output_type": "execute_result",
     "data": {
      "text/plain": "  incidentType         state   county  incidentCount         FEMA$\n0     Chemical  WestVirginia    Boone              6  12013.226667\n1     Chemical  WestVirginia   Cabell              2   3826.870000\n2     Chemical  WestVirginia  Kanawha             12  50986.351667\n3     Chemical  WestVirginia  Lincoln              9   7432.647778\n4     Chemical  WestVirginia   Putnam             13   5519.388462",
      "text/html": "<div>\n<style scoped>\n    .dataframe tbody tr th:only-of-type {\n        vertical-align: middle;\n    }\n\n    .dataframe tbody tr th {\n        vertical-align: top;\n    }\n\n    .dataframe thead th {\n        text-align: right;\n    }\n</style>\n<table border=\"1\" class=\"dataframe\">\n  <thead>\n    <tr style=\"text-align: right;\">\n      <th></th>\n      <th>incidentType</th>\n      <th>state</th>\n      <th>county</th>\n      <th>incidentCount</th>\n      <th>FEMA$</th>\n    </tr>\n  </thead>\n  <tbody>\n    <tr>\n      <th>0</th>\n      <td>Chemical</td>\n      <td>WestVirginia</td>\n      <td>Boone</td>\n      <td>6</td>\n      <td>12013.226667</td>\n    </tr>\n    <tr>\n      <th>1</th>\n      <td>Chemical</td>\n      <td>WestVirginia</td>\n      <td>Cabell</td>\n      <td>2</td>\n      <td>3826.870000</td>\n    </tr>\n    <tr>\n      <th>2</th>\n      <td>Chemical</td>\n      <td>WestVirginia</td>\n      <td>Kanawha</td>\n      <td>12</td>\n      <td>50986.351667</td>\n    </tr>\n    <tr>\n      <th>3</th>\n      <td>Chemical</td>\n      <td>WestVirginia</td>\n      <td>Lincoln</td>\n      <td>9</td>\n      <td>7432.647778</td>\n    </tr>\n    <tr>\n      <th>4</th>\n      <td>Chemical</td>\n      <td>WestVirginia</td>\n      <td>Putnam</td>\n      <td>13</td>\n      <td>5519.388462</td>\n    </tr>\n  </tbody>\n</table>\n</div>"
     },
     "metadata": {},
     "execution_count": 3
    }
   ],
   "source": [
    "#Read in FEMA data\n",
    "fema = pd.read_csv('publicAssistanceData/byDisasterandCounty.csv')\n",
    "fema.head()"
   ]
  },
  {
   "cell_type": "code",
   "execution_count": 4,
   "metadata": {},
   "outputs": [
    {
     "output_type": "execute_result",
     "data": {
      "text/plain": "  incidentType state   county  incidentCount         FEMA$\n0     Chemical    WV    Boone              6  12013.226667\n1     Chemical    WV   Cabell              2   3826.870000\n2     Chemical    WV  Kanawha             12  50986.351667\n3     Chemical    WV  Lincoln              9   7432.647778\n4     Chemical    WV   Putnam             13   5519.388462",
      "text/html": "<div>\n<style scoped>\n    .dataframe tbody tr th:only-of-type {\n        vertical-align: middle;\n    }\n\n    .dataframe tbody tr th {\n        vertical-align: top;\n    }\n\n    .dataframe thead th {\n        text-align: right;\n    }\n</style>\n<table border=\"1\" class=\"dataframe\">\n  <thead>\n    <tr style=\"text-align: right;\">\n      <th></th>\n      <th>incidentType</th>\n      <th>state</th>\n      <th>county</th>\n      <th>incidentCount</th>\n      <th>FEMA$</th>\n    </tr>\n  </thead>\n  <tbody>\n    <tr>\n      <th>0</th>\n      <td>Chemical</td>\n      <td>WV</td>\n      <td>Boone</td>\n      <td>6</td>\n      <td>12013.226667</td>\n    </tr>\n    <tr>\n      <th>1</th>\n      <td>Chemical</td>\n      <td>WV</td>\n      <td>Cabell</td>\n      <td>2</td>\n      <td>3826.870000</td>\n    </tr>\n    <tr>\n      <th>2</th>\n      <td>Chemical</td>\n      <td>WV</td>\n      <td>Kanawha</td>\n      <td>12</td>\n      <td>50986.351667</td>\n    </tr>\n    <tr>\n      <th>3</th>\n      <td>Chemical</td>\n      <td>WV</td>\n      <td>Lincoln</td>\n      <td>9</td>\n      <td>7432.647778</td>\n    </tr>\n    <tr>\n      <th>4</th>\n      <td>Chemical</td>\n      <td>WV</td>\n      <td>Putnam</td>\n      <td>13</td>\n      <td>5519.388462</td>\n    </tr>\n  </tbody>\n</table>\n</div>"
     },
     "metadata": {},
     "execution_count": 4
    }
   ],
   "source": [
    "states = {\"Alabama\":'AL',\"Alaska\":'AK',\"Arizona\":'AZ',\"Arkansas\":'AR',\"California\":'CA',\"Colorado\":\"CO\",\n",
    "  \"Connecticut\":\"CT\",\"Delaware\":\"DE\",\"Florida\":\"FL\",\"Georgia\":\"GA\",\"Hawaii\":\"HI\",\"Idaho\":\"ID\",\"Illinois\":\"IL\",\n",
    "  \"Indiana\":\"IN\",\"Iowa\":\"IA\",\"Kansas\":\"KS\",\"Kentucky\":\"KY\",\"Louisiana\":\"LA\",\"Maine\":\"ME\",\"Maryland\":\"MD\",\n",
    "  \"Massachusetts\":\"MA\",\"Michigan\":\"MI\",\"Minnesota\":\"MN\",\"Mississippi\":\"MS\",\"Missouri\":\"MI\",\"Montana\":\"MT\",\n",
    "  \"Nebraska\":\"NE\",\"Nevada\":\"NV\",\"NewHampshire\":\"NH\",\"NewJersey\":\"NJ\",\"NewMexico\":\"NM\",\"NewYork\":\"NY\",\n",
    "  \"NorthCarolina\":\"NC\",\"NorthDakota\":\"ND\",\"Ohio\":\"OH\",\"Oklahoma\":\"OK\",\"Oregon\":\"OR\",\"Pennsylvania\":\"PA\",\n",
    "  \"RhodeIsland\":\"RI\",\"SouthCarolina\":\"SC\",\"SouthDakota\":\"SD\",\"Tennessee\":\"TN\",\"Texas\":\"TX\",\"Utah\":\"UT\",\n",
    "  \"Vermont\":\"VT\",\"Virginia\":\"VA\",\"Washington\":\"WA\",\"WestVirginia\":\"WV\",\"Wisconsin\":\"WI\",\"Wyoming\":\"WY\", \"DistrictofColumbia\":\"DC\"}\n",
    "df_states = fema['state']\n",
    "state_fix = [states[state] for state in df_states]\n",
    "fema['state'] = state_fix\n",
    "fema.head()"
   ]
  },
  {
   "cell_type": "code",
   "execution_count": 5,
   "metadata": {},
   "outputs": [
    {
     "output_type": "execute_result",
     "data": {
      "text/plain": "  state   county Median Household Income\n0    AL  Autauga                   44241\n1    AL  Baldwin                   41961\n2    AL  Barbour                   26062\n3    AL     Bibb                   32924\n4    AL   Blount                   37758",
      "text/html": "<div>\n<style scoped>\n    .dataframe tbody tr th:only-of-type {\n        vertical-align: middle;\n    }\n\n    .dataframe tbody tr th {\n        vertical-align: top;\n    }\n\n    .dataframe thead th {\n        text-align: right;\n    }\n</style>\n<table border=\"1\" class=\"dataframe\">\n  <thead>\n    <tr style=\"text-align: right;\">\n      <th></th>\n      <th>state</th>\n      <th>county</th>\n      <th>Median Household Income</th>\n    </tr>\n  </thead>\n  <tbody>\n    <tr>\n      <th>0</th>\n      <td>AL</td>\n      <td>Autauga</td>\n      <td>44241</td>\n    </tr>\n    <tr>\n      <th>1</th>\n      <td>AL</td>\n      <td>Baldwin</td>\n      <td>41961</td>\n    </tr>\n    <tr>\n      <th>2</th>\n      <td>AL</td>\n      <td>Barbour</td>\n      <td>26062</td>\n    </tr>\n    <tr>\n      <th>3</th>\n      <td>AL</td>\n      <td>Bibb</td>\n      <td>32924</td>\n    </tr>\n    <tr>\n      <th>4</th>\n      <td>AL</td>\n      <td>Blount</td>\n      <td>37758</td>\n    </tr>\n  </tbody>\n</table>\n</div>"
     },
     "metadata": {},
     "execution_count": 5
    }
   ],
   "source": [
    "#Read in SAPIE data\n",
    "sapie = pd.read_csv('SAPIE_DataClean/ByYear/18SAPIE.csv')\n",
    "#Clean SAPIE Data\n",
    "sapie['Name'] = sapie['Name'].str.strip('County')\n",
    "sapie['Name'] = sapie['Name'].str.strip()\n",
    "sapie = sapie.drop(['Unnamed: 0', 'State County FIPS'], axis=1)\n",
    "sapie = sapie.rename(columns={'Postal Code':'state', 'Name':'county'})\n",
    "sapie.head()"
   ]
  },
  {
   "cell_type": "code",
   "execution_count": 6,
   "metadata": {},
   "outputs": [
    {
     "output_type": "execute_result",
     "data": {
      "text/plain": "      incidentType state   county  incidentCount         FEMA$  \\\n0         Chemical    WV    Boone              6  1.201323e+04   \n1        Hurricane    WV    Boone              5  5.059812e+03   \n2  Severe Storm(s)    WV    Boone             33  3.314241e+04   \n3         Chemical    WV  Kanawha             12  5.098635e+04   \n4            Flood    WV  Kanawha             19  1.165905e+06   \n\n  Median Household Income  \n0                   28675  \n1                   28675  \n2                   28675  \n3                   36379  \n4                   36379  ",
      "text/html": "<div>\n<style scoped>\n    .dataframe tbody tr th:only-of-type {\n        vertical-align: middle;\n    }\n\n    .dataframe tbody tr th {\n        vertical-align: top;\n    }\n\n    .dataframe thead th {\n        text-align: right;\n    }\n</style>\n<table border=\"1\" class=\"dataframe\">\n  <thead>\n    <tr style=\"text-align: right;\">\n      <th></th>\n      <th>incidentType</th>\n      <th>state</th>\n      <th>county</th>\n      <th>incidentCount</th>\n      <th>FEMA$</th>\n      <th>Median Household Income</th>\n    </tr>\n  </thead>\n  <tbody>\n    <tr>\n      <th>0</th>\n      <td>Chemical</td>\n      <td>WV</td>\n      <td>Boone</td>\n      <td>6</td>\n      <td>1.201323e+04</td>\n      <td>28675</td>\n    </tr>\n    <tr>\n      <th>1</th>\n      <td>Hurricane</td>\n      <td>WV</td>\n      <td>Boone</td>\n      <td>5</td>\n      <td>5.059812e+03</td>\n      <td>28675</td>\n    </tr>\n    <tr>\n      <th>2</th>\n      <td>Severe Storm(s)</td>\n      <td>WV</td>\n      <td>Boone</td>\n      <td>33</td>\n      <td>3.314241e+04</td>\n      <td>28675</td>\n    </tr>\n    <tr>\n      <th>3</th>\n      <td>Chemical</td>\n      <td>WV</td>\n      <td>Kanawha</td>\n      <td>12</td>\n      <td>5.098635e+04</td>\n      <td>36379</td>\n    </tr>\n    <tr>\n      <th>4</th>\n      <td>Flood</td>\n      <td>WV</td>\n      <td>Kanawha</td>\n      <td>19</td>\n      <td>1.165905e+06</td>\n      <td>36379</td>\n    </tr>\n  </tbody>\n</table>\n</div>"
     },
     "metadata": {},
     "execution_count": 6
    }
   ],
   "source": [
    "#Add Income data to FEMA\n",
    "merged = fema.merge(sapie, on=['state', 'county'])\n",
    "merged.head()"
   ]
  },
  {
   "cell_type": "markdown",
   "metadata": {},
   "source": [
    "merged_tom = pd.merge(fema, sapie, how='inner')\n",
    "merged_tom"
   ]
  },
  {
   "cell_type": "code",
   "execution_count": 10,
   "metadata": {},
   "outputs": [
    {
     "output_type": "execute_result",
     "data": {
      "text/plain": "      incidentType state   county  incidentCount         FEMA$  \\\n0         Chemical    WV    Boone              6  1.201323e+04   \n1        Hurricane    WV    Boone              5  5.059812e+03   \n2  Severe Storm(s)    WV    Boone             33  3.314241e+04   \n3         Chemical    WV  Kanawha             12  5.098635e+04   \n4            Flood    WV  Kanawha             19  1.165905e+06   \n\n   Median Household Income incomeGroup  \n0                    28675     20k-30k  \n1                    28675     20k-30k  \n2                    28675     20k-30k  \n3                    36379     30k-40k  \n4                    36379     30k-40k  ",
      "text/html": "<div>\n<style scoped>\n    .dataframe tbody tr th:only-of-type {\n        vertical-align: middle;\n    }\n\n    .dataframe tbody tr th {\n        vertical-align: top;\n    }\n\n    .dataframe thead th {\n        text-align: right;\n    }\n</style>\n<table border=\"1\" class=\"dataframe\">\n  <thead>\n    <tr style=\"text-align: right;\">\n      <th></th>\n      <th>incidentType</th>\n      <th>state</th>\n      <th>county</th>\n      <th>incidentCount</th>\n      <th>FEMA$</th>\n      <th>Median Household Income</th>\n      <th>incomeGroup</th>\n    </tr>\n  </thead>\n  <tbody>\n    <tr>\n      <th>0</th>\n      <td>Chemical</td>\n      <td>WV</td>\n      <td>Boone</td>\n      <td>6</td>\n      <td>1.201323e+04</td>\n      <td>28675</td>\n      <td>20k-30k</td>\n    </tr>\n    <tr>\n      <th>1</th>\n      <td>Hurricane</td>\n      <td>WV</td>\n      <td>Boone</td>\n      <td>5</td>\n      <td>5.059812e+03</td>\n      <td>28675</td>\n      <td>20k-30k</td>\n    </tr>\n    <tr>\n      <th>2</th>\n      <td>Severe Storm(s)</td>\n      <td>WV</td>\n      <td>Boone</td>\n      <td>33</td>\n      <td>3.314241e+04</td>\n      <td>28675</td>\n      <td>20k-30k</td>\n    </tr>\n    <tr>\n      <th>3</th>\n      <td>Chemical</td>\n      <td>WV</td>\n      <td>Kanawha</td>\n      <td>12</td>\n      <td>5.098635e+04</td>\n      <td>36379</td>\n      <td>30k-40k</td>\n    </tr>\n    <tr>\n      <th>4</th>\n      <td>Flood</td>\n      <td>WV</td>\n      <td>Kanawha</td>\n      <td>19</td>\n      <td>1.165905e+06</td>\n      <td>36379</td>\n      <td>30k-40k</td>\n    </tr>\n  </tbody>\n</table>\n</div>"
     },
     "metadata": {},
     "execution_count": 10
    }
   ],
   "source": [
    "#Bin data by Med income\n",
    "merged['Median Household Income'] = merged['Median Household Income'].astype(int)\n",
    "bins = [10000,20000,30000,40000,50000,60000,70000,80000,90000,100000]\n",
    "labels = ['10k-20k','20k-30k','30k-40k','40k-50k','50k-60k','60k-70k','70k-80k','80k-90k','90k-100k']\n",
    "merged['incomeGroup'] = pd.cut(merged['Median Household Income'], bins=bins, labels=labels)\n",
    "merged.head()"
   ]
  },
  {
   "cell_type": "code",
   "execution_count": null,
   "metadata": {},
   "outputs": [],
   "source": []
  }
 ]
}