{
 "nbformat": 4,
 "nbformat_minor": 2,
 "metadata": {
  "language_info": {
   "name": "python",
   "codemirror_mode": {
    "name": "ipython",
    "version": 3
   },
   "version": "3.7.6-final"
  },
  "orig_nbformat": 2,
  "file_extension": ".py",
  "mimetype": "text/x-python",
  "name": "python",
  "npconvert_exporter": "python",
  "pygments_lexer": "ipython3",
  "version": 3,
  "kernelspec": {
   "name": "python37664bitpythondataconda9adbda39bd454e7faf6cd0d67b7317a9",
   "display_name": "Python 3.7.6 64-bit ('PythonData': conda)"
  }
 },
 "cells": [
  {
   "cell_type": "code",
   "execution_count": 21,
   "metadata": {},
   "outputs": [],
   "source": [
    "#import dependencies\n",
    "import pandas as pd\n",
    "import matplotlib as plt\n",
    "import scipy.stats as st"
   ]
  },
  {
   "cell_type": "code",
   "execution_count": 29,
   "metadata": {},
   "outputs": [
    {
     "data": {
      "text/html": "<div>\n<style scoped>\n    .dataframe tbody tr th:only-of-type {\n        vertical-align: middle;\n    }\n\n    .dataframe tbody tr th {\n        vertical-align: top;\n    }\n\n    .dataframe thead th {\n        text-align: right;\n    }\n</style>\n<table border=\"1\" class=\"dataframe\">\n  <thead>\n    <tr style=\"text-align: right;\">\n      <th></th>\n      <th>incidentType</th>\n      <th>state</th>\n      <th>county</th>\n      <th>incidentCount</th>\n      <th>FEMA$</th>\n      <th>medianIncome</th>\n    </tr>\n  </thead>\n  <tbody>\n    <tr>\n      <th>0</th>\n      <td>Chemical</td>\n      <td>WestVirginia</td>\n      <td>Boone</td>\n      <td>6</td>\n      <td>12013.226667</td>\n      <td>0</td>\n    </tr>\n    <tr>\n      <th>1</th>\n      <td>Chemical</td>\n      <td>WestVirginia</td>\n      <td>Cabell</td>\n      <td>2</td>\n      <td>3826.870000</td>\n      <td>0</td>\n    </tr>\n    <tr>\n      <th>2</th>\n      <td>Chemical</td>\n      <td>WestVirginia</td>\n      <td>Kanawha</td>\n      <td>12</td>\n      <td>50986.351667</td>\n      <td>0</td>\n    </tr>\n    <tr>\n      <th>3</th>\n      <td>Chemical</td>\n      <td>WestVirginia</td>\n      <td>Lincoln</td>\n      <td>9</td>\n      <td>7432.647778</td>\n      <td>0</td>\n    </tr>\n    <tr>\n      <th>4</th>\n      <td>Chemical</td>\n      <td>WestVirginia</td>\n      <td>Putnam</td>\n      <td>13</td>\n      <td>5519.388462</td>\n      <td>0</td>\n    </tr>\n  </tbody>\n</table>\n</div>",
      "text/plain": "  incidentType         state   county  incidentCount         FEMA$  \\\n0     Chemical  WestVirginia    Boone              6  12013.226667   \n1     Chemical  WestVirginia   Cabell              2   3826.870000   \n2     Chemical  WestVirginia  Kanawha             12  50986.351667   \n3     Chemical  WestVirginia  Lincoln              9   7432.647778   \n4     Chemical  WestVirginia   Putnam             13   5519.388462   \n\n   medianIncome  \n0             0  \n1             0  \n2             0  \n3             0  \n4             0  "
     },
     "execution_count": 29,
     "metadata": {},
     "output_type": "execute_result"
    }
   ],
   "source": [
    "#Read in FEMA data\n",
    "fema = pd.read_csv('publicAssistanceData/byDisasterandCounty.csv')\n",
    "fema['medianIncome'] = 0\n",
    "fema.head()"
   ]
  },
  {
   "cell_type": "code",
   "execution_count": 32,
   "metadata": {},
   "outputs": [
    {
     "data": {
      "text/html": "<div>\n<style scoped>\n    .dataframe tbody tr th:only-of-type {\n        vertical-align: middle;\n    }\n\n    .dataframe tbody tr th {\n        vertical-align: top;\n    }\n\n    .dataframe thead th {\n        text-align: right;\n    }\n</style>\n<table border=\"1\" class=\"dataframe\">\n  <thead>\n    <tr style=\"text-align: right;\">\n      <th></th>\n      <th>incidentType</th>\n      <th>state</th>\n      <th>county</th>\n      <th>incidentCount</th>\n      <th>FEMA$</th>\n      <th>medianIncome</th>\n    </tr>\n  </thead>\n  <tbody>\n    <tr>\n      <th>0</th>\n      <td>Chemical</td>\n      <td>WV</td>\n      <td>Boone</td>\n      <td>6</td>\n      <td>12013.226667</td>\n      <td>0</td>\n    </tr>\n    <tr>\n      <th>1</th>\n      <td>Chemical</td>\n      <td>WV</td>\n      <td>Cabell</td>\n      <td>2</td>\n      <td>3826.870000</td>\n      <td>0</td>\n    </tr>\n    <tr>\n      <th>2</th>\n      <td>Chemical</td>\n      <td>WV</td>\n      <td>Kanawha</td>\n      <td>12</td>\n      <td>50986.351667</td>\n      <td>0</td>\n    </tr>\n    <tr>\n      <th>3</th>\n      <td>Chemical</td>\n      <td>WV</td>\n      <td>Lincoln</td>\n      <td>9</td>\n      <td>7432.647778</td>\n      <td>0</td>\n    </tr>\n    <tr>\n      <th>4</th>\n      <td>Chemical</td>\n      <td>WV</td>\n      <td>Putnam</td>\n      <td>13</td>\n      <td>5519.388462</td>\n      <td>0</td>\n    </tr>\n  </tbody>\n</table>\n</div>",
      "text/plain": "  incidentType state   county  incidentCount         FEMA$  medianIncome\n0     Chemical    WV    Boone              6  12013.226667             0\n1     Chemical    WV   Cabell              2   3826.870000             0\n2     Chemical    WV  Kanawha             12  50986.351667             0\n3     Chemical    WV  Lincoln              9   7432.647778             0\n4     Chemical    WV   Putnam             13   5519.388462             0"
     },
     "execution_count": 32,
     "metadata": {},
     "output_type": "execute_result"
    }
   ],
   "source": [
    "states = {\"Alabama\":'AL',\"Alaska\":'AK',\"Arizona\":'AZ',\"Arkansas\":'AR',\"California\":'CA',\"Colorado\":\"CO\",\n",
    "  \"Connecticut\":\"CT\",\"Delaware\":\"DE\",\"Florida\":\"FL\",\"Georgia\":\"GA\",\"Hawaii\":\"HI\",\"Idaho\":\"ID\",\"Illinois\":\"IL\",\n",
    "  \"Indiana\":\"IN\",\"Iowa\":\"IA\",\"Kansas\":\"KS\",\"Kentucky\":\"KY\",\"Louisiana\":\"LA\",\"Maine\":\"ME\",\"Maryland\":\"MD\",\n",
    "  \"Massachusetts\":\"MA\",\"Michigan\":\"MI\",\"Minnesota\":\"MN\",\"Mississippi\":\"MS\",\"Missouri\":\"MI\",\"Montana\":\"MT\",\n",
    "  \"Nebraska\":\"NE\",\"Nevada\":\"NV\",\"NewHampshire\":\"NH\",\"NewJersey\":\"NJ\",\"NewMexico\":\"NM\",\"NewYork\":\"NY\",\n",
    "  \"NorthCarolina\":\"NC\",\"NorthDakota\":\"ND\",\"Ohio\":\"OH\",\"Oklahoma\":\"OK\",\"Oregon\":\"OR\",\"Pennsylvania\":\"PA\",\n",
    "  \"RhodeIsland\":\"RI\",\"SouthCarolina\":\"SC\",\"SouthDakota\":\"SD\",\"Tennessee\":\"TN\",\"Texas\":\"TX\",\"Utah\":\"UT\",\n",
    "  \"Vermont\":\"VT\",\"Virginia\":\"VA\",\"Washington\":\"WA\",\"WestVirginia\":\"WV\",\"Wisconsin\":\"WI\",\"Wyoming\":\"WY\", \"DistrictofColumbia\":\"DC\"}\n",
    "#for state in states:\n",
    "    #state_df = pd.read_csv(f'SAPIE_DataClean/ByState/{states[state]}_SAPIE.csv')\n",
    "   # state_df = state_df[state_df['Year'] == 2003]\n",
    "    #counties = state_df['Name']\n",
    "    #for county in counties:\n",
    "      #  fema.iloc[[state, county], 'medianIncome'] = state_df.loc[state_df['Name'] == f'{county} County', 'Median Household Income']\n",
    "state_df = pd.read_csv('SAPIE_DataClean/ByState/AL_SAPIE.csv')\n",
    "state_df['Name'] = state_df['Name'].str.strip('County')\n",
    "df_states = fema['state']\n",
    "state_fix = [states[state] for state in df_states]\n",
    "fema['state'] = state_fix\n",
    "fema.head()"
   ]
  },
  {
   "cell_type": "code",
   "execution_count": null,
   "metadata": {},
   "outputs": [],
   "source": []
  }
 ]
}