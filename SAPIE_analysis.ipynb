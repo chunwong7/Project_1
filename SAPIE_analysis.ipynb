{
 "nbformat": 4,
 "nbformat_minor": 2,
 "metadata": {
  "language_info": {
   "name": "python",
   "codemirror_mode": {
    "name": "ipython",
    "version": 3
   },
   "version": "3.7.6-final"
  },
  "orig_nbformat": 2,
  "file_extension": ".py",
  "mimetype": "text/x-python",
  "name": "python",
  "npconvert_exporter": "python",
  "pygments_lexer": "ipython3",
  "version": 3,
  "kernelspec": {
   "name": "python37664bitpythondataconda9adbda39bd454e7faf6cd0d67b7317a9",
   "display_name": "Python 3.7.6 64-bit ('PythonData': conda)"
  }
 },
 "cells": [
  {
   "cell_type": "code",
   "execution_count": 42,
   "metadata": {},
   "outputs": [],
   "source": [
    "#import dependencies\n",
    "import pandas as pd\n",
    "import matplotlib as plt\n",
    "import scipy.stats as st"
   ]
  },
  {
   "cell_type": "code",
   "execution_count": 43,
   "metadata": {},
   "outputs": [
    {
     "data": {
      "text/html": "<div>\n<style scoped>\n    .dataframe tbody tr th:only-of-type {\n        vertical-align: middle;\n    }\n\n    .dataframe tbody tr th {\n        vertical-align: top;\n    }\n\n    .dataframe thead th {\n        text-align: right;\n    }\n</style>\n<table border=\"1\" class=\"dataframe\">\n  <thead>\n    <tr style=\"text-align: right;\">\n      <th></th>\n      <th>incidentType</th>\n      <th>state</th>\n      <th>county</th>\n      <th>incidentCount</th>\n      <th>FEMA$</th>\n    </tr>\n  </thead>\n  <tbody>\n    <tr>\n      <th>0</th>\n      <td>Chemical</td>\n      <td>WestVirginia</td>\n      <td>Boone</td>\n      <td>6</td>\n      <td>12013.226667</td>\n    </tr>\n    <tr>\n      <th>1</th>\n      <td>Chemical</td>\n      <td>WestVirginia</td>\n      <td>Cabell</td>\n      <td>2</td>\n      <td>3826.870000</td>\n    </tr>\n    <tr>\n      <th>2</th>\n      <td>Chemical</td>\n      <td>WestVirginia</td>\n      <td>Kanawha</td>\n      <td>12</td>\n      <td>50986.351667</td>\n    </tr>\n    <tr>\n      <th>3</th>\n      <td>Chemical</td>\n      <td>WestVirginia</td>\n      <td>Lincoln</td>\n      <td>9</td>\n      <td>7432.647778</td>\n    </tr>\n    <tr>\n      <th>4</th>\n      <td>Chemical</td>\n      <td>WestVirginia</td>\n      <td>Putnam</td>\n      <td>13</td>\n      <td>5519.388462</td>\n    </tr>\n  </tbody>\n</table>\n</div>",
      "text/plain": "  incidentType         state   county  incidentCount         FEMA$\n0     Chemical  WestVirginia    Boone              6  12013.226667\n1     Chemical  WestVirginia   Cabell              2   3826.870000\n2     Chemical  WestVirginia  Kanawha             12  50986.351667\n3     Chemical  WestVirginia  Lincoln              9   7432.647778\n4     Chemical  WestVirginia   Putnam             13   5519.388462"
     },
     "execution_count": 43,
     "metadata": {},
     "output_type": "execute_result"
    }
   ],
   "source": [
    "#Read in FEMA data\n",
    "fema = pd.read_csv('publicAssistanceData/byDisasterandCounty.csv')\n",
    "fema.head()"
   ]
  },
  {
   "cell_type": "code",
   "execution_count": 44,
   "metadata": {},
   "outputs": [
    {
     "data": {
      "text/html": "<div>\n<style scoped>\n    .dataframe tbody tr th:only-of-type {\n        vertical-align: middle;\n    }\n\n    .dataframe tbody tr th {\n        vertical-align: top;\n    }\n\n    .dataframe thead th {\n        text-align: right;\n    }\n</style>\n<table border=\"1\" class=\"dataframe\">\n  <thead>\n    <tr style=\"text-align: right;\">\n      <th></th>\n      <th></th>\n      <th>incidentType</th>\n      <th>incidentCount</th>\n      <th>FEMA$</th>\n    </tr>\n    <tr>\n      <th>state</th>\n      <th>county</th>\n      <th></th>\n      <th></th>\n      <th></th>\n    </tr>\n  </thead>\n  <tbody>\n    <tr>\n      <th rowspan=\"5\" valign=\"top\">WV</th>\n      <th>Boone</th>\n      <td>Chemical</td>\n      <td>6</td>\n      <td>12013.226667</td>\n    </tr>\n    <tr>\n      <th>Cabell</th>\n      <td>Chemical</td>\n      <td>2</td>\n      <td>3826.870000</td>\n    </tr>\n    <tr>\n      <th>Kanawha</th>\n      <td>Chemical</td>\n      <td>12</td>\n      <td>50986.351667</td>\n    </tr>\n    <tr>\n      <th>Lincoln</th>\n      <td>Chemical</td>\n      <td>9</td>\n      <td>7432.647778</td>\n    </tr>\n    <tr>\n      <th>Putnam</th>\n      <td>Chemical</td>\n      <td>13</td>\n      <td>5519.388462</td>\n    </tr>\n  </tbody>\n</table>\n</div>",
      "text/plain": "              incidentType  incidentCount         FEMA$\nstate county                                           \nWV    Boone       Chemical              6  12013.226667\n      Cabell      Chemical              2   3826.870000\n      Kanawha     Chemical             12  50986.351667\n      Lincoln     Chemical              9   7432.647778\n      Putnam      Chemical             13   5519.388462"
     },
     "execution_count": 44,
     "metadata": {},
     "output_type": "execute_result"
    }
   ],
   "source": [
    "states = {\"Alabama\":'AL',\"Alaska\":'AK',\"Arizona\":'AZ',\"Arkansas\":'AR',\"California\":'CA',\"Colorado\":\"CO\",\n",
    "  \"Connecticut\":\"CT\",\"Delaware\":\"DE\",\"Florida\":\"FL\",\"Georgia\":\"GA\",\"Hawaii\":\"HI\",\"Idaho\":\"ID\",\"Illinois\":\"IL\",\n",
    "  \"Indiana\":\"IN\",\"Iowa\":\"IA\",\"Kansas\":\"KS\",\"Kentucky\":\"KY\",\"Louisiana\":\"LA\",\"Maine\":\"ME\",\"Maryland\":\"MD\",\n",
    "  \"Massachusetts\":\"MA\",\"Michigan\":\"MI\",\"Minnesota\":\"MN\",\"Mississippi\":\"MS\",\"Missouri\":\"MI\",\"Montana\":\"MT\",\n",
    "  \"Nebraska\":\"NE\",\"Nevada\":\"NV\",\"NewHampshire\":\"NH\",\"NewJersey\":\"NJ\",\"NewMexico\":\"NM\",\"NewYork\":\"NY\",\n",
    "  \"NorthCarolina\":\"NC\",\"NorthDakota\":\"ND\",\"Ohio\":\"OH\",\"Oklahoma\":\"OK\",\"Oregon\":\"OR\",\"Pennsylvania\":\"PA\",\n",
    "  \"RhodeIsland\":\"RI\",\"SouthCarolina\":\"SC\",\"SouthDakota\":\"SD\",\"Tennessee\":\"TN\",\"Texas\":\"TX\",\"Utah\":\"UT\",\n",
    "  \"Vermont\":\"VT\",\"Virginia\":\"VA\",\"Washington\":\"WA\",\"WestVirginia\":\"WV\",\"Wisconsin\":\"WI\",\"Wyoming\":\"WY\", \"DistrictofColumbia\":\"DC\"}\n",
    "df_states = fema['state']\n",
    "state_fix = [states[state] for state in df_states]\n",
    "fema['state'] = state_fix\n",
    "fema = fema.set_index(['state', 'county'])\n",
    "fema.head()"
   ]
  },
  {
   "cell_type": "code",
   "execution_count": 46,
   "metadata": {},
   "outputs": [
    {
     "data": {
      "text/html": "<div>\n<style scoped>\n    .dataframe tbody tr th:only-of-type {\n        vertical-align: middle;\n    }\n\n    .dataframe tbody tr th {\n        vertical-align: top;\n    }\n\n    .dataframe thead th {\n        text-align: right;\n    }\n</style>\n<table border=\"1\" class=\"dataframe\">\n  <thead>\n    <tr style=\"text-align: right;\">\n      <th></th>\n      <th>state</th>\n      <th>county</th>\n      <th>Median Household Income</th>\n    </tr>\n  </thead>\n  <tbody>\n    <tr>\n      <th>0</th>\n      <td>AL</td>\n      <td>Autauga</td>\n      <td>44241</td>\n    </tr>\n    <tr>\n      <th>1</th>\n      <td>AL</td>\n      <td>Baldwin</td>\n      <td>41961</td>\n    </tr>\n    <tr>\n      <th>2</th>\n      <td>AL</td>\n      <td>Barbour</td>\n      <td>26062</td>\n    </tr>\n    <tr>\n      <th>3</th>\n      <td>AL</td>\n      <td>Bibb</td>\n      <td>32924</td>\n    </tr>\n    <tr>\n      <th>4</th>\n      <td>AL</td>\n      <td>Blount</td>\n      <td>37758</td>\n    </tr>\n  </tbody>\n</table>\n</div>",
      "text/plain": "  state    county Median Household Income\n0    AL  Autauga                    44241\n1    AL  Baldwin                    41961\n2    AL  Barbour                    26062\n3    AL     Bibb                    32924\n4    AL   Blount                    37758"
     },
     "execution_count": 46,
     "metadata": {},
     "output_type": "execute_result"
    }
   ],
   "source": [
    "#Read in SAPIE data\n",
    "sapie = pd.read_csv('SAPIE_DataClean/ByYear/18SAPIE.csv')\n",
    "#Clean SAPIE Data\n",
    "sapie['Name'] = sapie['Name'].str.strip('County')\n",
    "sapie = sapie.drop(['Unnamed: 0', 'State County FIPS'], axis=1)\n",
    "sapie = sapie.rename(columns={'Postal Code':'state', 'Name':'county'})\n",
    "sapie.head()"
   ]
  },
  {
   "cell_type": "code",
   "execution_count": null,
   "metadata": {},
   "outputs": [],
   "source": []
  }
 ]
}