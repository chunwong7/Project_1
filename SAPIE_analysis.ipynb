{
 "nbformat": 4,
 "nbformat_minor": 2,
 "metadata": {
  "language_info": {
   "name": "python",
   "codemirror_mode": {
    "name": "ipython",
    "version": 3
   },
   "version": "3.7.6-final"
  },
  "orig_nbformat": 2,
  "file_extension": ".py",
  "mimetype": "text/x-python",
  "name": "python",
  "npconvert_exporter": "python",
  "pygments_lexer": "ipython3",
  "version": 3,
  "kernelspec": {
   "name": "python37664bitpythondataconda9adbda39bd454e7faf6cd0d67b7317a9",
   "display_name": "Python 3.7.6 64-bit ('PythonData': conda)"
  }
 },
 "cells": [
  {
   "cell_type": "code",
   "execution_count": 1,
   "metadata": {},
   "outputs": [],
   "source": [
    "#import dependencies\n",
    "import pandas as pd\n",
    "import matplotlib as plt\n",
    "import scipy.stats as st"
   ]
  },
  {
   "cell_type": "code",
   "execution_count": 2,
   "metadata": {},
   "outputs": [
    {
     "data": {
      "text/html": "<div>\n<style scoped>\n    .dataframe tbody tr th:only-of-type {\n        vertical-align: middle;\n    }\n\n    .dataframe tbody tr th {\n        vertical-align: top;\n    }\n\n    .dataframe thead th {\n        text-align: right;\n    }\n</style>\n<table border=\"1\" class=\"dataframe\">\n  <thead>\n    <tr style=\"text-align: right;\">\n      <th></th>\n      <th>incidentType</th>\n      <th>state</th>\n      <th>county</th>\n      <th>incidentCount</th>\n      <th>FEMA$</th>\n    </tr>\n  </thead>\n  <tbody>\n    <tr>\n      <th>0</th>\n      <td>Chemical</td>\n      <td>WestVirginia</td>\n      <td>Boone</td>\n      <td>6</td>\n      <td>12013.226667</td>\n    </tr>\n    <tr>\n      <th>1</th>\n      <td>Chemical</td>\n      <td>WestVirginia</td>\n      <td>Cabell</td>\n      <td>2</td>\n      <td>3826.870000</td>\n    </tr>\n    <tr>\n      <th>2</th>\n      <td>Chemical</td>\n      <td>WestVirginia</td>\n      <td>Kanawha</td>\n      <td>12</td>\n      <td>50986.351667</td>\n    </tr>\n    <tr>\n      <th>3</th>\n      <td>Chemical</td>\n      <td>WestVirginia</td>\n      <td>Lincoln</td>\n      <td>9</td>\n      <td>7432.647778</td>\n    </tr>\n    <tr>\n      <th>4</th>\n      <td>Chemical</td>\n      <td>WestVirginia</td>\n      <td>Putnam</td>\n      <td>13</td>\n      <td>5519.388462</td>\n    </tr>\n  </tbody>\n</table>\n</div>",
      "text/plain": "  incidentType         state   county  incidentCount         FEMA$\n0     Chemical  WestVirginia    Boone              6  12013.226667\n1     Chemical  WestVirginia   Cabell              2   3826.870000\n2     Chemical  WestVirginia  Kanawha             12  50986.351667\n3     Chemical  WestVirginia  Lincoln              9   7432.647778\n4     Chemical  WestVirginia   Putnam             13   5519.388462"
     },
     "execution_count": 2,
     "metadata": {},
     "output_type": "execute_result"
    }
   ],
   "source": [
    "#Read in FEMA data\n",
    "fema = pd.read_csv('publicAssistanceData/byDisasterandCounty.csv')\n",
    "fema.head()"
   ]
  },
  {
   "cell_type": "code",
   "execution_count": null,
   "metadata": {},
   "outputs": [],
   "source": [
    "fema = fema.groupby()"
   ]
  }
 ]
}