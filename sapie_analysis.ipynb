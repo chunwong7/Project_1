{
 "nbformat": 4,
 "nbformat_minor": 2,
 "metadata": {
  "language_info": {
   "name": "python",
   "codemirror_mode": {
    "name": "ipython",
    "version": 3
   },
   "version": "3.7.6-final"
  },
  "orig_nbformat": 2,
  "file_extension": ".py",
  "mimetype": "text/x-python",
  "name": "python",
  "npconvert_exporter": "python",
  "pygments_lexer": "ipython3",
  "version": 3,
  "kernelspec": {
   "name": "python37664bitpythondataconda9adbda39bd454e7faf6cd0d67b7317a9",
   "display_name": "Python 3.7.6 64-bit ('PythonData': conda)"
  }
 },
 "cells": [
  {
   "cell_type": "code",
   "execution_count": 1,
   "metadata": {},
   "outputs": [],
   "source": [
    "#Import Dependencies\n",
    "import pandas as pd\n",
    "import matplotlib as plt\n",
    "import scipy.stats as st"
   ]
  },
  {
   "cell_type": "code",
   "execution_count": 6,
   "metadata": {},
   "outputs": [
    {
     "data": {
      "text/html": "<div>\n<style scoped>\n    .dataframe tbody tr th:only-of-type {\n        vertical-align: middle;\n    }\n\n    .dataframe tbody tr th {\n        vertical-align: top;\n    }\n\n    .dataframe thead th {\n        text-align: right;\n    }\n</style>\n<table border=\"1\" class=\"dataframe\">\n  <thead>\n    <tr style=\"text-align: right;\">\n      <th></th>\n      <th>disasterNumber</th>\n      <th>county</th>\n      <th>declarationDate</th>\n      <th>incidentType</th>\n      <th>amountOblig</th>\n    </tr>\n  </thead>\n  <tbody>\n    <tr>\n      <th>0</th>\n      <td>1250</td>\n      <td>NaN</td>\n      <td>1998-09-30T00:00:00.000Z</td>\n      <td>Hurricane</td>\n      <td>160829.33</td>\n    </tr>\n    <tr>\n      <th>1</th>\n      <td>1250</td>\n      <td>NaN</td>\n      <td>1998-09-30T00:00:00.000Z</td>\n      <td>Hurricane</td>\n      <td>367256.52</td>\n    </tr>\n    <tr>\n      <th>2</th>\n      <td>1250</td>\n      <td>NaN</td>\n      <td>1998-09-30T00:00:00.000Z</td>\n      <td>Hurricane</td>\n      <td>29615.25</td>\n    </tr>\n    <tr>\n      <th>3</th>\n      <td>1250</td>\n      <td>NaN</td>\n      <td>1998-09-30T00:00:00.000Z</td>\n      <td>Hurricane</td>\n      <td>71458.04</td>\n    </tr>\n    <tr>\n      <th>4</th>\n      <td>1250</td>\n      <td>NaN</td>\n      <td>1998-09-30T00:00:00.000Z</td>\n      <td>Hurricane</td>\n      <td>12179.74</td>\n    </tr>\n  </tbody>\n</table>\n</div>",
      "text/plain": "   disasterNumber county           declarationDate incidentType  amountOblig\n0            1250    NaN  1998-09-30T00:00:00.000Z    Hurricane    160829.33\n1            1250    NaN  1998-09-30T00:00:00.000Z    Hurricane    367256.52\n2            1250    NaN  1998-09-30T00:00:00.000Z    Hurricane     29615.25\n3            1250    NaN  1998-09-30T00:00:00.000Z    Hurricane     71458.04\n4            1250    NaN  1998-09-30T00:00:00.000Z    Hurricane     12179.74"
     },
     "execution_count": 6,
     "metadata": {},
     "output_type": "execute_result"
    }
   ],
   "source": [
    "state_data = 'publicAssistanceData/output_data/state_data/'\n",
    "alabama_data = pd.read_csv(state_data + 'AlabamaPublic.csv')\n",
    "alabama_data.head()"
   ]
  },
  {
   "cell_type": "code",
   "execution_count": 7,
   "metadata": {},
   "outputs": [
    {
     "data": {
      "text/html": "<div>\n<style scoped>\n    .dataframe tbody tr th:only-of-type {\n        vertical-align: middle;\n    }\n\n    .dataframe tbody tr th {\n        vertical-align: top;\n    }\n\n    .dataframe thead th {\n        text-align: right;\n    }\n</style>\n<table border=\"1\" class=\"dataframe\">\n  <thead>\n    <tr style=\"text-align: right;\">\n      <th></th>\n      <th>disasterNumber</th>\n      <th>year</th>\n      <th>incidentType</th>\n      <th>amountOblig</th>\n    </tr>\n  </thead>\n  <tbody>\n    <tr>\n      <th>0</th>\n      <td>1250</td>\n      <td>1998</td>\n      <td>Hurricane</td>\n      <td>160829.33</td>\n    </tr>\n    <tr>\n      <th>1</th>\n      <td>1250</td>\n      <td>1998</td>\n      <td>Hurricane</td>\n      <td>367256.52</td>\n    </tr>\n    <tr>\n      <th>2</th>\n      <td>1250</td>\n      <td>1998</td>\n      <td>Hurricane</td>\n      <td>29615.25</td>\n    </tr>\n    <tr>\n      <th>3</th>\n      <td>1250</td>\n      <td>1998</td>\n      <td>Hurricane</td>\n      <td>71458.04</td>\n    </tr>\n    <tr>\n      <th>4</th>\n      <td>1250</td>\n      <td>1998</td>\n      <td>Hurricane</td>\n      <td>12179.74</td>\n    </tr>\n  </tbody>\n</table>\n</div>",
      "text/plain": "   disasterNumber  year incidentType  amountOblig\n0            1250  1998    Hurricane    160829.33\n1            1250  1998    Hurricane    367256.52\n2            1250  1998    Hurricane     29615.25\n3            1250  1998    Hurricane     71458.04\n4            1250  1998    Hurricane     12179.74"
     },
     "execution_count": 7,
     "metadata": {},
     "output_type": "execute_result"
    }
   ],
   "source": [
    "#Extra cleaning of FEMA data for merging\n",
    "#Remove County data\n",
    "alabama_data = alabama_data.drop('county', axis=1)\n",
    "#Changing date to year\n",
    "dates = alabama_data.declarationDate\n",
    "years = []\n",
    "for date in dates:\n",
    "    year = date[0:4]\n",
    "    years.append(year)\n",
    "alabama_data['declarationDate'] = years\n",
    "alabama_data = alabama_data.rename(columns={'declarationDate':'year'})\n",
    "alabama_data.head()"
   ]
  },
  {
   "cell_type": "code",
   "execution_count": null,
   "metadata": {},
   "outputs": [],
   "source": []
  }
 ]
}