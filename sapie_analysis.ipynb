{
 "nbformat": 4,
 "nbformat_minor": 2,
 "metadata": {
  "language_info": {
   "name": "python",
   "codemirror_mode": {
    "name": "ipython",
    "version": 3
   },
   "version": "3.7.6-final"
  },
  "orig_nbformat": 2,
  "file_extension": ".py",
  "mimetype": "text/x-python",
  "name": "python",
  "npconvert_exporter": "python",
  "pygments_lexer": "ipython3",
  "version": 3,
  "kernelspec": {
   "name": "python37664bitpythondataconda9adbda39bd454e7faf6cd0d67b7317a9",
   "display_name": "Python 3.7.6 64-bit ('PythonData': conda)"
  }
 },
 "cells": [
  {
   "cell_type": "code",
   "execution_count": 32,
   "metadata": {},
   "outputs": [],
   "source": [
    "#Import Dependencies\n",
    "import pandas as pd\n",
    "import matplotlib as plt\n",
    "import scipy.stats as st"
   ]
  },
  {
   "cell_type": "code",
   "execution_count": 39,
   "metadata": {},
   "outputs": [
    {
     "data": {
      "text/html": "<div>\n<style scoped>\n    .dataframe tbody tr th:only-of-type {\n        vertical-align: middle;\n    }\n\n    .dataframe tbody tr th {\n        vertical-align: top;\n    }\n\n    .dataframe thead th {\n        text-align: right;\n    }\n</style>\n<table border=\"1\" class=\"dataframe\">\n  <thead>\n    <tr style=\"text-align: right;\">\n      <th></th>\n      <th>disasterNumber</th>\n      <th>county</th>\n      <th>declarationDate</th>\n      <th>incidentType</th>\n      <th>amountOblig</th>\n    </tr>\n  </thead>\n  <tbody>\n    <tr>\n      <th>0</th>\n      <td>1250</td>\n      <td>NaN</td>\n      <td>1998-09-30T00:00:00.000Z</td>\n      <td>Hurricane</td>\n      <td>160829.33</td>\n    </tr>\n    <tr>\n      <th>1</th>\n      <td>1250</td>\n      <td>NaN</td>\n      <td>1998-09-30T00:00:00.000Z</td>\n      <td>Hurricane</td>\n      <td>367256.52</td>\n    </tr>\n    <tr>\n      <th>2</th>\n      <td>1250</td>\n      <td>NaN</td>\n      <td>1998-09-30T00:00:00.000Z</td>\n      <td>Hurricane</td>\n      <td>29615.25</td>\n    </tr>\n    <tr>\n      <th>3</th>\n      <td>1250</td>\n      <td>NaN</td>\n      <td>1998-09-30T00:00:00.000Z</td>\n      <td>Hurricane</td>\n      <td>71458.04</td>\n    </tr>\n    <tr>\n      <th>4</th>\n      <td>1250</td>\n      <td>NaN</td>\n      <td>1998-09-30T00:00:00.000Z</td>\n      <td>Hurricane</td>\n      <td>12179.74</td>\n    </tr>\n  </tbody>\n</table>\n</div>",
      "text/plain": "   disasterNumber county           declarationDate incidentType  amountOblig\n0            1250    NaN  1998-09-30T00:00:00.000Z    Hurricane    160829.33\n1            1250    NaN  1998-09-30T00:00:00.000Z    Hurricane    367256.52\n2            1250    NaN  1998-09-30T00:00:00.000Z    Hurricane     29615.25\n3            1250    NaN  1998-09-30T00:00:00.000Z    Hurricane     71458.04\n4            1250    NaN  1998-09-30T00:00:00.000Z    Hurricane     12179.74"
     },
     "execution_count": 39,
     "metadata": {},
     "output_type": "execute_result"
    }
   ],
   "source": [
    "state_data = 'publicAssistanceData/output_data/state_data/'\n",
    "alabama_data = pd.read_csv(state_data + 'AlabamaPublic.csv')\n",
    "alabama_data.head()"
   ]
  },
  {
   "cell_type": "code",
   "execution_count": 40,
   "metadata": {},
   "outputs": [],
   "source": [
    "#Extra cleaning of FEMA data for merging\n",
    "#Remove County data\n",
    "alabama_data = alabama_data.drop('county', axis=1)\n",
    "alabama_data.head()\n",
    "#Changing date to year\n",
    "dates = alabama_data.declarationDate\n",
    "years = []\n",
    "for date in dates:\n",
    "    year = int(date[0:4])\n",
    "    years.append(year)\n",
    "alabama_data['declarationDate'] = years\n",
    "alabama_data = alabama_data.rename(columns={'declarationDate':'year','disasterNumber':'disasterID', 'amountOblig':'FEMA$'})\n",
    "#Remove data before '03\n",
    "alabama_data = alabama_data[alabama_data['year'] >= 2003]"
   ]
  },
  {
   "cell_type": "code",
   "execution_count": 41,
   "metadata": {},
   "outputs": [
    {
     "data": {
      "text/html": "<div>\n<style scoped>\n    .dataframe tbody tr th:only-of-type {\n        vertical-align: middle;\n    }\n\n    .dataframe tbody tr th {\n        vertical-align: top;\n    }\n\n    .dataframe thead th {\n        text-align: right;\n    }\n</style>\n<table border=\"1\" class=\"dataframe\">\n  <thead>\n    <tr style=\"text-align: right;\">\n      <th></th>\n      <th>disasterID</th>\n      <th>year</th>\n      <th>incidentType</th>\n      <th>FEMA$</th>\n    </tr>\n  </thead>\n  <tbody>\n    <tr>\n      <th>348</th>\n      <td>1466</td>\n      <td>2003</td>\n      <td>Severe Storm(s)</td>\n      <td>93998.29</td>\n    </tr>\n    <tr>\n      <th>349</th>\n      <td>1466</td>\n      <td>2003</td>\n      <td>Severe Storm(s)</td>\n      <td>13497.98</td>\n    </tr>\n    <tr>\n      <th>350</th>\n      <td>1466</td>\n      <td>2003</td>\n      <td>Severe Storm(s)</td>\n      <td>49107.89</td>\n    </tr>\n    <tr>\n      <th>351</th>\n      <td>1466</td>\n      <td>2003</td>\n      <td>Severe Storm(s)</td>\n      <td>395072.54</td>\n    </tr>\n    <tr>\n      <th>352</th>\n      <td>1466</td>\n      <td>2003</td>\n      <td>Severe Storm(s)</td>\n      <td>3750.00</td>\n    </tr>\n  </tbody>\n</table>\n</div>",
      "text/plain": "     disasterID  year     incidentType      FEMA$\n348        1466  2003  Severe Storm(s)   93998.29\n349        1466  2003  Severe Storm(s)   13497.98\n350        1466  2003  Severe Storm(s)   49107.89\n351        1466  2003  Severe Storm(s)  395072.54\n352        1466  2003  Severe Storm(s)    3750.00"
     },
     "execution_count": 41,
     "metadata": {},
     "output_type": "execute_result"
    }
   ],
   "source": [
    "alabama_data.head()"
   ]
  },
  {
   "cell_type": "code",
   "execution_count": null,
   "metadata": {},
   "outputs": [],
   "source": []
  }
 ]
}