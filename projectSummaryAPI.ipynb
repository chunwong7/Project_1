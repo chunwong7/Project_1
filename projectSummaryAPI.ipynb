{
 "nbformat": 4,
 "nbformat_minor": 2,
 "metadata": {
  "language_info": {
   "name": "python",
   "codemirror_mode": {
    "name": "ipython",
    "version": 3
   },
   "version": "3.7.6-final"
  },
  "orig_nbformat": 2,
  "file_extension": ".py",
  "mimetype": "text/x-python",
  "name": "python",
  "npconvert_exporter": "python",
  "pygments_lexer": "ipython3",
  "version": 3,
  "kernelspec": {
   "name": "python37664bitpythondataconda55388edc13a34f868137f8315f2e1c1f",
   "display_name": "Python 3.7.6 64-bit ('PythonData': conda)"
  }
 },
 "cells": [
  {
   "cell_type": "code",
   "execution_count": 2,
   "metadata": {},
   "outputs": [],
   "source": [
    "#import dependencies\n",
    "import pandas as pd\n",
    "import requests\n",
    "import json\n",
    "from pprint import pprint"
   ]
  },
  {
   "cell_type": "code",
   "execution_count": 27,
   "metadata": {},
   "outputs": [],
   "source": [
    "#Make get request to API\n",
    "response = requests.get('https://www.fema.gov/api/open/v1/PublicAssistanceFundedProjectsSummaries?$select=disasterNumber,incidentType,state,county,federalObligatedAmount').json()"
   ]
  },
  {
   "cell_type": "code",
   "execution_count": 28,
   "metadata": {},
   "outputs": [
    {
     "data": {
      "text/html": "<div>\n<style scoped>\n    .dataframe tbody tr th:only-of-type {\n        vertical-align: middle;\n    }\n\n    .dataframe tbody tr th {\n        vertical-align: top;\n    }\n\n    .dataframe thead th {\n        text-align: right;\n    }\n</style>\n<table border=\"1\" class=\"dataframe\">\n  <thead>\n    <tr style=\"text-align: right;\">\n      <th></th>\n      <th>disasterNumber</th>\n      <th>incidentType</th>\n      <th>state</th>\n      <th>county</th>\n      <th>federalObligatedAmount</th>\n      <th>id</th>\n    </tr>\n  </thead>\n  <tbody>\n    <tr>\n      <th>0</th>\n      <td>1239</td>\n      <td>Severe Storm(s)</td>\n      <td>Texas</td>\n      <td>Val Verde</td>\n      <td>12028.63</td>\n      <td>5da9c7005164620fcb0213ca</td>\n    </tr>\n    <tr>\n      <th>1</th>\n      <td>1240</td>\n      <td>Hurricane</td>\n      <td>North Carolina</td>\n      <td>NaN</td>\n      <td>30956.35</td>\n      <td>5da9c7005164620fcb0213dd</td>\n    </tr>\n    <tr>\n      <th>2</th>\n      <td>1240</td>\n      <td>Hurricane</td>\n      <td>North Carolina</td>\n      <td>NaN</td>\n      <td>1288255.25</td>\n      <td>5da9c7005164620fcb0213f4</td>\n    </tr>\n    <tr>\n      <th>3</th>\n      <td>1240</td>\n      <td>Hurricane</td>\n      <td>North Carolina</td>\n      <td>NaN</td>\n      <td>4125.00</td>\n      <td>5da9c7005164620fcb0213f8</td>\n    </tr>\n    <tr>\n      <th>4</th>\n      <td>1240</td>\n      <td>Hurricane</td>\n      <td>North Carolina</td>\n      <td>NaN</td>\n      <td>22810.25</td>\n      <td>5da9c7005164620fcb0213da</td>\n    </tr>\n  </tbody>\n</table>\n</div>",
      "text/plain": "   disasterNumber     incidentType           state     county  \\\n0            1239  Severe Storm(s)           Texas  Val Verde   \n1            1240        Hurricane  North Carolina        NaN   \n2            1240        Hurricane  North Carolina        NaN   \n3            1240        Hurricane  North Carolina        NaN   \n4            1240        Hurricane  North Carolina        NaN   \n\n   federalObligatedAmount                        id  \n0                12028.63  5da9c7005164620fcb0213ca  \n1                30956.35  5da9c7005164620fcb0213dd  \n2              1288255.25  5da9c7005164620fcb0213f4  \n3                 4125.00  5da9c7005164620fcb0213f8  \n4                22810.25  5da9c7005164620fcb0213da  "
     },
     "execution_count": 28,
     "metadata": {},
     "output_type": "execute_result"
    }
   ],
   "source": [
    "#Create dataframe for the data\n",
    "service_df = pd.DataFrame(response['PublicAssistanceFundedProjectsSummaries'])\n",
    "service_df.head()"
   ]
  },
  {
   "cell_type": "code",
   "execution_count": 29,
   "metadata": {},
   "outputs": [
    {
     "data": {
      "text/html": "<div>\n<style scoped>\n    .dataframe tbody tr th:only-of-type {\n        vertical-align: middle;\n    }\n\n    .dataframe tbody tr th {\n        vertical-align: top;\n    }\n\n    .dataframe thead th {\n        text-align: right;\n    }\n</style>\n<table border=\"1\" class=\"dataframe\">\n  <thead>\n    <tr style=\"text-align: right;\">\n      <th></th>\n      <th>disasterNumber</th>\n      <th>incidentType</th>\n      <th>state</th>\n      <th>county</th>\n      <th>federalObligatedAmount</th>\n    </tr>\n  </thead>\n  <tbody>\n    <tr>\n      <th>0</th>\n      <td>1239</td>\n      <td>Severe Storm(s)</td>\n      <td>Texas</td>\n      <td>Val Verde</td>\n      <td>12028.63</td>\n    </tr>\n    <tr>\n      <th>1</th>\n      <td>1240</td>\n      <td>Hurricane</td>\n      <td>North Carolina</td>\n      <td>NaN</td>\n      <td>30956.35</td>\n    </tr>\n    <tr>\n      <th>2</th>\n      <td>1240</td>\n      <td>Hurricane</td>\n      <td>North Carolina</td>\n      <td>NaN</td>\n      <td>1288255.25</td>\n    </tr>\n    <tr>\n      <th>3</th>\n      <td>1240</td>\n      <td>Hurricane</td>\n      <td>North Carolina</td>\n      <td>NaN</td>\n      <td>4125.00</td>\n    </tr>\n    <tr>\n      <th>4</th>\n      <td>1240</td>\n      <td>Hurricane</td>\n      <td>North Carolina</td>\n      <td>NaN</td>\n      <td>22810.25</td>\n    </tr>\n  </tbody>\n</table>\n</div>",
      "text/plain": "   disasterNumber     incidentType           state     county  \\\n0            1239  Severe Storm(s)           Texas  Val Verde   \n1            1240        Hurricane  North Carolina        NaN   \n2            1240        Hurricane  North Carolina        NaN   \n3            1240        Hurricane  North Carolina        NaN   \n4            1240        Hurricane  North Carolina        NaN   \n\n   federalObligatedAmount  \n0                12028.63  \n1                30956.35  \n2              1288255.25  \n3                 4125.00  \n4                22810.25  "
     },
     "execution_count": 29,
     "metadata": {},
     "output_type": "execute_result"
    }
   ],
   "source": [
    "#Clean the df\n",
    "service_df = service_df.drop(axis=1, columns=['id'])\n",
    "service_df.head()"
   ]
  },
  {
   "cell_type": "code",
   "execution_count": 49,
   "metadata": {},
   "outputs": [
    {
     "data": {
      "text/html": "<div>\n<style scoped>\n    .dataframe tbody tr th:only-of-type {\n        vertical-align: middle;\n    }\n\n    .dataframe tbody tr th {\n        vertical-align: top;\n    }\n\n    .dataframe thead th {\n        text-align: right;\n    }\n</style>\n<table border=\"1\" class=\"dataframe\">\n  <thead>\n    <tr style=\"text-align: right;\">\n      <th></th>\n      <th>disasterNumber</th>\n      <th>incidentType</th>\n      <th>county</th>\n      <th>federalObligatedAmount</th>\n    </tr>\n    <tr>\n      <th>state</th>\n      <th></th>\n      <th></th>\n      <th></th>\n      <th></th>\n    </tr>\n  </thead>\n  <tbody>\n    <tr>\n      <th>Alabama</th>\n      <td>62</td>\n      <td>62</td>\n      <td>3</td>\n      <td>62</td>\n    </tr>\n    <tr>\n      <th>Arkansas</th>\n      <td>6</td>\n      <td>6</td>\n      <td>6</td>\n      <td>6</td>\n    </tr>\n    <tr>\n      <th>Colorado</th>\n      <td>1</td>\n      <td>1</td>\n      <td>1</td>\n      <td>1</td>\n    </tr>\n    <tr>\n      <th>Iowa</th>\n      <td>4</td>\n      <td>4</td>\n      <td>4</td>\n      <td>4</td>\n    </tr>\n    <tr>\n      <th>Kansas</th>\n      <td>19</td>\n      <td>19</td>\n      <td>0</td>\n      <td>19</td>\n    </tr>\n    <tr>\n      <th>Louisiana</th>\n      <td>1</td>\n      <td>1</td>\n      <td>1</td>\n      <td>1</td>\n    </tr>\n    <tr>\n      <th>Maine</th>\n      <td>3</td>\n      <td>3</td>\n      <td>0</td>\n      <td>3</td>\n    </tr>\n    <tr>\n      <th>Minnesota</th>\n      <td>5</td>\n      <td>5</td>\n      <td>5</td>\n      <td>5</td>\n    </tr>\n    <tr>\n      <th>Mississippi</th>\n      <td>4</td>\n      <td>4</td>\n      <td>4</td>\n      <td>4</td>\n    </tr>\n    <tr>\n      <th>Missouri</th>\n      <td>33</td>\n      <td>33</td>\n      <td>0</td>\n      <td>33</td>\n    </tr>\n    <tr>\n      <th>Nevada</th>\n      <td>1</td>\n      <td>1</td>\n      <td>1</td>\n      <td>1</td>\n    </tr>\n    <tr>\n      <th>New York</th>\n      <td>250</td>\n      <td>250</td>\n      <td>0</td>\n      <td>250</td>\n    </tr>\n    <tr>\n      <th>North Carolina</th>\n      <td>162</td>\n      <td>162</td>\n      <td>4</td>\n      <td>162</td>\n    </tr>\n    <tr>\n      <th>North Dakota</th>\n      <td>10</td>\n      <td>10</td>\n      <td>10</td>\n      <td>10</td>\n    </tr>\n    <tr>\n      <th>Oklahoma</th>\n      <td>5</td>\n      <td>5</td>\n      <td>5</td>\n      <td>5</td>\n    </tr>\n    <tr>\n      <th>Pennsylvania</th>\n      <td>1</td>\n      <td>1</td>\n      <td>1</td>\n      <td>1</td>\n    </tr>\n    <tr>\n      <th>Puerto Rico</th>\n      <td>231</td>\n      <td>231</td>\n      <td>0</td>\n      <td>229</td>\n    </tr>\n    <tr>\n      <th>South Carolina</th>\n      <td>26</td>\n      <td>26</td>\n      <td>0</td>\n      <td>26</td>\n    </tr>\n    <tr>\n      <th>Tennessee</th>\n      <td>10</td>\n      <td>10</td>\n      <td>10</td>\n      <td>10</td>\n    </tr>\n    <tr>\n      <th>Texas</th>\n      <td>123</td>\n      <td>123</td>\n      <td>72</td>\n      <td>123</td>\n    </tr>\n    <tr>\n      <th>Virgin Islands of the U.S.</th>\n      <td>23</td>\n      <td>23</td>\n      <td>0</td>\n      <td>23</td>\n    </tr>\n    <tr>\n      <th>Virginia</th>\n      <td>10</td>\n      <td>10</td>\n      <td>0</td>\n      <td>10</td>\n    </tr>\n    <tr>\n      <th>Washington</th>\n      <td>5</td>\n      <td>5</td>\n      <td>0</td>\n      <td>5</td>\n    </tr>\n    <tr>\n      <th>Wisconsin</th>\n      <td>5</td>\n      <td>5</td>\n      <td>5</td>\n      <td>5</td>\n    </tr>\n  </tbody>\n</table>\n</div>",
      "text/plain": "                            disasterNumber  incidentType  county  \\\nstate                                                              \nAlabama                                 62            62       3   \nArkansas                                 6             6       6   \nColorado                                 1             1       1   \nIowa                                     4             4       4   \nKansas                                  19            19       0   \nLouisiana                                1             1       1   \nMaine                                    3             3       0   \nMinnesota                                5             5       5   \nMississippi                              4             4       4   \nMissouri                                33            33       0   \nNevada                                   1             1       1   \nNew York                               250           250       0   \nNorth Carolina                         162           162       4   \nNorth Dakota                            10            10      10   \nOklahoma                                 5             5       5   \nPennsylvania                             1             1       1   \nPuerto Rico                            231           231       0   \nSouth Carolina                          26            26       0   \nTennessee                               10            10      10   \nTexas                                  123           123      72   \nVirgin Islands of the U.S.              23            23       0   \nVirginia                                10            10       0   \nWashington                               5             5       0   \nWisconsin                                5             5       5   \n\n                            federalObligatedAmount  \nstate                                               \nAlabama                                         62  \nArkansas                                         6  \nColorado                                         1  \nIowa                                             4  \nKansas                                          19  \nLouisiana                                        1  \nMaine                                            3  \nMinnesota                                        5  \nMississippi                                      4  \nMissouri                                        33  \nNevada                                           1  \nNew York                                       250  \nNorth Carolina                                 162  \nNorth Dakota                                    10  \nOklahoma                                         5  \nPennsylvania                                     1  \nPuerto Rico                                    229  \nSouth Carolina                                  26  \nTennessee                                       10  \nTexas                                          123  \nVirgin Islands of the U.S.                      23  \nVirginia                                        10  \nWashington                                       5  \nWisconsin                                        5  "
     },
     "execution_count": 49,
     "metadata": {},
     "output_type": "execute_result"
    }
   ],
   "source": [
    "#Groupby state\n",
    "service_by_state = service_df.groupby('state')\n",
    "service_by_state.count()"
   ]
  },
  {
   "cell_type": "code",
   "execution_count": 48,
   "metadata": {},
   "outputs": [
    {
     "ename": "AttributeError",
     "evalue": "'DataFrameGroupBy' object has no attribute 'loc'",
     "output_type": "error",
     "traceback": [
      "\u001b[1;31m---------------------------------------------------------------------------\u001b[0m",
      "\u001b[1;31mAttributeError\u001b[0m                            Traceback (most recent call last)",
      "\u001b[1;32m<ipython-input-48-a7f6caa49608>\u001b[0m in \u001b[0;36m<module>\u001b[1;34m\u001b[0m\n\u001b[0;32m      1\u001b[0m \u001b[0mby_state\u001b[0m \u001b[1;33m=\u001b[0m \u001b[0mservice_by_state\u001b[0m\u001b[1;33m\u001b[0m\u001b[1;33m\u001b[0m\u001b[0m\n\u001b[1;32m----> 2\u001b[1;33m \u001b[0mby_state\u001b[0m\u001b[1;33m.\u001b[0m\u001b[0mloc\u001b[0m\u001b[1;33m(\u001b[0m\u001b[0mby_state\u001b[0m\u001b[1;33m[\u001b[0m\u001b[1;34m'state'\u001b[0m\u001b[1;33m]\u001b[0m \u001b[1;33m==\u001b[0m \u001b[1;34m'Texas'\u001b[0m\u001b[1;33m)\u001b[0m\u001b[1;33m\u001b[0m\u001b[1;33m\u001b[0m\u001b[0m\n\u001b[0m",
      "\u001b[1;32m~\\Anaconda3\\envs\\PythonData\\lib\\site-packages\\pandas\\core\\groupby\\groupby.py\u001b[0m in \u001b[0;36m__getattr__\u001b[1;34m(self, attr)\u001b[0m\n\u001b[0;32m    578\u001b[0m \u001b[1;33m\u001b[0m\u001b[0m\n\u001b[0;32m    579\u001b[0m         raise AttributeError(\n\u001b[1;32m--> 580\u001b[1;33m             \u001b[1;34mf\"'{type(self).__name__}' object has no attribute '{attr}'\"\u001b[0m\u001b[1;33m\u001b[0m\u001b[1;33m\u001b[0m\u001b[0m\n\u001b[0m\u001b[0;32m    581\u001b[0m         )\n\u001b[0;32m    582\u001b[0m \u001b[1;33m\u001b[0m\u001b[0m\n",
      "\u001b[1;31mAttributeError\u001b[0m: 'DataFrameGroupBy' object has no attribute 'loc'"
     ]
    }
   ],
   "source": [
    "by_state = service_by_state\n",
    "by_state.loc(by_state['state'] == 'Texas')"
   ]
  },
  {
   "cell_type": "code",
   "execution_count": null,
   "metadata": {},
   "outputs": [],
   "source": []
  }
 ]
}