{
 "nbformat": 4,
 "nbformat_minor": 2,
 "metadata": {
  "language_info": {
   "name": "python",
   "codemirror_mode": {
    "name": "ipython",
    "version": 3
   },
   "version": "3.7.6-final"
  },
  "orig_nbformat": 2,
  "file_extension": ".py",
  "mimetype": "text/x-python",
  "name": "python",
  "npconvert_exporter": "python",
  "pygments_lexer": "ipython3",
  "version": 3,
  "kernelspec": {
   "name": "python37664bitpythondataconda55388edc13a34f868137f8315f2e1c1f",
   "display_name": "Python 3.7.6 64-bit ('PythonData': conda)"
  }
 },
 "cells": [
  {
   "cell_type": "code",
   "execution_count": 2,
   "metadata": {},
   "outputs": [],
   "source": [
    "#import dependencies\n",
    "import pandas as pd\n",
    "import requests\n",
    "import json\n",
    "from pprint import pprint"
   ]
  },
  {
   "cell_type": "code",
   "execution_count": 176,
   "metadata": {},
   "outputs": [],
   "source": [
    "#Make get request to API\n",
    "response = requests.get('https://www.fema.gov/api/open/v1/PublicAssistanceFundedProjectsSummaries?$select=disasterNumber,incidentType,state,county,federalObligatedAmount,declarationDate&$filter=declarationDate%20ge%20%272003-01-01T00:00:00.000z%27').json()"
   ]
  },
  {
   "cell_type": "code",
   "execution_count": 177,
   "metadata": {},
   "outputs": [
    {
     "data": {
      "text/html": "<div>\n<style scoped>\n    .dataframe tbody tr th:only-of-type {\n        vertical-align: middle;\n    }\n\n    .dataframe tbody tr th {\n        vertical-align: top;\n    }\n\n    .dataframe thead th {\n        text-align: right;\n    }\n</style>\n<table border=\"1\" class=\"dataframe\">\n  <thead>\n    <tr style=\"text-align: right;\">\n      <th></th>\n      <th>disasterNumber</th>\n      <th>declarationDate</th>\n      <th>incidentType</th>\n      <th>state</th>\n      <th>county</th>\n      <th>federalObligatedAmount</th>\n      <th>id</th>\n    </tr>\n  </thead>\n  <tbody>\n    <tr>\n      <th>0</th>\n      <td>1449</td>\n      <td>2003-01-06T00:00:00.000Z</td>\n      <td>Typhoon</td>\n      <td>Federated States of Micronesia</td>\n      <td>Chuuk</td>\n      <td>39217.62</td>\n      <td>5da9c70b5164620fcb025bbc</td>\n    </tr>\n    <tr>\n      <th>1</th>\n      <td>1449</td>\n      <td>2003-01-06T00:00:00.000Z</td>\n      <td>Typhoon</td>\n      <td>Federated States of Micronesia</td>\n      <td>Chuuk</td>\n      <td>1245.00</td>\n      <td>5da9c70b5164620fcb025bb3</td>\n    </tr>\n    <tr>\n      <th>2</th>\n      <td>1450</td>\n      <td>2003-01-06T00:00:00.000Z</td>\n      <td>Severe Ice Storm</td>\n      <td>Arkansas</td>\n      <td>Clay</td>\n      <td>2482.43</td>\n      <td>5da9c70b5164620fcb025be8</td>\n    </tr>\n    <tr>\n      <th>3</th>\n      <td>1449</td>\n      <td>2003-01-06T00:00:00.000Z</td>\n      <td>Typhoon</td>\n      <td>Federated States of Micronesia</td>\n      <td>Chuuk</td>\n      <td>14322.98</td>\n      <td>5da9c70b5164620fcb025bfe</td>\n    </tr>\n    <tr>\n      <th>4</th>\n      <td>1449</td>\n      <td>2003-01-06T00:00:00.000Z</td>\n      <td>Typhoon</td>\n      <td>Federated States of Micronesia</td>\n      <td>Chuuk</td>\n      <td>30429.71</td>\n      <td>5da9c70b5164620fcb025bd7</td>\n    </tr>\n    <tr>\n      <th>...</th>\n      <td>...</td>\n      <td>...</td>\n      <td>...</td>\n      <td>...</td>\n      <td>...</td>\n      <td>...</td>\n      <td>...</td>\n    </tr>\n    <tr>\n      <th>995</th>\n      <td>3175</td>\n      <td>2003-03-11T00:00:00.000Z</td>\n      <td>Snow</td>\n      <td>Massachusetts</td>\n      <td>Bristol</td>\n      <td>10072.04</td>\n      <td>5da9c7425164620fcb03b417</td>\n    </tr>\n    <tr>\n      <th>996</th>\n      <td>3175</td>\n      <td>2003-03-11T00:00:00.000Z</td>\n      <td>Snow</td>\n      <td>Massachusetts</td>\n      <td>Berkshire</td>\n      <td>1395.40</td>\n      <td>5da9c7425164620fcb03b427</td>\n    </tr>\n    <tr>\n      <th>997</th>\n      <td>3175</td>\n      <td>2003-03-11T00:00:00.000Z</td>\n      <td>Snow</td>\n      <td>Massachusetts</td>\n      <td>Bristol</td>\n      <td>806.25</td>\n      <td>5da9c7425164620fcb03b453</td>\n    </tr>\n    <tr>\n      <th>998</th>\n      <td>3175</td>\n      <td>2003-03-11T00:00:00.000Z</td>\n      <td>Snow</td>\n      <td>Massachusetts</td>\n      <td>Bristol</td>\n      <td>948.11</td>\n      <td>5da9c7425164620fcb03b430</td>\n    </tr>\n    <tr>\n      <th>999</th>\n      <td>3175</td>\n      <td>2003-03-11T00:00:00.000Z</td>\n      <td>Snow</td>\n      <td>Massachusetts</td>\n      <td>Berkshire</td>\n      <td>2805.75</td>\n      <td>5da9c7425164620fcb03b43b</td>\n    </tr>\n  </tbody>\n</table>\n<p>1000 rows × 7 columns</p>\n</div>",
      "text/plain": "     disasterNumber           declarationDate      incidentType  \\\n0              1449  2003-01-06T00:00:00.000Z           Typhoon   \n1              1449  2003-01-06T00:00:00.000Z           Typhoon   \n2              1450  2003-01-06T00:00:00.000Z  Severe Ice Storm   \n3              1449  2003-01-06T00:00:00.000Z           Typhoon   \n4              1449  2003-01-06T00:00:00.000Z           Typhoon   \n..              ...                       ...               ...   \n995            3175  2003-03-11T00:00:00.000Z              Snow   \n996            3175  2003-03-11T00:00:00.000Z              Snow   \n997            3175  2003-03-11T00:00:00.000Z              Snow   \n998            3175  2003-03-11T00:00:00.000Z              Snow   \n999            3175  2003-03-11T00:00:00.000Z              Snow   \n\n                              state     county  federalObligatedAmount  \\\n0    Federated States of Micronesia      Chuuk                39217.62   \n1    Federated States of Micronesia      Chuuk                 1245.00   \n2                          Arkansas       Clay                 2482.43   \n3    Federated States of Micronesia      Chuuk                14322.98   \n4    Federated States of Micronesia      Chuuk                30429.71   \n..                              ...        ...                     ...   \n995                   Massachusetts    Bristol                10072.04   \n996                   Massachusetts  Berkshire                 1395.40   \n997                   Massachusetts    Bristol                  806.25   \n998                   Massachusetts    Bristol                  948.11   \n999                   Massachusetts  Berkshire                 2805.75   \n\n                           id  \n0    5da9c70b5164620fcb025bbc  \n1    5da9c70b5164620fcb025bb3  \n2    5da9c70b5164620fcb025be8  \n3    5da9c70b5164620fcb025bfe  \n4    5da9c70b5164620fcb025bd7  \n..                        ...  \n995  5da9c7425164620fcb03b417  \n996  5da9c7425164620fcb03b427  \n997  5da9c7425164620fcb03b453  \n998  5da9c7425164620fcb03b430  \n999  5da9c7425164620fcb03b43b  \n\n[1000 rows x 7 columns]"
     },
     "execution_count": 177,
     "metadata": {},
     "output_type": "execute_result"
    }
   ],
   "source": [
    "#Create dataframe for the data\n",
    "service_df = pd.DataFrame(response['PublicAssistanceFundedProjectsSummaries'])\n",
    "service_df.head()\n",
    "#Remove API call id\n",
    "#service_df = service_df.drop(axis=1, columns=['id'])\n",
    "service_df"
   ]
  },
  {
   "cell_type": "code",
   "execution_count": 144,
   "metadata": {},
   "outputs": [
    {
     "data": {
      "text/html": "<div>\n<style scoped>\n    .dataframe tbody tr th:only-of-type {\n        vertical-align: middle;\n    }\n\n    .dataframe tbody tr th {\n        vertical-align: top;\n    }\n\n    .dataframe thead th {\n        text-align: right;\n    }\n</style>\n<table border=\"1\" class=\"dataframe\">\n  <thead>\n    <tr style=\"text-align: right;\">\n      <th></th>\n      <th>disasterNumber</th>\n      <th>Year</th>\n      <th>incidentType</th>\n      <th>state</th>\n      <th>county</th>\n      <th>federalObligatedAmount</th>\n    </tr>\n  </thead>\n  <tbody>\n    <tr>\n      <th>0</th>\n      <td>1239</td>\n      <td>1998</td>\n      <td>Severe Storm(s)</td>\n      <td>Texas</td>\n      <td>Val Verde</td>\n      <td>12028.63</td>\n    </tr>\n    <tr>\n      <th>1</th>\n      <td>1240</td>\n      <td>1998</td>\n      <td>Hurricane</td>\n      <td>North Carolina</td>\n      <td>NaN</td>\n      <td>30956.35</td>\n    </tr>\n    <tr>\n      <th>2</th>\n      <td>1240</td>\n      <td>1998</td>\n      <td>Hurricane</td>\n      <td>North Carolina</td>\n      <td>NaN</td>\n      <td>1288255.25</td>\n    </tr>\n    <tr>\n      <th>3</th>\n      <td>1240</td>\n      <td>1998</td>\n      <td>Hurricane</td>\n      <td>North Carolina</td>\n      <td>NaN</td>\n      <td>4125.00</td>\n    </tr>\n    <tr>\n      <th>4</th>\n      <td>1240</td>\n      <td>1998</td>\n      <td>Hurricane</td>\n      <td>North Carolina</td>\n      <td>NaN</td>\n      <td>22810.25</td>\n    </tr>\n  </tbody>\n</table>\n</div>",
      "text/plain": "   disasterNumber  Year     incidentType           state     county  \\\n0            1239  1998  Severe Storm(s)           Texas  Val Verde   \n1            1240  1998        Hurricane  North Carolina        NaN   \n2            1240  1998        Hurricane  North Carolina        NaN   \n3            1240  1998        Hurricane  North Carolina        NaN   \n4            1240  1998        Hurricane  North Carolina        NaN   \n\n   federalObligatedAmount  \n0                12028.63  \n1                30956.35  \n2              1288255.25  \n3                 4125.00  \n4                22810.25  "
     },
     "execution_count": 144,
     "metadata": {},
     "output_type": "execute_result"
    }
   ],
   "source": [
    "#Clean the df\n",
    "dates = service_df.declarationDate\n",
    "years = []\n",
    "for date in dates:\n",
    "    years.append(int(date[0:4]))\n",
    "service_df['declarationDate'] = years\n",
    "service_df = service_df.rename(columns={'declarationDate':'Year'})\n",
    "service_df.head()   "
   ]
  },
  {
   "cell_type": "code",
   "execution_count": 150,
   "metadata": {},
   "outputs": [
    {
     "data": {
      "text/html": "<div>\n<style scoped>\n    .dataframe tbody tr th:only-of-type {\n        vertical-align: middle;\n    }\n\n    .dataframe tbody tr th {\n        vertical-align: top;\n    }\n\n    .dataframe thead th {\n        text-align: right;\n    }\n</style>\n<table border=\"1\" class=\"dataframe\">\n  <thead>\n    <tr style=\"text-align: right;\">\n      <th></th>\n      <th>disasterNumber</th>\n      <th>Year</th>\n      <th>incidentType</th>\n      <th>state</th>\n      <th>county</th>\n      <th>federalObligatedAmount</th>\n    </tr>\n  </thead>\n  <tbody>\n    <tr>\n      <th>0</th>\n      <td>1239</td>\n      <td>1998</td>\n      <td>Severe Storm(s)</td>\n      <td>Texas</td>\n      <td>Val Verde</td>\n      <td>12028.63</td>\n    </tr>\n    <tr>\n      <th>1</th>\n      <td>1240</td>\n      <td>1998</td>\n      <td>Hurricane</td>\n      <td>North Carolina</td>\n      <td>NaN</td>\n      <td>30956.35</td>\n    </tr>\n    <tr>\n      <th>2</th>\n      <td>1240</td>\n      <td>1998</td>\n      <td>Hurricane</td>\n      <td>North Carolina</td>\n      <td>NaN</td>\n      <td>1288255.25</td>\n    </tr>\n    <tr>\n      <th>3</th>\n      <td>1240</td>\n      <td>1998</td>\n      <td>Hurricane</td>\n      <td>North Carolina</td>\n      <td>NaN</td>\n      <td>4125.00</td>\n    </tr>\n    <tr>\n      <th>4</th>\n      <td>1240</td>\n      <td>1998</td>\n      <td>Hurricane</td>\n      <td>North Carolina</td>\n      <td>NaN</td>\n      <td>22810.25</td>\n    </tr>\n    <tr>\n      <th>...</th>\n      <td>...</td>\n      <td>...</td>\n      <td>...</td>\n      <td>...</td>\n      <td>...</td>\n      <td>...</td>\n    </tr>\n    <tr>\n      <th>982</th>\n      <td>1258</td>\n      <td>1998</td>\n      <td>Severe Storm(s)</td>\n      <td>Kansas</td>\n      <td>NaN</td>\n      <td>62433.47</td>\n    </tr>\n    <tr>\n      <th>983</th>\n      <td>1253</td>\n      <td>1998</td>\n      <td>Severe Storm(s)</td>\n      <td>Missouri</td>\n      <td>NaN</td>\n      <td>6272.63</td>\n    </tr>\n    <tr>\n      <th>988</th>\n      <td>1258</td>\n      <td>1998</td>\n      <td>Severe Storm(s)</td>\n      <td>Kansas</td>\n      <td>NaN</td>\n      <td>21562.83</td>\n    </tr>\n    <tr>\n      <th>993</th>\n      <td>1247</td>\n      <td>1998</td>\n      <td>Hurricane</td>\n      <td>Puerto Rico</td>\n      <td>NaN</td>\n      <td>500243.67</td>\n    </tr>\n    <tr>\n      <th>994</th>\n      <td>1258</td>\n      <td>1998</td>\n      <td>Severe Storm(s)</td>\n      <td>Kansas</td>\n      <td>NaN</td>\n      <td>57105.75</td>\n    </tr>\n  </tbody>\n</table>\n<p>936 rows × 6 columns</p>\n</div>",
      "text/plain": "     disasterNumber  Year     incidentType           state     county  \\\n0              1239  1998  Severe Storm(s)           Texas  Val Verde   \n1              1240  1998        Hurricane  North Carolina        NaN   \n2              1240  1998        Hurricane  North Carolina        NaN   \n3              1240  1998        Hurricane  North Carolina        NaN   \n4              1240  1998        Hurricane  North Carolina        NaN   \n..              ...   ...              ...             ...        ...   \n982            1258  1998  Severe Storm(s)          Kansas        NaN   \n983            1253  1998  Severe Storm(s)        Missouri        NaN   \n988            1258  1998  Severe Storm(s)          Kansas        NaN   \n993            1247  1998        Hurricane     Puerto Rico        NaN   \n994            1258  1998  Severe Storm(s)          Kansas        NaN   \n\n     federalObligatedAmount  \n0                  12028.63  \n1                  30956.35  \n2                1288255.25  \n3                   4125.00  \n4                  22810.25  \n..                      ...  \n982                62433.47  \n983                 6272.63  \n988                21562.83  \n993               500243.67  \n994                57105.75  \n\n[936 rows x 6 columns]"
     },
     "execution_count": 150,
     "metadata": {},
     "output_type": "execute_result"
    }
   ],
   "source": [
    "#Removal of data prior to 2003\n",
    "date = 1998\n",
    "service_df.loc[service_df['Year'] == date]"
   ]
  },
  {
   "cell_type": "code",
   "execution_count": 49,
   "metadata": {},
   "outputs": [
    {
     "data": {
      "text/html": "<div>\n<style scoped>\n    .dataframe tbody tr th:only-of-type {\n        vertical-align: middle;\n    }\n\n    .dataframe tbody tr th {\n        vertical-align: top;\n    }\n\n    .dataframe thead th {\n        text-align: right;\n    }\n</style>\n<table border=\"1\" class=\"dataframe\">\n  <thead>\n    <tr style=\"text-align: right;\">\n      <th></th>\n      <th>disasterNumber</th>\n      <th>incidentType</th>\n      <th>county</th>\n      <th>federalObligatedAmount</th>\n    </tr>\n    <tr>\n      <th>state</th>\n      <th></th>\n      <th></th>\n      <th></th>\n      <th></th>\n    </tr>\n  </thead>\n  <tbody>\n    <tr>\n      <th>Alabama</th>\n      <td>62</td>\n      <td>62</td>\n      <td>3</td>\n      <td>62</td>\n    </tr>\n    <tr>\n      <th>Arkansas</th>\n      <td>6</td>\n      <td>6</td>\n      <td>6</td>\n      <td>6</td>\n    </tr>\n    <tr>\n      <th>Colorado</th>\n      <td>1</td>\n      <td>1</td>\n      <td>1</td>\n      <td>1</td>\n    </tr>\n    <tr>\n      <th>Iowa</th>\n      <td>4</td>\n      <td>4</td>\n      <td>4</td>\n      <td>4</td>\n    </tr>\n    <tr>\n      <th>Kansas</th>\n      <td>19</td>\n      <td>19</td>\n      <td>0</td>\n      <td>19</td>\n    </tr>\n    <tr>\n      <th>Louisiana</th>\n      <td>1</td>\n      <td>1</td>\n      <td>1</td>\n      <td>1</td>\n    </tr>\n    <tr>\n      <th>Maine</th>\n      <td>3</td>\n      <td>3</td>\n      <td>0</td>\n      <td>3</td>\n    </tr>\n    <tr>\n      <th>Minnesota</th>\n      <td>5</td>\n      <td>5</td>\n      <td>5</td>\n      <td>5</td>\n    </tr>\n    <tr>\n      <th>Mississippi</th>\n      <td>4</td>\n      <td>4</td>\n      <td>4</td>\n      <td>4</td>\n    </tr>\n    <tr>\n      <th>Missouri</th>\n      <td>33</td>\n      <td>33</td>\n      <td>0</td>\n      <td>33</td>\n    </tr>\n    <tr>\n      <th>Nevada</th>\n      <td>1</td>\n      <td>1</td>\n      <td>1</td>\n      <td>1</td>\n    </tr>\n    <tr>\n      <th>New York</th>\n      <td>250</td>\n      <td>250</td>\n      <td>0</td>\n      <td>250</td>\n    </tr>\n    <tr>\n      <th>North Carolina</th>\n      <td>162</td>\n      <td>162</td>\n      <td>4</td>\n      <td>162</td>\n    </tr>\n    <tr>\n      <th>North Dakota</th>\n      <td>10</td>\n      <td>10</td>\n      <td>10</td>\n      <td>10</td>\n    </tr>\n    <tr>\n      <th>Oklahoma</th>\n      <td>5</td>\n      <td>5</td>\n      <td>5</td>\n      <td>5</td>\n    </tr>\n    <tr>\n      <th>Pennsylvania</th>\n      <td>1</td>\n      <td>1</td>\n      <td>1</td>\n      <td>1</td>\n    </tr>\n    <tr>\n      <th>Puerto Rico</th>\n      <td>231</td>\n      <td>231</td>\n      <td>0</td>\n      <td>229</td>\n    </tr>\n    <tr>\n      <th>South Carolina</th>\n      <td>26</td>\n      <td>26</td>\n      <td>0</td>\n      <td>26</td>\n    </tr>\n    <tr>\n      <th>Tennessee</th>\n      <td>10</td>\n      <td>10</td>\n      <td>10</td>\n      <td>10</td>\n    </tr>\n    <tr>\n      <th>Texas</th>\n      <td>123</td>\n      <td>123</td>\n      <td>72</td>\n      <td>123</td>\n    </tr>\n    <tr>\n      <th>Virgin Islands of the U.S.</th>\n      <td>23</td>\n      <td>23</td>\n      <td>0</td>\n      <td>23</td>\n    </tr>\n    <tr>\n      <th>Virginia</th>\n      <td>10</td>\n      <td>10</td>\n      <td>0</td>\n      <td>10</td>\n    </tr>\n    <tr>\n      <th>Washington</th>\n      <td>5</td>\n      <td>5</td>\n      <td>0</td>\n      <td>5</td>\n    </tr>\n    <tr>\n      <th>Wisconsin</th>\n      <td>5</td>\n      <td>5</td>\n      <td>5</td>\n      <td>5</td>\n    </tr>\n  </tbody>\n</table>\n</div>",
      "text/plain": "                            disasterNumber  incidentType  county  \\\nstate                                                              \nAlabama                                 62            62       3   \nArkansas                                 6             6       6   \nColorado                                 1             1       1   \nIowa                                     4             4       4   \nKansas                                  19            19       0   \nLouisiana                                1             1       1   \nMaine                                    3             3       0   \nMinnesota                                5             5       5   \nMississippi                              4             4       4   \nMissouri                                33            33       0   \nNevada                                   1             1       1   \nNew York                               250           250       0   \nNorth Carolina                         162           162       4   \nNorth Dakota                            10            10      10   \nOklahoma                                 5             5       5   \nPennsylvania                             1             1       1   \nPuerto Rico                            231           231       0   \nSouth Carolina                          26            26       0   \nTennessee                               10            10      10   \nTexas                                  123           123      72   \nVirgin Islands of the U.S.              23            23       0   \nVirginia                                10            10       0   \nWashington                               5             5       0   \nWisconsin                                5             5       5   \n\n                            federalObligatedAmount  \nstate                                               \nAlabama                                         62  \nArkansas                                         6  \nColorado                                         1  \nIowa                                             4  \nKansas                                          19  \nLouisiana                                        1  \nMaine                                            3  \nMinnesota                                        5  \nMississippi                                      4  \nMissouri                                        33  \nNevada                                           1  \nNew York                                       250  \nNorth Carolina                                 162  \nNorth Dakota                                    10  \nOklahoma                                         5  \nPennsylvania                                     1  \nPuerto Rico                                    229  \nSouth Carolina                                  26  \nTennessee                                       10  \nTexas                                          123  \nVirgin Islands of the U.S.                      23  \nVirginia                                        10  \nWashington                                       5  \nWisconsin                                        5  "
     },
     "execution_count": 49,
     "metadata": {},
     "output_type": "execute_result"
    }
   ],
   "source": [
    "#Groupby state\n",
    "service_by_state = service_df.groupby('state')\n",
    "service_by_state.count()"
   ]
  },
  {
   "cell_type": "code",
   "execution_count": 56,
   "metadata": {},
   "outputs": [
    {
     "data": {
      "text/plain": "disasterNumber            1000\nincidentType              1000\ncounty                     132\nfederalObligatedAmount     998\ndtype: int64"
     },
     "execution_count": 56,
     "metadata": {},
     "output_type": "execute_result"
    }
   ],
   "source": [
    "service_by_state.count().sum()"
   ]
  },
  {
   "cell_type": "code",
   "execution_count": null,
   "metadata": {},
   "outputs": [],
   "source": []
  }
 ]
}