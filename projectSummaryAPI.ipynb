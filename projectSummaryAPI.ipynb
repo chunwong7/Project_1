{
 "nbformat": 4,
 "nbformat_minor": 2,
 "metadata": {
  "language_info": {
   "name": "python",
   "codemirror_mode": {
    "name": "ipython",
    "version": 3
   },
   "version": "3.7.6-final"
  },
  "orig_nbformat": 2,
  "file_extension": ".py",
  "mimetype": "text/x-python",
  "name": "python",
  "npconvert_exporter": "python",
  "pygments_lexer": "ipython3",
  "version": 3,
  "kernelspec": {
   "name": "python37664bitpythondataconda55388edc13a34f868137f8315f2e1c1f",
   "display_name": "Python 3.7.6 64-bit ('PythonData': conda)"
  }
 },
 "cells": [
  {
   "cell_type": "code",
   "execution_count": 210,
   "metadata": {},
   "outputs": [],
   "source": [
    "#import dependencies\n",
    "import pandas as pd\n",
    "import requests\n",
    "import json\n",
    "from pprint import pprint"
   ]
  },
  {
   "cell_type": "code",
   "execution_count": 211,
   "metadata": {},
   "outputs": [],
   "source": [
    "#Make get request to API\n",
    "response = requests.get('https://www.fema.gov/api/open/v1/PublicAssistanceFundedProjectsSummaries?$select=disasterNumber,incidentType,state,county,federalObligatedAmount,declarationDate&$filter=declarationDate%20ge%20%272003-01-01T00:00:00.000z%27').json()\n"
   ]
  },
  {
   "cell_type": "code",
   "execution_count": 250,
   "metadata": {},
   "outputs": [
    {
     "data": {
      "text/html": "<div>\n<style scoped>\n    .dataframe tbody tr th:only-of-type {\n        vertical-align: middle;\n    }\n\n    .dataframe tbody tr th {\n        vertical-align: top;\n    }\n\n    .dataframe thead th {\n        text-align: right;\n    }\n</style>\n<table border=\"1\" class=\"dataframe\">\n  <thead>\n    <tr style=\"text-align: right;\">\n      <th></th>\n      <th>disasterNumber</th>\n      <th>declarationDate</th>\n      <th>incidentType</th>\n      <th>state</th>\n      <th>county</th>\n      <th>federalObligatedAmount</th>\n    </tr>\n  </thead>\n  <tbody>\n    <tr>\n      <th>0</th>\n      <td>1449</td>\n      <td>2003-01-06T00:00:00.000Z</td>\n      <td>Typhoon</td>\n      <td>Federated States of Micronesia</td>\n      <td>Chuuk</td>\n      <td>39217.62</td>\n    </tr>\n    <tr>\n      <th>1</th>\n      <td>1449</td>\n      <td>2003-01-06T00:00:00.000Z</td>\n      <td>Typhoon</td>\n      <td>Federated States of Micronesia</td>\n      <td>Chuuk</td>\n      <td>1245.00</td>\n    </tr>\n    <tr>\n      <th>2</th>\n      <td>1450</td>\n      <td>2003-01-06T00:00:00.000Z</td>\n      <td>Severe Ice Storm</td>\n      <td>Arkansas</td>\n      <td>Clay</td>\n      <td>2482.43</td>\n    </tr>\n    <tr>\n      <th>3</th>\n      <td>1449</td>\n      <td>2003-01-06T00:00:00.000Z</td>\n      <td>Typhoon</td>\n      <td>Federated States of Micronesia</td>\n      <td>Chuuk</td>\n      <td>14322.98</td>\n    </tr>\n    <tr>\n      <th>4</th>\n      <td>1449</td>\n      <td>2003-01-06T00:00:00.000Z</td>\n      <td>Typhoon</td>\n      <td>Federated States of Micronesia</td>\n      <td>Chuuk</td>\n      <td>30429.71</td>\n    </tr>\n  </tbody>\n</table>\n</div>",
      "text/plain": "   disasterNumber           declarationDate      incidentType  \\\n0            1449  2003-01-06T00:00:00.000Z           Typhoon   \n1            1449  2003-01-06T00:00:00.000Z           Typhoon   \n2            1450  2003-01-06T00:00:00.000Z  Severe Ice Storm   \n3            1449  2003-01-06T00:00:00.000Z           Typhoon   \n4            1449  2003-01-06T00:00:00.000Z           Typhoon   \n\n                            state county  federalObligatedAmount  \n0  Federated States of Micronesia  Chuuk                39217.62  \n1  Federated States of Micronesia  Chuuk                 1245.00  \n2                        Arkansas   Clay                 2482.43  \n3  Federated States of Micronesia  Chuuk                14322.98  \n4  Federated States of Micronesia  Chuuk                30429.71  "
     },
     "execution_count": 250,
     "metadata": {},
     "output_type": "execute_result"
    }
   ],
   "source": [
    "#Create dataframe for the data\n",
    "service_df = pd.DataFrame(response['PublicAssistanceFundedProjectsSummaries'])\n",
    "service_df.head()\n",
    "#Remove API call id\n",
    "service_df = service_df.drop(axis=1, columns=['id'])\n",
    "service_df.head()"
   ]
  },
  {
   "cell_type": "code",
   "execution_count": 251,
   "metadata": {},
   "outputs": [],
   "source": [
    "#Remove non-states\n",
    "states = [\"Alabama\",\"Alaska\",\"Arizona\",\"Arkansas\",\"California\",\"Colorado\",\n",
    "  \"Connecticut\",\"Delaware\",\"Florida\",\"Georgia\",\"Hawaii\",\"Idaho\",\"Illinois\",\n",
    "  \"Indiana\",\"Iowa\",\"Kansas\",\"Kentucky\",\"Louisiana\",\"Maine\",\"Maryland\",\n",
    "  \"Massachusetts\",\"Michigan\",\"Minnesota\",\"Mississippi\",\"Missouri\",\"Montana\",\n",
    "  \"Nebraska\",\"Nevada\",\"New Hampshire\",\"New Jersey\",\"New Mexico\",\"New York\",\n",
    "  \"North Carolina\",\"North Dakota\",\"Ohio\",\"Oklahoma\",\"Oregon\",\"Pennsylvania\",\n",
    "  \"Rhode Island\",\"South Carolina\",\"South Dakota\",\"Tennessee\",\"Texas\",\"Utah\",\n",
    "  \"Vermont\",\"Virginia\",\"Washington\",\"West Virginia\",\"Wisconsin\",\"Wyoming\", \"District of Columbia (DC)\"]\n",
    "indexes_to_drop = []\n",
    "index = 0\n",
    "indexes = []\n",
    "while index + 1 < len(service_df):\n",
    "    row = service_df.iloc[index]\n",
    "    state = row['state']\n",
    "    if state not in states:\n",
    "        indexes.append(index)\n",
    "    index += 1\n",
    "service_df = service_df.drop(indexes)"
   ]
  },
  {
   "cell_type": "code",
   "execution_count": 252,
   "metadata": {},
   "outputs": [
    {
     "data": {
      "text/html": "<div>\n<style scoped>\n    .dataframe tbody tr th:only-of-type {\n        vertical-align: middle;\n    }\n\n    .dataframe tbody tr th {\n        vertical-align: top;\n    }\n\n    .dataframe thead th {\n        text-align: right;\n    }\n</style>\n<table border=\"1\" class=\"dataframe\">\n  <thead>\n    <tr style=\"text-align: right;\">\n      <th></th>\n      <th>disasterNumber</th>\n      <th>Year</th>\n      <th>incidentType</th>\n      <th>state</th>\n      <th>county</th>\n      <th>federalObligatedAmount</th>\n    </tr>\n  </thead>\n  <tbody>\n    <tr>\n      <th>2</th>\n      <td>1450</td>\n      <td>2003</td>\n      <td>Severe Ice Storm</td>\n      <td>Arkansas</td>\n      <td>Clay</td>\n      <td>2482.43</td>\n    </tr>\n    <tr>\n      <th>11</th>\n      <td>1450</td>\n      <td>2003</td>\n      <td>Severe Ice Storm</td>\n      <td>Arkansas</td>\n      <td>Clay</td>\n      <td>3825.00</td>\n    </tr>\n    <tr>\n      <th>21</th>\n      <td>1450</td>\n      <td>2003</td>\n      <td>Severe Ice Storm</td>\n      <td>Arkansas</td>\n      <td>Clay</td>\n      <td>53998.49</td>\n    </tr>\n    <tr>\n      <th>22</th>\n      <td>1450</td>\n      <td>2003</td>\n      <td>Severe Ice Storm</td>\n      <td>Arkansas</td>\n      <td>Clay</td>\n      <td>2549.25</td>\n    </tr>\n    <tr>\n      <th>23</th>\n      <td>1450</td>\n      <td>2003</td>\n      <td>Severe Ice Storm</td>\n      <td>Arkansas</td>\n      <td>Clay</td>\n      <td>32311.92</td>\n    </tr>\n  </tbody>\n</table>\n</div>",
      "text/plain": "    disasterNumber  Year      incidentType     state county  \\\n2             1450  2003  Severe Ice Storm  Arkansas   Clay   \n11            1450  2003  Severe Ice Storm  Arkansas   Clay   \n21            1450  2003  Severe Ice Storm  Arkansas   Clay   \n22            1450  2003  Severe Ice Storm  Arkansas   Clay   \n23            1450  2003  Severe Ice Storm  Arkansas   Clay   \n\n    federalObligatedAmount  \n2                  2482.43  \n11                 3825.00  \n21                53998.49  \n22                 2549.25  \n23                32311.92  "
     },
     "execution_count": 252,
     "metadata": {},
     "output_type": "execute_result"
    }
   ],
   "source": [
    "#Change date-time to years\n",
    "dates = service_df['declarationDate']\n",
    "years = []\n",
    "for date in dates:\n",
    "    year = date[0:4]\n",
    "    years.append(year)\n",
    "service_df['declarationDate'] = years\n",
    "service_df = service_df.rename(columns={'declarationDate':'Year'})\n",
    "service_df.head()"
   ]
  },
  {
   "cell_type": "code",
   "execution_count": null,
   "metadata": {},
   "outputs": [],
   "source": []
  }
 ]
}