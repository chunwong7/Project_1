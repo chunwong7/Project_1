{
 "nbformat": 4,
 "nbformat_minor": 2,
 "metadata": {
  "language_info": {
   "name": "python",
   "codemirror_mode": {
    "name": "ipython",
    "version": 3
   },
   "version": "3.7.4-final"
  },
  "orig_nbformat": 2,
  "file_extension": ".py",
  "mimetype": "text/x-python",
  "name": "python",
  "npconvert_exporter": "python",
  "pygments_lexer": "ipython3",
  "version": 3,
  "kernelspec": {
   "name": "python37464bitbaseconda4a6a9ca8a5d44f3db2ab7a1db0eb01c7",
   "display_name": "Python 3.7.4 64-bit ('base': conda)"
  }
 },
 "cells": [
  {
   "cell_type": "code",
   "execution_count": 1,
   "metadata": {},
   "outputs": [],
   "source": [
    "import pandas as pd"
   ]
  },
  {
   "cell_type": "code",
   "execution_count": 13,
   "metadata": {},
   "outputs": [
    {
     "data": {
      "text/html": "<div>\n<style scoped>\n    .dataframe tbody tr th:only-of-type {\n        vertical-align: middle;\n    }\n\n    .dataframe tbody tr th {\n        vertical-align: top;\n    }\n\n    .dataframe thead th {\n        text-align: right;\n    }\n</style>\n<table border=\"1\" class=\"dataframe\">\n  <thead>\n    <tr style=\"text-align: right;\">\n      <th></th>\n      <th>State FIPS</th>\n      <th>County FIPS</th>\n      <th>Postal Code</th>\n      <th>Name</th>\n      <th>Poverty Estimate All Ages</th>\n      <th>90% CI Lower Bound</th>\n      <th>90% CI Upper Bound</th>\n      <th>Poverty Percent All Ages</th>\n      <th>90% CI Lower Bound.1</th>\n      <th>90% CI Upper Bound.1</th>\n      <th>...</th>\n      <th>90% CI Upper Bound.5</th>\n      <th>Median Household Income</th>\n      <th>90% CI Lower Bound.6</th>\n      <th>90% CI Upper Bound.6</th>\n      <th>Poverty Estimate Ages 0-4</th>\n      <th>90% CI Lower Bound.7</th>\n      <th>90% CI Upper Bound.7</th>\n      <th>Poverty Percent Ages 0-4</th>\n      <th>90% CI Lower Bound.8</th>\n      <th>90% CI Upper Bound.8</th>\n    </tr>\n  </thead>\n  <tbody>\n    <tr>\n      <td>0</td>\n      <td>0</td>\n      <td>0</td>\n      <td>US</td>\n      <td>United States</td>\n      <td>35861170</td>\n      <td>35190401</td>\n      <td>36531939</td>\n      <td>12.5</td>\n      <td>12.2</td>\n      <td>12.7</td>\n      <td>...</td>\n      <td>16.6</td>\n      <td>43318</td>\n      <td>43009</td>\n      <td>43627</td>\n      <td>4021366.0</td>\n      <td>3817517.0</td>\n      <td>4225215.0</td>\n      <td>20.3</td>\n      <td>19.3</td>\n      <td>21.4</td>\n    </tr>\n    <tr>\n      <td>1</td>\n      <td>1</td>\n      <td>0</td>\n      <td>AL</td>\n      <td>Alabama</td>\n      <td>677455</td>\n      <td>644647</td>\n      <td>710263</td>\n      <td>15.3</td>\n      <td>14.5</td>\n      <td>16</td>\n      <td>...</td>\n      <td>22.5</td>\n      <td>36131</td>\n      <td>34659</td>\n      <td>37602</td>\n      <td>72477.0</td>\n      <td>62361.0</td>\n      <td>82594.0</td>\n      <td>24.7</td>\n      <td>21.3</td>\n      <td>28.2</td>\n    </tr>\n    <tr>\n      <td>2</td>\n      <td>1</td>\n      <td>1</td>\n      <td>AL</td>\n      <td>Autauga County</td>\n      <td>4926</td>\n      <td>3815</td>\n      <td>6038</td>\n      <td>10.4</td>\n      <td>8.1</td>\n      <td>12.7</td>\n      <td>...</td>\n      <td>18.4</td>\n      <td>44241</td>\n      <td>41547</td>\n      <td>47109</td>\n      <td>NaN</td>\n      <td>NaN</td>\n      <td>NaN</td>\n      <td>NaN</td>\n      <td>NaN</td>\n      <td>NaN</td>\n    </tr>\n    <tr>\n      <td>3</td>\n      <td>1</td>\n      <td>3</td>\n      <td>AL</td>\n      <td>Baldwin County</td>\n      <td>15753</td>\n      <td>12234</td>\n      <td>19273</td>\n      <td>10.1</td>\n      <td>7.9</td>\n      <td>12.4</td>\n      <td>...</td>\n      <td>18</td>\n      <td>41961</td>\n      <td>39479</td>\n      <td>44600</td>\n      <td>NaN</td>\n      <td>NaN</td>\n      <td>NaN</td>\n      <td>NaN</td>\n      <td>NaN</td>\n      <td>NaN</td>\n    </tr>\n    <tr>\n      <td>4</td>\n      <td>1</td>\n      <td>5</td>\n      <td>AL</td>\n      <td>Barbour County</td>\n      <td>5717</td>\n      <td>4411</td>\n      <td>7022</td>\n      <td>22.2</td>\n      <td>17.1</td>\n      <td>27.3</td>\n      <td>...</td>\n      <td>37.9</td>\n      <td>26062</td>\n      <td>24432</td>\n      <td>27801</td>\n      <td>NaN</td>\n      <td>NaN</td>\n      <td>NaN</td>\n      <td>NaN</td>\n      <td>NaN</td>\n      <td>NaN</td>\n    </tr>\n    <tr>\n      <td>...</td>\n      <td>...</td>\n      <td>...</td>\n      <td>...</td>\n      <td>...</td>\n      <td>...</td>\n      <td>...</td>\n      <td>...</td>\n      <td>...</td>\n      <td>...</td>\n      <td>...</td>\n      <td>...</td>\n      <td>...</td>\n      <td>...</td>\n      <td>...</td>\n      <td>...</td>\n      <td>...</td>\n      <td>...</td>\n      <td>...</td>\n      <td>...</td>\n      <td>...</td>\n      <td>...</td>\n    </tr>\n    <tr>\n      <td>3188</td>\n      <td>56</td>\n      <td>37</td>\n      <td>WY</td>\n      <td>Sweetwater County</td>\n      <td>3192</td>\n      <td>2491</td>\n      <td>3894</td>\n      <td>8.6</td>\n      <td>6.7</td>\n      <td>10.5</td>\n      <td>...</td>\n      <td>11.1</td>\n      <td>52541</td>\n      <td>49470</td>\n      <td>55803</td>\n      <td>NaN</td>\n      <td>NaN</td>\n      <td>NaN</td>\n      <td>NaN</td>\n      <td>NaN</td>\n      <td>NaN</td>\n    </tr>\n    <tr>\n      <td>3189</td>\n      <td>56</td>\n      <td>39</td>\n      <td>WY</td>\n      <td>Teton County</td>\n      <td>1067</td>\n      <td>799</td>\n      <td>1335</td>\n      <td>5.6</td>\n      <td>4.2</td>\n      <td>7.1</td>\n      <td>...</td>\n      <td>8.6</td>\n      <td>57485</td>\n      <td>53397</td>\n      <td>61886</td>\n      <td>NaN</td>\n      <td>NaN</td>\n      <td>NaN</td>\n      <td>NaN</td>\n      <td>NaN</td>\n      <td>NaN</td>\n    </tr>\n    <tr>\n      <td>3190</td>\n      <td>56</td>\n      <td>41</td>\n      <td>WY</td>\n      <td>Uinta County</td>\n      <td>2063</td>\n      <td>1601</td>\n      <td>2525</td>\n      <td>10.6</td>\n      <td>8.2</td>\n      <td>12.9</td>\n      <td>...</td>\n      <td>12.2</td>\n      <td>48658</td>\n      <td>45744</td>\n      <td>51757</td>\n      <td>NaN</td>\n      <td>NaN</td>\n      <td>NaN</td>\n      <td>NaN</td>\n      <td>NaN</td>\n      <td>NaN</td>\n    </tr>\n    <tr>\n      <td>3191</td>\n      <td>56</td>\n      <td>43</td>\n      <td>WY</td>\n      <td>Washakie County</td>\n      <td>860</td>\n      <td>664</td>\n      <td>1055</td>\n      <td>11.0</td>\n      <td>8.5</td>\n      <td>13.5</td>\n      <td>...</td>\n      <td>17.7</td>\n      <td>40357</td>\n      <td>37887</td>\n      <td>42988</td>\n      <td>NaN</td>\n      <td>NaN</td>\n      <td>NaN</td>\n      <td>NaN</td>\n      <td>NaN</td>\n      <td>NaN</td>\n    </tr>\n    <tr>\n      <td>3192</td>\n      <td>56</td>\n      <td>45</td>\n      <td>WY</td>\n      <td>Weston County</td>\n      <td>630</td>\n      <td>486</td>\n      <td>774</td>\n      <td>9.8</td>\n      <td>7.6</td>\n      <td>12.1</td>\n      <td>...</td>\n      <td>12.3</td>\n      <td>39383</td>\n      <td>36854</td>\n      <td>42087</td>\n      <td>NaN</td>\n      <td>NaN</td>\n      <td>NaN</td>\n      <td>NaN</td>\n      <td>NaN</td>\n      <td>NaN</td>\n    </tr>\n  </tbody>\n</table>\n<p>3193 rows × 31 columns</p>\n</div>",
      "text/plain": "      State FIPS  County FIPS Postal Code               Name  \\\n0              0            0          US      United States   \n1              1            0          AL            Alabama   \n2              1            1          AL     Autauga County   \n3              1            3          AL     Baldwin County   \n4              1            5          AL     Barbour County   \n...          ...          ...         ...                ...   \n3188          56           37          WY  Sweetwater County   \n3189          56           39          WY       Teton County   \n3190          56           41          WY       Uinta County   \n3191          56           43          WY    Washakie County   \n3192          56           45          WY      Weston County   \n\n      Poverty Estimate All Ages 90% CI Lower Bound 90% CI Upper Bound  \\\n0                      35861170           35190401           36531939   \n1                        677455             644647             710263   \n2                          4926               3815               6038   \n3                         15753              12234              19273   \n4                          5717               4411               7022   \n...                         ...                ...                ...   \n3188                       3192               2491               3894   \n3189                       1067                799               1335   \n3190                       2063               1601               2525   \n3191                        860                664               1055   \n3192                        630                486                774   \n\n      Poverty Percent All Ages 90% CI Lower Bound.1 90% CI Upper Bound.1  ...  \\\n0                         12.5                 12.2                 12.7  ...   \n1                         15.3                 14.5                   16  ...   \n2                         10.4                  8.1                 12.7  ...   \n3                         10.1                  7.9                 12.4  ...   \n4                         22.2                 17.1                 27.3  ...   \n...                        ...                  ...                  ...  ...   \n3188                       8.6                  6.7                 10.5  ...   \n3189                       5.6                  4.2                  7.1  ...   \n3190                      10.6                  8.2                 12.9  ...   \n3191                      11.0                  8.5                 13.5  ...   \n3192                       9.8                  7.6                 12.1  ...   \n\n      90% CI Upper Bound.5 Median Household Income 90% CI Lower Bound.6  \\\n0                     16.6                   43318                43009   \n1                     22.5                   36131                34659   \n2                     18.4                   44241                41547   \n3                       18                   41961                39479   \n4                     37.9                   26062                24432   \n...                    ...                     ...                  ...   \n3188                  11.1                   52541                49470   \n3189                   8.6                   57485                53397   \n3190                  12.2                   48658                45744   \n3191                  17.7                   40357                37887   \n3192                  12.3                   39383                36854   \n\n      90% CI Upper Bound.6 Poverty Estimate Ages 0-4 90% CI Lower Bound.7  \\\n0                    43627                 4021366.0            3817517.0   \n1                    37602                   72477.0              62361.0   \n2                    47109                       NaN                  NaN   \n3                    44600                       NaN                  NaN   \n4                    27801                       NaN                  NaN   \n...                    ...                       ...                  ...   \n3188                 55803                       NaN                  NaN   \n3189                 61886                       NaN                  NaN   \n3190                 51757                       NaN                  NaN   \n3191                 42988                       NaN                  NaN   \n3192                 42087                       NaN                  NaN   \n\n      90% CI Upper Bound.7 Poverty Percent Ages 0-4 90% CI Lower Bound.8  \\\n0                4225215.0                     20.3                 19.3   \n1                  82594.0                     24.7                 21.3   \n2                      NaN                      NaN                  NaN   \n3                      NaN                      NaN                  NaN   \n4                      NaN                      NaN                  NaN   \n...                    ...                      ...                  ...   \n3188                   NaN                      NaN                  NaN   \n3189                   NaN                      NaN                  NaN   \n3190                   NaN                      NaN                  NaN   \n3191                   NaN                      NaN                  NaN   \n3192                   NaN                      NaN                  NaN   \n\n      90% CI Upper Bound.8  \n0                     21.4  \n1                     28.2  \n2                      NaN  \n3                      NaN  \n4                      NaN  \n...                    ...  \n3188                   NaN  \n3189                   NaN  \n3190                   NaN  \n3191                   NaN  \n3192                   NaN  \n\n[3193 rows x 31 columns]"
     },
     "execution_count": 13,
     "metadata": {},
     "output_type": "execute_result"
    }
   ],
   "source": [
    "years = range(3, 19)\n",
    "year_dfs = []\n",
    "for year in years:\n",
    "    year = str(year)\n",
    "    if len(year) == 1:\n",
    "        year = f'0{year}'\n",
    "    df = pd.read_csv('sapie_data_csv/est03all.csv', header=1)\n",
    "    year_dfs.append(df)\n",
    "year_dfs[0]"
   ]
  },
  {
   "cell_type": "code",
   "execution_count": null,
   "metadata": {},
   "outputs": [],
   "source": []
  }
 ]
}